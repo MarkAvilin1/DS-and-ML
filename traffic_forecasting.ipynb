{
  "nbformat": 4,
  "nbformat_minor": 0,
  "metadata": {
    "colab": {
      "name": "traffic_forecasting.ipynb",
      "provenance": [],
      "authorship_tag": "ABX9TyOyUxcGgFkyjTPAQstrNi6D",
      "include_colab_link": true
    },
    "kernelspec": {
      "name": "python3",
      "display_name": "Python 3"
    },
    "language_info": {
      "name": "python"
    }
  },
  "cells": [
    {
      "cell_type": "markdown",
      "metadata": {
        "id": "view-in-github",
        "colab_type": "text"
      },
      "source": [
        "<a href=\"https://colab.research.google.com/github/MarkAvilin1/DS-and-ML/blob/main/traffic_forecasting.ipynb\" target=\"_parent\"><img src=\"https://colab.research.google.com/assets/colab-badge.svg\" alt=\"Open In Colab\"/></a>"
      ]
    },
    {
      "cell_type": "markdown",
      "metadata": {
        "id": "bqeJh94EG99P"
      },
      "source": [
        "**#Задание Ultra pro**\n",
        "\n",
        "модель для прогнозирования трафика. "
      ]
    },
    {
      "cell_type": "code",
      "metadata": {
        "id": "do33yhHxG6TL"
      },
      "source": [
        "import numpy as np \n",
        "import pandas as pd \n",
        "from google.colab import drive\n",
        "import matplotlib.pyplot as plt \n",
        "from tensorflow.keras.utils import to_categorical\n",
        "from tensorflow.keras.optimizers import Adam \n",
        "from tensorflow.keras.models import Sequential, Model \n",
        "from tensorflow.keras.layers import concatenate, Input, Dense, Dropout, BatchNormalization, Flatten, Conv1D, Conv2D, LSTM, GlobalMaxPooling1D, MaxPooling1D, RepeatVector\n",
        "from sklearn.preprocessing import StandardScaler, RobustScaler, MinMaxScaler\n",
        "from tensorflow.keras.preprocessing.sequence import TimeseriesGenerator \n",
        "\n",
        "import warnings\n",
        "warnings.filterwarnings(\"ignore\")\n",
        "# Рисовать графики сразу же\n",
        "%matplotlib inline"
      ],
      "execution_count": null,
      "outputs": []
    },
    {
      "cell_type": "code",
      "metadata": {
        "colab": {
          "base_uri": "https://localhost:8080/"
        },
        "id": "xhNociX2HuRv",
        "outputId": "8bbf1967-b740-4d0f-a073-a38caa480247"
      },
      "source": [
        "drive.mount('/content/drive')"
      ],
      "execution_count": null,
      "outputs": [
        {
          "output_type": "stream",
          "text": [
            "Mounted at /content/drive\n"
          ],
          "name": "stdout"
        }
      ]
    },
    {
      "cell_type": "code",
      "metadata": {
        "colab": {
          "base_uri": "https://localhost:8080/"
        },
        "id": "ivqSMXoNIfp-",
        "outputId": "70729401-01fb-4342-d835-8041ab1b8e78"
      },
      "source": [
        "df = pd.read_csv('/content/drive/MyDrive/University AI/traff.csv')\n",
        "print(df.columns)\n",
        "print(df.head())"
      ],
      "execution_count": null,
      "outputs": [
        {
          "output_type": "stream",
          "text": [
            "Index(['1/1/2017', '22,226.00'], dtype='object')\n",
            "   1/1/2017  22,226.00\n",
            "0  1/2/2017  29,593.00\n",
            "1  1/3/2017  31,726.00\n",
            "2  1/4/2017  32,684.00\n",
            "3  1/5/2017  31,820.00\n",
            "4  1/6/2017  29,354.00\n"
          ],
          "name": "stdout"
        }
      ]
    },
    {
      "cell_type": "code",
      "metadata": {
        "colab": {
          "base_uri": "https://localhost:8080/"
        },
        "id": "Gzb0Fltmx_5a",
        "outputId": "6feb4d5d-b872-4e4a-fb99-e2c3f5a49917"
      },
      "source": [
        "df.columns = ['time', 'close']\n",
        "\n",
        "for j in range(df.shape[1]):  \n",
        "    for i in range(df.shape[0]): \n",
        "            df.values[i][j] = df.values[i][j].split('.')[0]\n",
        "            df.values[i][j] = df.values[i][j].replace(\",\",\".\")\n",
        "\n",
        "df['close'] = df['close'].astype(float)\n",
        "\n",
        "print(df.columns)\n",
        "print(df.head())"
      ],
      "execution_count": null,
      "outputs": [
        {
          "output_type": "stream",
          "text": [
            "Index(['time', 'close'], dtype='object')\n",
            "       time   close\n",
            "0  1/2/2017  29.593\n",
            "1  1/3/2017  31.726\n",
            "2  1/4/2017  32.684\n",
            "3  1/5/2017  31.820\n",
            "4  1/6/2017  29.354\n"
          ],
          "name": "stdout"
        }
      ]
    },
    {
      "cell_type": "code",
      "metadata": {
        "colab": {
          "base_uri": "https://localhost:8080/"
        },
        "id": "Sjkplt0hE_dz",
        "outputId": "5d75dcf7-a6cd-4cec-a5b0-02be1d5d6b51"
      },
      "source": [
        "print(df.columns)\n",
        "print(df.head())\n",
        "print(type(df['close'][0]))"
      ],
      "execution_count": null,
      "outputs": [
        {
          "output_type": "stream",
          "text": [
            "Index(['time', 'close'], dtype='object')\n",
            "       time   close\n",
            "0  1/2/2017  29.593\n",
            "1  1/3/2017  31.726\n",
            "2  1/4/2017  32.684\n",
            "3  1/5/2017  31.820\n",
            "4  1/6/2017  29.354\n",
            "<class 'numpy.float64'>\n"
          ],
          "name": "stdout"
        }
      ]
    },
    {
      "cell_type": "code",
      "metadata": {
        "id": "JDcilmEjZagK"
      },
      "source": [
        "xLen = 60\n",
        "n_steps = 1\n",
        "forvard_lag = 1"
      ],
      "execution_count": null,
      "outputs": []
    },
    {
      "cell_type": "code",
      "metadata": {
        "colab": {
          "base_uri": "https://localhost:8080/"
        },
        "id": "aYAwF9_lg0Ce",
        "outputId": "a2b7aae2-1743-44a6-a926-cdf22c2cf130"
      },
      "source": [
        "for i in range(1, xLen + 1):\n",
        "  indicator_name = f'delta{i}'\n",
        "  df[indicator_name] = df['close'].pct_change(i)\n",
        "\n",
        "print(df.shape)\n",
        "print(df.head())"
      ],
      "execution_count": null,
      "outputs": [
        {
          "output_type": "stream",
          "text": [
            "(1094, 62)\n",
            "       time   close    delta1    delta2  ...  delta57  delta58  delta59  delta60\n",
            "0  1/2/2017  29.593       NaN       NaN  ...      NaN      NaN      NaN      NaN\n",
            "1  1/3/2017  31.726  0.072078       NaN  ...      NaN      NaN      NaN      NaN\n",
            "2  1/4/2017  32.684  0.030196  0.104450  ...      NaN      NaN      NaN      NaN\n",
            "3  1/5/2017  31.820 -0.026435  0.002963  ...      NaN      NaN      NaN      NaN\n",
            "4  1/6/2017  29.354 -0.077498 -0.101885  ...      NaN      NaN      NaN      NaN\n",
            "\n",
            "[5 rows x 62 columns]\n"
          ],
          "name": "stdout"
        }
      ]
    },
    {
      "cell_type": "code",
      "metadata": {
        "colab": {
          "base_uri": "https://localhost:8080/"
        },
        "id": "P7ckAIybF4gk",
        "outputId": "607b2fa6-f371-44ab-e42a-905094133331"
      },
      "source": [
        "for i in range(1, xLen + 1):\n",
        "  indicator_name = f'delta{i}'\n",
        "  indicator_name_new = f'Y{i}'\n",
        "  df[indicator_name_new] = 0\n",
        "  df.loc[df[indicator_name] > 0 , indicator_name_new] = 1\n",
        "\n",
        "for i in range(1, xLen + 1):\n",
        "  del df[f'delta{i}']\n",
        "\n",
        "del df['time']\n",
        "\n",
        "print(df.shape)\n",
        "print(df.head())"
      ],
      "execution_count": null,
      "outputs": [
        {
          "output_type": "stream",
          "text": [
            "(1094, 61)\n",
            "    close  Y1  Y2  Y3  Y4  Y5  Y6  Y7  ...  Y53  Y54  Y55  Y56  Y57  Y58  Y59  Y60\n",
            "0  29.593   0   0   0   0   0   0   0  ...    0    0    0    0    0    0    0    0\n",
            "1  31.726   1   0   0   0   0   0   0  ...    0    0    0    0    0    0    0    0\n",
            "2  32.684   1   1   0   0   0   0   0  ...    0    0    0    0    0    0    0    0\n",
            "3  31.820   0   1   1   0   0   0   0  ...    0    0    0    0    0    0    0    0\n",
            "4  29.354   0   0   0   0   0   0   0  ...    0    0    0    0    0    0    0    0\n",
            "\n",
            "[5 rows x 61 columns]\n"
          ],
          "name": "stdout"
        }
      ]
    },
    {
      "cell_type": "code",
      "metadata": {
        "colab": {
          "base_uri": "https://localhost:8080/"
        },
        "id": "9-aQzNhWITTc",
        "outputId": "343699e8-5fbd-490b-93d2-9813e51482d5"
      },
      "source": [
        "data_Y = df[f\"Y{xLen}\"]\n",
        "data_Y[:5]"
      ],
      "execution_count": null,
      "outputs": [
        {
          "output_type": "execute_result",
          "data": {
            "text/plain": [
              "0    0\n",
              "1    0\n",
              "2    0\n",
              "3    0\n",
              "4    0\n",
              "Name: Y60, dtype: int64"
            ]
          },
          "metadata": {},
          "execution_count": 59
        }
      ]
    },
    {
      "cell_type": "code",
      "metadata": {
        "colab": {
          "base_uri": "https://localhost:8080/"
        },
        "id": "B3wVxKifIvLn",
        "outputId": "b461c7d3-7c38-4904-deb9-15d9a49dafaf"
      },
      "source": [
        "categorical_labels = to_categorical(data_Y, num_classes=2)\n",
        "print(len(categorical_labels))\n",
        "categorical_labels[:5]"
      ],
      "execution_count": null,
      "outputs": [
        {
          "output_type": "stream",
          "text": [
            "1094\n"
          ],
          "name": "stdout"
        },
        {
          "output_type": "execute_result",
          "data": {
            "text/plain": [
              "array([[1., 0.],\n",
              "       [1., 0.],\n",
              "       [1., 0.],\n",
              "       [1., 0.],\n",
              "       [1., 0.]], dtype=float32)"
            ]
          },
          "metadata": {},
          "execution_count": 60
        }
      ]
    },
    {
      "cell_type": "code",
      "metadata": {
        "colab": {
          "base_uri": "https://localhost:8080/"
        },
        "id": "9sJ21tjMI3ic",
        "outputId": "c078a148-8489-42e2-ce80-6656a4e55961"
      },
      "source": [
        "n_train = 200\n",
        "xTrain = df[: -n_train - n_steps]\n",
        "xTest = df[-n_train: ]\n",
        "yTrain = categorical_labels[: -n_train - n_steps]\n",
        "yTest = categorical_labels[-n_train: ]\n",
        "\n",
        "print('xTrain: ', xTrain.shape, '\\tyTrain:', yTrain.shape,\n",
        "      '\\nxTest:  ', xTest.shape, '\\tyTest: ', yTest.shape)\n",
        "xTrain.shape[0] + xTest.shape[0]"
      ],
      "execution_count": null,
      "outputs": [
        {
          "output_type": "stream",
          "text": [
            "xTrain:  (893, 61) \tyTrain: (893, 2) \n",
            "xTest:   (200, 61) \tyTest:  (200, 2)\n"
          ],
          "name": "stdout"
        },
        {
          "output_type": "execute_result",
          "data": {
            "text/plain": [
              "1093"
            ]
          },
          "metadata": {},
          "execution_count": 63
        }
      ]
    },
    {
      "cell_type": "code",
      "metadata": {
        "colab": {
          "base_uri": "https://localhost:8080/"
        },
        "id": "_qfi97LRJyjv",
        "outputId": "54dadf8a-b258-43c8-f6e4-1d29d7e04ed1"
      },
      "source": [
        "xScaler = StandardScaler()\n",
        "xScaler.fit(xTrain)\n",
        "xTrain = xScaler.transform(xTrain)\n",
        "xTest = xScaler.transform(xTest)\n",
        "\n",
        "print(xTrain.shape, xTest.shape, type(xTrain))\n",
        "xTest[-1:]"
      ],
      "execution_count": null,
      "outputs": [
        {
          "output_type": "stream",
          "text": [
            "(893, 61) (200, 61) <class 'numpy.ndarray'>\n"
          ],
          "name": "stdout"
        },
        {
          "output_type": "execute_result",
          "data": {
            "text/plain": [
              "array([[ 1.4786201 , -0.78224891, -0.85476322, -0.91512216, -1.03999283,\n",
              "        -1.09028688, -1.0283986 , -0.98114085, -0.87853594, -0.86461195,\n",
              "        -0.896683  ,  1.03533847, -0.97238561, -0.93177295, -0.9486833 ,\n",
              "        -0.88858267, -0.85084559, -0.86659125,  1.09275029, -0.91718979,\n",
              "        -0.88455363, -0.88455363, -0.86659125, -0.86263586, -0.86461195,\n",
              "         1.10766993,  1.12029037,  1.14868643, -0.85476322, -0.85672667,\n",
              "        -0.87254869, -0.86263586, -0.88053842, -0.87254869, -0.84499202,\n",
              "        -0.83722899, -0.83336496, -0.84499202, -0.84110462,  1.18072091,\n",
              "         1.18072091,  1.2083274 ,  1.23393633, -0.82375447, -0.82951235,\n",
              "        -0.83529554,  1.20273661,  1.19166027,  1.20552756,  1.2310536 ,\n",
              "        -0.8066269 , -0.79908204, -0.81802132,  1.19441636,  1.19166027,\n",
              "         1.18617372, -0.80851945, -0.78597304, -0.79157679, -0.81231232,\n",
              "         1.21113617]])"
            ]
          },
          "metadata": {},
          "execution_count": 65
        }
      ]
    },
    {
      "cell_type": "code",
      "metadata": {
        "id": "cJjqXGBbKXWt"
      },
      "source": [
        "def split_sequence(sequence, Y, n_steps, forvard_lag):\n",
        "  X, y = list(), list()\n",
        "  for i in range(len(sequence)):\n",
        "    end_ix = i + n_steps # находим конечный индекс строки\n",
        "    if end_ix + (forvard_lag-1) > len(sequence)-1: # проверяем, чтобы не выйти за пределы массива\n",
        "      break \n",
        "    seq_x, seq_y = sequence[i:end_ix], Y[end_ix + (forvard_lag - 1)]\n",
        "    X.append(seq_x)\n",
        "    y.append(seq_y) # тк предсказываем только Close\n",
        "  return np.array(X), np.array(y)"
      ],
      "execution_count": null,
      "outputs": []
    },
    {
      "cell_type": "code",
      "metadata": {
        "id": "S_TLXpJ2XOla"
      },
      "source": [
        "for i in [forvard_lag]:\n",
        "  xTrain, yTrain = split_sequence(xTrain, yTrain, n_steps, forvard_lag=i)\n",
        "\n",
        "for i in [forvard_lag]:\n",
        "  xTest, yTest = split_sequence(xTest, yTest, n_steps, forvard_lag=i)"
      ],
      "execution_count": null,
      "outputs": []
    },
    {
      "cell_type": "code",
      "metadata": {
        "id": "v8cdWSoZYGl1"
      },
      "source": [
        "drop = 0.5\n",
        "input = Input(shape=(xTrain.shape[1], xTrain.shape[2]))\n",
        "x = Flatten()(input)\n",
        "x = RepeatVector(4)(x)\n",
        "x = Conv1D(n_steps*2, 5, padding='same', activation='relu')(x)\n",
        "x = MaxPooling1D(pool_size=2)(x)\n",
        "x = Flatten()(x)\n",
        "x = RepeatVector(4)(x)\n",
        "x = Conv1D(n_steps, 5, padding='same', activation='relu')(x)\n",
        "x = MaxPooling1D(pool_size=2)(x)\n",
        "x = Flatten()(x)\n",
        "x = Dense(n_steps*100, activation='elu')(x)\n",
        "x = Dropout(drop)(x)\n",
        "x = Dense(n_steps*400, activation='elu')(x)\n",
        "x = Dropout(drop)(x)\n",
        "x = Dense(n_steps*500, activation='relu')(x)\n",
        "x = Dense(yTrain.shape[1], activation='sigmoid')(x)\n",
        "model = Model(input, x)"
      ],
      "execution_count": null,
      "outputs": []
    },
    {
      "cell_type": "code",
      "metadata": {
        "colab": {
          "base_uri": "https://localhost:8080/"
        },
        "id": "xpTslqxVYVkN",
        "outputId": "8df29bfe-0ffe-419c-f6b7-cfddf802132c"
      },
      "source": [
        "model.compile(optimizer=Adam(learning_rate = 5e-05),\n",
        "              loss='binary_crossentropy',\n",
        "              metrics=['accuracy'])\n",
        "\n",
        "history = model.fit(xTrain, yTrain, epochs=100, verbose = 1,\n",
        "                    validation_data=(xTest, yTest))"
      ],
      "execution_count": null,
      "outputs": [
        {
          "output_type": "stream",
          "text": [
            "Epoch 1/100\n",
            "28/28 [==============================] - 1s 16ms/step - loss: 0.7046 - accuracy: 0.4910 - val_loss: 0.6436 - val_accuracy: 0.9045\n",
            "Epoch 2/100\n",
            "28/28 [==============================] - 0s 9ms/step - loss: 0.6942 - accuracy: 0.5381 - val_loss: 0.6300 - val_accuracy: 0.9095\n",
            "Epoch 3/100\n",
            "28/28 [==============================] - 0s 9ms/step - loss: 0.6898 - accuracy: 0.5258 - val_loss: 0.5728 - val_accuracy: 0.9095\n",
            "Epoch 4/100\n",
            "28/28 [==============================] - 0s 9ms/step - loss: 0.6683 - accuracy: 0.5717 - val_loss: 0.4764 - val_accuracy: 0.9146\n",
            "Epoch 5/100\n",
            "28/28 [==============================] - 0s 9ms/step - loss: 0.6389 - accuracy: 0.6491 - val_loss: 0.3965 - val_accuracy: 0.9146\n",
            "Epoch 6/100\n",
            "28/28 [==============================] - 0s 10ms/step - loss: 0.6111 - accuracy: 0.6984 - val_loss: 0.3466 - val_accuracy: 0.9146\n",
            "Epoch 7/100\n",
            "28/28 [==============================] - 0s 10ms/step - loss: 0.5993 - accuracy: 0.7231 - val_loss: 0.3266 - val_accuracy: 0.9146\n",
            "Epoch 8/100\n",
            "28/28 [==============================] - 0s 9ms/step - loss: 0.5803 - accuracy: 0.7590 - val_loss: 0.3158 - val_accuracy: 0.9146\n",
            "Epoch 9/100\n",
            "28/28 [==============================] - 0s 9ms/step - loss: 0.5677 - accuracy: 0.7780 - val_loss: 0.2949 - val_accuracy: 0.9095\n",
            "Epoch 10/100\n",
            "28/28 [==============================] - 0s 10ms/step - loss: 0.5518 - accuracy: 0.7960 - val_loss: 0.2972 - val_accuracy: 0.9095\n",
            "Epoch 11/100\n",
            "28/28 [==============================] - 0s 9ms/step - loss: 0.5438 - accuracy: 0.8117 - val_loss: 0.2872 - val_accuracy: 0.9095\n",
            "Epoch 12/100\n",
            "28/28 [==============================] - 0s 11ms/step - loss: 0.5238 - accuracy: 0.8083 - val_loss: 0.2821 - val_accuracy: 0.8995\n",
            "Epoch 13/100\n",
            "28/28 [==============================] - 0s 9ms/step - loss: 0.5134 - accuracy: 0.8229 - val_loss: 0.2747 - val_accuracy: 0.8995\n",
            "Epoch 14/100\n",
            "28/28 [==============================] - 0s 9ms/step - loss: 0.4957 - accuracy: 0.8307 - val_loss: 0.2790 - val_accuracy: 0.8995\n",
            "Epoch 15/100\n",
            "28/28 [==============================] - 0s 10ms/step - loss: 0.4727 - accuracy: 0.8475 - val_loss: 0.2669 - val_accuracy: 0.8995\n",
            "Epoch 16/100\n",
            "28/28 [==============================] - 0s 10ms/step - loss: 0.4619 - accuracy: 0.8408 - val_loss: 0.2671 - val_accuracy: 0.8945\n",
            "Epoch 17/100\n",
            "28/28 [==============================] - 0s 9ms/step - loss: 0.4424 - accuracy: 0.8531 - val_loss: 0.2605 - val_accuracy: 0.8945\n",
            "Epoch 18/100\n",
            "28/28 [==============================] - 0s 9ms/step - loss: 0.4334 - accuracy: 0.8599 - val_loss: 0.2588 - val_accuracy: 0.8995\n",
            "Epoch 19/100\n",
            "28/28 [==============================] - 0s 10ms/step - loss: 0.4075 - accuracy: 0.8700 - val_loss: 0.2539 - val_accuracy: 0.8995\n",
            "Epoch 20/100\n",
            "28/28 [==============================] - 0s 10ms/step - loss: 0.3935 - accuracy: 0.8543 - val_loss: 0.2546 - val_accuracy: 0.8945\n",
            "Epoch 21/100\n",
            "28/28 [==============================] - 0s 9ms/step - loss: 0.3793 - accuracy: 0.8688 - val_loss: 0.2517 - val_accuracy: 0.8995\n",
            "Epoch 22/100\n",
            "28/28 [==============================] - 0s 9ms/step - loss: 0.3702 - accuracy: 0.8643 - val_loss: 0.2467 - val_accuracy: 0.8995\n",
            "Epoch 23/100\n",
            "28/28 [==============================] - 0s 10ms/step - loss: 0.3596 - accuracy: 0.8666 - val_loss: 0.2524 - val_accuracy: 0.8945\n",
            "Epoch 24/100\n",
            "28/28 [==============================] - 0s 9ms/step - loss: 0.3469 - accuracy: 0.8677 - val_loss: 0.2426 - val_accuracy: 0.8995\n",
            "Epoch 25/100\n",
            "28/28 [==============================] - 0s 10ms/step - loss: 0.3382 - accuracy: 0.8767 - val_loss: 0.2395 - val_accuracy: 0.9095\n",
            "Epoch 26/100\n",
            "28/28 [==============================] - 0s 10ms/step - loss: 0.3427 - accuracy: 0.8756 - val_loss: 0.2377 - val_accuracy: 0.9146\n",
            "Epoch 27/100\n",
            "28/28 [==============================] - 0s 10ms/step - loss: 0.3257 - accuracy: 0.8733 - val_loss: 0.2395 - val_accuracy: 0.9196\n",
            "Epoch 28/100\n",
            "28/28 [==============================] - 0s 9ms/step - loss: 0.3272 - accuracy: 0.8756 - val_loss: 0.2376 - val_accuracy: 0.9196\n",
            "Epoch 29/100\n",
            "28/28 [==============================] - 0s 9ms/step - loss: 0.3147 - accuracy: 0.8767 - val_loss: 0.2335 - val_accuracy: 0.9196\n",
            "Epoch 30/100\n",
            "28/28 [==============================] - 0s 9ms/step - loss: 0.3107 - accuracy: 0.8857 - val_loss: 0.2371 - val_accuracy: 0.9196\n",
            "Epoch 31/100\n",
            "28/28 [==============================] - 0s 10ms/step - loss: 0.3088 - accuracy: 0.8868 - val_loss: 0.2333 - val_accuracy: 0.9146\n",
            "Epoch 32/100\n",
            "28/28 [==============================] - 0s 9ms/step - loss: 0.2998 - accuracy: 0.8812 - val_loss: 0.2309 - val_accuracy: 0.9146\n",
            "Epoch 33/100\n",
            "28/28 [==============================] - 0s 9ms/step - loss: 0.2994 - accuracy: 0.8812 - val_loss: 0.2320 - val_accuracy: 0.9146\n",
            "Epoch 34/100\n",
            "28/28 [==============================] - 0s 10ms/step - loss: 0.2967 - accuracy: 0.8823 - val_loss: 0.2361 - val_accuracy: 0.9146\n",
            "Epoch 35/100\n",
            "28/28 [==============================] - 0s 10ms/step - loss: 0.2999 - accuracy: 0.8823 - val_loss: 0.2335 - val_accuracy: 0.9146\n",
            "Epoch 36/100\n",
            "28/28 [==============================] - 0s 10ms/step - loss: 0.2915 - accuracy: 0.8901 - val_loss: 0.2314 - val_accuracy: 0.9196\n",
            "Epoch 37/100\n",
            "28/28 [==============================] - 0s 10ms/step - loss: 0.2914 - accuracy: 0.8913 - val_loss: 0.2299 - val_accuracy: 0.9246\n",
            "Epoch 38/100\n",
            "28/28 [==============================] - 0s 11ms/step - loss: 0.2903 - accuracy: 0.8913 - val_loss: 0.2337 - val_accuracy: 0.9246\n",
            "Epoch 39/100\n",
            "28/28 [==============================] - 0s 10ms/step - loss: 0.2852 - accuracy: 0.8946 - val_loss: 0.2268 - val_accuracy: 0.9246\n",
            "Epoch 40/100\n",
            "28/28 [==============================] - 0s 10ms/step - loss: 0.2808 - accuracy: 0.8935 - val_loss: 0.2235 - val_accuracy: 0.9246\n",
            "Epoch 41/100\n",
            "28/28 [==============================] - 0s 10ms/step - loss: 0.2798 - accuracy: 0.8913 - val_loss: 0.2409 - val_accuracy: 0.9196\n",
            "Epoch 42/100\n",
            "28/28 [==============================] - 0s 9ms/step - loss: 0.2679 - accuracy: 0.8991 - val_loss: 0.2306 - val_accuracy: 0.9296\n",
            "Epoch 43/100\n",
            "28/28 [==============================] - 0s 9ms/step - loss: 0.2773 - accuracy: 0.8924 - val_loss: 0.2293 - val_accuracy: 0.9246\n",
            "Epoch 44/100\n",
            "28/28 [==============================] - 0s 10ms/step - loss: 0.2768 - accuracy: 0.8957 - val_loss: 0.2290 - val_accuracy: 0.9296\n",
            "Epoch 45/100\n",
            "28/28 [==============================] - 0s 11ms/step - loss: 0.2706 - accuracy: 0.9013 - val_loss: 0.2322 - val_accuracy: 0.9296\n",
            "Epoch 46/100\n",
            "28/28 [==============================] - 0s 9ms/step - loss: 0.2610 - accuracy: 0.8991 - val_loss: 0.2338 - val_accuracy: 0.9296\n",
            "Epoch 47/100\n",
            "28/28 [==============================] - 0s 9ms/step - loss: 0.2637 - accuracy: 0.8946 - val_loss: 0.2355 - val_accuracy: 0.9246\n",
            "Epoch 48/100\n",
            "28/28 [==============================] - 0s 9ms/step - loss: 0.2697 - accuracy: 0.9036 - val_loss: 0.2300 - val_accuracy: 0.9347\n",
            "Epoch 49/100\n",
            "28/28 [==============================] - 0s 10ms/step - loss: 0.2598 - accuracy: 0.9002 - val_loss: 0.2276 - val_accuracy: 0.9347\n",
            "Epoch 50/100\n",
            "28/28 [==============================] - 0s 9ms/step - loss: 0.2598 - accuracy: 0.9081 - val_loss: 0.2341 - val_accuracy: 0.9347\n",
            "Epoch 51/100\n",
            "28/28 [==============================] - 0s 9ms/step - loss: 0.2619 - accuracy: 0.9002 - val_loss: 0.2353 - val_accuracy: 0.9347\n",
            "Epoch 52/100\n",
            "28/28 [==============================] - 0s 11ms/step - loss: 0.2609 - accuracy: 0.9025 - val_loss: 0.2340 - val_accuracy: 0.9397\n",
            "Epoch 53/100\n",
            "28/28 [==============================] - 0s 9ms/step - loss: 0.2570 - accuracy: 0.9070 - val_loss: 0.2360 - val_accuracy: 0.9397\n",
            "Epoch 54/100\n",
            "28/28 [==============================] - 0s 9ms/step - loss: 0.2524 - accuracy: 0.9036 - val_loss: 0.2354 - val_accuracy: 0.9397\n",
            "Epoch 55/100\n",
            "28/28 [==============================] - 0s 10ms/step - loss: 0.2526 - accuracy: 0.9013 - val_loss: 0.2340 - val_accuracy: 0.9397\n",
            "Epoch 56/100\n",
            "28/28 [==============================] - 0s 10ms/step - loss: 0.2516 - accuracy: 0.9025 - val_loss: 0.2284 - val_accuracy: 0.9397\n",
            "Epoch 57/100\n",
            "28/28 [==============================] - 0s 10ms/step - loss: 0.2535 - accuracy: 0.9058 - val_loss: 0.2332 - val_accuracy: 0.9397\n",
            "Epoch 58/100\n",
            "28/28 [==============================] - 0s 9ms/step - loss: 0.2493 - accuracy: 0.9092 - val_loss: 0.2371 - val_accuracy: 0.9397\n",
            "Epoch 59/100\n",
            "28/28 [==============================] - 0s 9ms/step - loss: 0.2462 - accuracy: 0.9047 - val_loss: 0.2368 - val_accuracy: 0.9397\n",
            "Epoch 60/100\n",
            "28/28 [==============================] - 0s 10ms/step - loss: 0.2479 - accuracy: 0.9047 - val_loss: 0.2353 - val_accuracy: 0.9397\n",
            "Epoch 61/100\n",
            "28/28 [==============================] - 0s 10ms/step - loss: 0.2510 - accuracy: 0.9025 - val_loss: 0.2410 - val_accuracy: 0.9397\n",
            "Epoch 62/100\n",
            "28/28 [==============================] - 0s 9ms/step - loss: 0.2396 - accuracy: 0.9159 - val_loss: 0.2368 - val_accuracy: 0.9397\n",
            "Epoch 63/100\n",
            "28/28 [==============================] - 0s 9ms/step - loss: 0.2415 - accuracy: 0.9137 - val_loss: 0.2362 - val_accuracy: 0.9347\n",
            "Epoch 64/100\n",
            "28/28 [==============================] - 0s 11ms/step - loss: 0.2368 - accuracy: 0.9081 - val_loss: 0.2348 - val_accuracy: 0.9397\n",
            "Epoch 65/100\n",
            "28/28 [==============================] - 0s 9ms/step - loss: 0.2400 - accuracy: 0.9103 - val_loss: 0.2413 - val_accuracy: 0.9347\n",
            "Epoch 66/100\n",
            "28/28 [==============================] - 0s 10ms/step - loss: 0.2354 - accuracy: 0.9103 - val_loss: 0.2408 - val_accuracy: 0.9347\n",
            "Epoch 67/100\n",
            "28/28 [==============================] - 0s 11ms/step - loss: 0.2309 - accuracy: 0.9137 - val_loss: 0.2313 - val_accuracy: 0.9347\n",
            "Epoch 68/100\n",
            "28/28 [==============================] - 0s 10ms/step - loss: 0.2304 - accuracy: 0.9126 - val_loss: 0.2344 - val_accuracy: 0.9347\n",
            "Epoch 69/100\n",
            "28/28 [==============================] - 0s 9ms/step - loss: 0.2292 - accuracy: 0.9193 - val_loss: 0.2332 - val_accuracy: 0.9347\n",
            "Epoch 70/100\n",
            "28/28 [==============================] - 0s 9ms/step - loss: 0.2272 - accuracy: 0.9103 - val_loss: 0.2340 - val_accuracy: 0.9347\n",
            "Epoch 71/100\n",
            "28/28 [==============================] - 0s 10ms/step - loss: 0.2328 - accuracy: 0.9148 - val_loss: 0.2362 - val_accuracy: 0.9347\n",
            "Epoch 72/100\n",
            "28/28 [==============================] - 0s 9ms/step - loss: 0.2231 - accuracy: 0.9148 - val_loss: 0.2336 - val_accuracy: 0.9347\n",
            "Epoch 73/100\n",
            "28/28 [==============================] - 0s 9ms/step - loss: 0.2251 - accuracy: 0.9126 - val_loss: 0.2373 - val_accuracy: 0.9347\n",
            "Epoch 74/100\n",
            "28/28 [==============================] - 0s 9ms/step - loss: 0.2263 - accuracy: 0.9137 - val_loss: 0.2405 - val_accuracy: 0.9347\n",
            "Epoch 75/100\n",
            "28/28 [==============================] - 0s 10ms/step - loss: 0.2259 - accuracy: 0.9092 - val_loss: 0.2352 - val_accuracy: 0.9347\n",
            "Epoch 76/100\n",
            "28/28 [==============================] - 0s 9ms/step - loss: 0.2191 - accuracy: 0.9170 - val_loss: 0.2318 - val_accuracy: 0.9347\n",
            "Epoch 77/100\n",
            "28/28 [==============================] - 0s 9ms/step - loss: 0.2181 - accuracy: 0.9170 - val_loss: 0.2320 - val_accuracy: 0.9347\n",
            "Epoch 78/100\n",
            "28/28 [==============================] - 0s 10ms/step - loss: 0.2141 - accuracy: 0.9126 - val_loss: 0.2332 - val_accuracy: 0.9347\n",
            "Epoch 79/100\n",
            "28/28 [==============================] - 0s 10ms/step - loss: 0.2183 - accuracy: 0.9137 - val_loss: 0.2375 - val_accuracy: 0.9347\n",
            "Epoch 80/100\n",
            "28/28 [==============================] - 0s 9ms/step - loss: 0.2176 - accuracy: 0.9103 - val_loss: 0.2333 - val_accuracy: 0.9347\n",
            "Epoch 81/100\n",
            "28/28 [==============================] - 0s 9ms/step - loss: 0.2170 - accuracy: 0.9159 - val_loss: 0.2339 - val_accuracy: 0.9347\n",
            "Epoch 82/100\n",
            "28/28 [==============================] - 0s 11ms/step - loss: 0.2088 - accuracy: 0.9170 - val_loss: 0.2367 - val_accuracy: 0.9347\n",
            "Epoch 83/100\n",
            "28/28 [==============================] - 0s 9ms/step - loss: 0.2050 - accuracy: 0.9193 - val_loss: 0.2315 - val_accuracy: 0.9347\n",
            "Epoch 84/100\n",
            "28/28 [==============================] - 0s 9ms/step - loss: 0.2138 - accuracy: 0.9182 - val_loss: 0.2330 - val_accuracy: 0.9347\n",
            "Epoch 85/100\n",
            "28/28 [==============================] - 0s 10ms/step - loss: 0.2130 - accuracy: 0.9182 - val_loss: 0.2396 - val_accuracy: 0.9347\n",
            "Epoch 86/100\n",
            "28/28 [==============================] - 0s 10ms/step - loss: 0.2129 - accuracy: 0.9204 - val_loss: 0.2381 - val_accuracy: 0.9347\n",
            "Epoch 87/100\n",
            "28/28 [==============================] - 0s 10ms/step - loss: 0.2060 - accuracy: 0.9193 - val_loss: 0.2354 - val_accuracy: 0.9397\n",
            "Epoch 88/100\n",
            "28/28 [==============================] - 0s 9ms/step - loss: 0.2080 - accuracy: 0.9170 - val_loss: 0.2340 - val_accuracy: 0.9397\n",
            "Epoch 89/100\n",
            "28/28 [==============================] - 0s 10ms/step - loss: 0.2050 - accuracy: 0.9193 - val_loss: 0.2336 - val_accuracy: 0.9397\n",
            "Epoch 90/100\n",
            "28/28 [==============================] - 0s 10ms/step - loss: 0.2063 - accuracy: 0.9215 - val_loss: 0.2344 - val_accuracy: 0.9397\n",
            "Epoch 91/100\n",
            "28/28 [==============================] - 0s 10ms/step - loss: 0.2072 - accuracy: 0.9238 - val_loss: 0.2356 - val_accuracy: 0.9397\n",
            "Epoch 92/100\n",
            "28/28 [==============================] - 0s 10ms/step - loss: 0.2074 - accuracy: 0.9182 - val_loss: 0.2452 - val_accuracy: 0.9397\n",
            "Epoch 93/100\n",
            "28/28 [==============================] - 0s 10ms/step - loss: 0.2040 - accuracy: 0.9170 - val_loss: 0.2365 - val_accuracy: 0.9397\n",
            "Epoch 94/100\n",
            "28/28 [==============================] - 0s 9ms/step - loss: 0.2053 - accuracy: 0.9204 - val_loss: 0.2348 - val_accuracy: 0.9397\n",
            "Epoch 95/100\n",
            "28/28 [==============================] - 0s 10ms/step - loss: 0.1981 - accuracy: 0.9226 - val_loss: 0.2415 - val_accuracy: 0.9397\n",
            "Epoch 96/100\n",
            "28/28 [==============================] - 0s 10ms/step - loss: 0.2003 - accuracy: 0.9204 - val_loss: 0.2373 - val_accuracy: 0.9397\n",
            "Epoch 97/100\n",
            "28/28 [==============================] - 0s 11ms/step - loss: 0.2002 - accuracy: 0.9226 - val_loss: 0.2372 - val_accuracy: 0.9397\n",
            "Epoch 98/100\n",
            "28/28 [==============================] - 0s 10ms/step - loss: 0.2011 - accuracy: 0.9260 - val_loss: 0.2392 - val_accuracy: 0.9447\n",
            "Epoch 99/100\n",
            "28/28 [==============================] - 0s 10ms/step - loss: 0.1965 - accuracy: 0.9283 - val_loss: 0.2431 - val_accuracy: 0.9447\n",
            "Epoch 100/100\n",
            "28/28 [==============================] - 0s 10ms/step - loss: 0.1958 - accuracy: 0.9226 - val_loss: 0.2394 - val_accuracy: 0.9447\n"
          ],
          "name": "stdout"
        }
      ]
    },
    {
      "cell_type": "code",
      "metadata": {
        "colab": {
          "base_uri": "https://localhost:8080/",
          "height": 513
        },
        "id": "5jZ5r-uNY2PK",
        "outputId": "e6f44e90-c060-49b1-e250-d47eab3cd972"
      },
      "source": [
        "plt.figure(figsize=(6,4))\n",
        "plt.plot(history.history['accuracy'], label='binary_accuracy')\n",
        "plt.plot(history.history['val_accuracy'], label='val_accuracy')\n",
        "plt.legend()\n",
        "plt.show()\n",
        "plt.plot(history.history['loss'], label='loss')\n",
        "plt.plot(history.history['val_loss'], label='val_loss')\n",
        "plt.legend()\n",
        "plt.show()"
      ],
      "execution_count": null,
      "outputs": [
        {
          "output_type": "display_data",
          "data": {
            "image/png": "[encoded data removed]",
            "text/plain": [
              "<Figure size 432x288 with 1 Axes>"
            ]
          },
          "metadata": {
            "needs_background": "light"
          }
        },
        {
          "output_type": "display_data",
          "data": {
            "image/png": "[encoded data removed]",
            "text/plain": [
              "<Figure size 432x288 with 1 Axes>"
            ]
          },
          "metadata": {
            "needs_background": "light"
          }
        }
      ]
    },
    {
      "cell_type": "code",
      "metadata": {
        "colab": {
          "base_uri": "https://localhost:8080/"
        },
        "id": "LhWCx73UY7Si",
        "outputId": "eb90cfbd-5b76-40ca-87d3-d5b33b0c7dbd"
      },
      "source": [
        "x_test = xTest[-200:]\n",
        "y_test_org = yTest[-200:]\n",
        "true_answer = 0\n",
        "for i in range(len(x_test)):  \n",
        "  x = x_test[i]\n",
        "  x = np.expand_dims(x, axis=0)\n",
        "  prediction = model.predict(x) \n",
        " \n",
        "  prediction = np.argmax(prediction) \n",
        "\n",
        "  if prediction == np.argmax(y_test_org[i]):\n",
        "    true_answer+=1\n",
        "  \n",
        "  print('Index:', i, '\\tPrediction:', prediction, 'Real:', np.argmax(y_test_org[i]),\n",
        "        '\\t====>', y_test_org[i])\n",
        "\n",
        "quality = f\"The quality is {int((true_answer / 200) * 100)} %\"\n",
        "\n",
        "print('Правильных ответов:', true_answer)\n",
        "print('Ошибочных ответов:', 200 - true_answer)\n",
        "print(quality)"
      ],
      "execution_count": null,
      "outputs": [
        {
          "output_type": "stream",
          "text": [
            "Index: 0 \tPrediction: 1 Real: 0 \t====> [1. 0.]\n",
            "Index: 1 \tPrediction: 1 Real: 1 \t====> [0. 1.]\n",
            "Index: 2 \tPrediction: 1 Real: 1 \t====> [0. 1.]\n",
            "Index: 3 \tPrediction: 1 Real: 1 \t====> [0. 1.]\n",
            "Index: 4 \tPrediction: 0 Real: 0 \t====> [1. 0.]\n",
            "Index: 5 \tPrediction: 0 Real: 0 \t====> [1. 0.]\n",
            "Index: 6 \tPrediction: 0 Real: 0 \t====> [1. 0.]\n",
            "Index: 7 \tPrediction: 1 Real: 1 \t====> [0. 1.]\n",
            "Index: 8 \tPrediction: 1 Real: 1 \t====> [0. 1.]\n",
            "Index: 9 \tPrediction: 1 Real: 1 \t====> [0. 1.]\n",
            "Index: 10 \tPrediction: 1 Real: 1 \t====> [0. 1.]\n",
            "Index: 11 \tPrediction: 1 Real: 1 \t====> [0. 1.]\n",
            "Index: 12 \tPrediction: 1 Real: 1 \t====> [0. 1.]\n",
            "Index: 13 \tPrediction: 1 Real: 1 \t====> [0. 1.]\n",
            "Index: 14 \tPrediction: 1 Real: 1 \t====> [0. 1.]\n",
            "Index: 15 \tPrediction: 1 Real: 1 \t====> [0. 1.]\n",
            "Index: 16 \tPrediction: 1 Real: 1 \t====> [0. 1.]\n",
            "Index: 17 \tPrediction: 1 Real: 1 \t====> [0. 1.]\n",
            "Index: 18 \tPrediction: 1 Real: 1 \t====> [0. 1.]\n",
            "Index: 19 \tPrediction: 1 Real: 1 \t====> [0. 1.]\n",
            "Index: 20 \tPrediction: 1 Real: 1 \t====> [0. 1.]\n",
            "Index: 21 \tPrediction: 1 Real: 1 \t====> [0. 1.]\n",
            "Index: 22 \tPrediction: 1 Real: 1 \t====> [0. 1.]\n",
            "Index: 23 \tPrediction: 1 Real: 1 \t====> [0. 1.]\n",
            "Index: 24 \tPrediction: 1 Real: 1 \t====> [0. 1.]\n",
            "Index: 25 \tPrediction: 1 Real: 1 \t====> [0. 1.]\n",
            "Index: 26 \tPrediction: 1 Real: 1 \t====> [0. 1.]\n",
            "Index: 27 \tPrediction: 1 Real: 0 \t====> [1. 0.]\n",
            "Index: 28 \tPrediction: 1 Real: 1 \t====> [0. 1.]\n",
            "Index: 29 \tPrediction: 1 Real: 1 \t====> [0. 1.]\n",
            "Index: 30 \tPrediction: 1 Real: 1 \t====> [0. 1.]\n",
            "Index: 31 \tPrediction: 1 Real: 1 \t====> [0. 1.]\n",
            "Index: 32 \tPrediction: 1 Real: 1 \t====> [0. 1.]\n",
            "Index: 33 \tPrediction: 1 Real: 1 \t====> [0. 1.]\n",
            "Index: 34 \tPrediction: 1 Real: 1 \t====> [0. 1.]\n",
            "Index: 35 \tPrediction: 1 Real: 1 \t====> [0. 1.]\n",
            "Index: 36 \tPrediction: 1 Real: 1 \t====> [0. 1.]\n",
            "Index: 37 \tPrediction: 1 Real: 1 \t====> [0. 1.]\n",
            "Index: 38 \tPrediction: 1 Real: 1 \t====> [0. 1.]\n",
            "Index: 39 \tPrediction: 1 Real: 1 \t====> [0. 1.]\n",
            "Index: 40 \tPrediction: 1 Real: 1 \t====> [0. 1.]\n",
            "Index: 41 \tPrediction: 1 Real: 0 \t====> [1. 0.]\n",
            "Index: 42 \tPrediction: 1 Real: 1 \t====> [0. 1.]\n",
            "Index: 43 \tPrediction: 1 Real: 1 \t====> [0. 1.]\n",
            "Index: 44 \tPrediction: 1 Real: 1 \t====> [0. 1.]\n",
            "Index: 45 \tPrediction: 1 Real: 1 \t====> [0. 1.]\n",
            "Index: 46 \tPrediction: 1 Real: 1 \t====> [0. 1.]\n",
            "Index: 47 \tPrediction: 1 Real: 1 \t====> [0. 1.]\n",
            "Index: 48 \tPrediction: 1 Real: 0 \t====> [1. 0.]\n",
            "Index: 49 \tPrediction: 1 Real: 1 \t====> [0. 1.]\n",
            "Index: 50 \tPrediction: 1 Real: 1 \t====> [0. 1.]\n",
            "Index: 51 \tPrediction: 1 Real: 1 \t====> [0. 1.]\n",
            "Index: 52 \tPrediction: 1 Real: 1 \t====> [0. 1.]\n",
            "Index: 53 \tPrediction: 1 Real: 1 \t====> [0. 1.]\n",
            "Index: 54 \tPrediction: 1 Real: 1 \t====> [0. 1.]\n",
            "Index: 55 \tPrediction: 1 Real: 1 \t====> [0. 1.]\n",
            "Index: 56 \tPrediction: 1 Real: 1 \t====> [0. 1.]\n",
            "Index: 57 \tPrediction: 1 Real: 1 \t====> [0. 1.]\n",
            "Index: 58 \tPrediction: 1 Real: 1 \t====> [0. 1.]\n",
            "Index: 59 \tPrediction: 1 Real: 1 \t====> [0. 1.]\n",
            "Index: 60 \tPrediction: 1 Real: 1 \t====> [0. 1.]\n",
            "Index: 61 \tPrediction: 1 Real: 1 \t====> [0. 1.]\n",
            "Index: 62 \tPrediction: 1 Real: 1 \t====> [0. 1.]\n",
            "Index: 63 \tPrediction: 1 Real: 1 \t====> [0. 1.]\n",
            "Index: 64 \tPrediction: 1 Real: 1 \t====> [0. 1.]\n",
            "Index: 65 \tPrediction: 1 Real: 1 \t====> [0. 1.]\n",
            "Index: 66 \tPrediction: 1 Real: 1 \t====> [0. 1.]\n",
            "Index: 67 \tPrediction: 1 Real: 1 \t====> [0. 1.]\n",
            "Index: 68 \tPrediction: 1 Real: 1 \t====> [0. 1.]\n",
            "Index: 69 \tPrediction: 1 Real: 0 \t====> [1. 0.]\n",
            "Index: 70 \tPrediction: 1 Real: 1 \t====> [0. 1.]\n",
            "Index: 71 \tPrediction: 1 Real: 1 \t====> [0. 1.]\n",
            "Index: 72 \tPrediction: 1 Real: 1 \t====> [0. 1.]\n",
            "Index: 73 \tPrediction: 1 Real: 1 \t====> [0. 1.]\n",
            "Index: 74 \tPrediction: 1 Real: 1 \t====> [0. 1.]\n",
            "Index: 75 \tPrediction: 1 Real: 1 \t====> [0. 1.]\n",
            "Index: 76 \tPrediction: 0 Real: 1 \t====> [0. 1.]\n",
            "Index: 77 \tPrediction: 1 Real: 1 \t====> [0. 1.]\n",
            "Index: 78 \tPrediction: 1 Real: 1 \t====> [0. 1.]\n",
            "Index: 79 \tPrediction: 1 Real: 1 \t====> [0. 1.]\n",
            "Index: 80 \tPrediction: 1 Real: 1 \t====> [0. 1.]\n",
            "Index: 81 \tPrediction: 1 Real: 1 \t====> [0. 1.]\n",
            "Index: 82 \tPrediction: 0 Real: 0 \t====> [1. 0.]\n",
            "Index: 83 \tPrediction: 0 Real: 0 \t====> [1. 0.]\n",
            "Index: 84 \tPrediction: 1 Real: 1 \t====> [0. 1.]\n",
            "Index: 85 \tPrediction: 1 Real: 1 \t====> [0. 1.]\n",
            "Index: 86 \tPrediction: 1 Real: 1 \t====> [0. 1.]\n",
            "Index: 87 \tPrediction: 1 Real: 1 \t====> [0. 1.]\n",
            "Index: 88 \tPrediction: 1 Real: 1 \t====> [0. 1.]\n",
            "Index: 89 \tPrediction: 0 Real: 0 \t====> [1. 0.]\n",
            "Index: 90 \tPrediction: 0 Real: 0 \t====> [1. 0.]\n",
            "Index: 91 \tPrediction: 1 Real: 1 \t====> [0. 1.]\n",
            "Index: 92 \tPrediction: 1 Real: 1 \t====> [0. 1.]\n",
            "Index: 93 \tPrediction: 1 Real: 1 \t====> [0. 1.]\n",
            "Index: 94 \tPrediction: 1 Real: 1 \t====> [0. 1.]\n",
            "Index: 95 \tPrediction: 1 Real: 1 \t====> [0. 1.]\n",
            "Index: 96 \tPrediction: 0 Real: 0 \t====> [1. 0.]\n",
            "Index: 97 \tPrediction: 0 Real: 1 \t====> [0. 1.]\n",
            "Index: 98 \tPrediction: 1 Real: 1 \t====> [0. 1.]\n",
            "Index: 99 \tPrediction: 1 Real: 1 \t====> [0. 1.]\n",
            "Index: 100 \tPrediction: 1 Real: 1 \t====> [0. 1.]\n",
            "Index: 101 \tPrediction: 1 Real: 1 \t====> [0. 1.]\n",
            "Index: 102 \tPrediction: 1 Real: 1 \t====> [0. 1.]\n",
            "Index: 103 \tPrediction: 0 Real: 0 \t====> [1. 0.]\n",
            "Index: 104 \tPrediction: 0 Real: 1 \t====> [0. 1.]\n",
            "Index: 105 \tPrediction: 1 Real: 1 \t====> [0. 1.]\n",
            "Index: 106 \tPrediction: 1 Real: 1 \t====> [0. 1.]\n",
            "Index: 107 \tPrediction: 1 Real: 1 \t====> [0. 1.]\n",
            "Index: 108 \tPrediction: 1 Real: 1 \t====> [0. 1.]\n",
            "Index: 109 \tPrediction: 1 Real: 0 \t====> [1. 0.]\n",
            "Index: 110 \tPrediction: 0 Real: 0 \t====> [1. 0.]\n",
            "Index: 111 \tPrediction: 0 Real: 0 \t====> [1. 0.]\n",
            "Index: 112 \tPrediction: 1 Real: 1 \t====> [0. 1.]\n",
            "Index: 113 \tPrediction: 1 Real: 1 \t====> [0. 1.]\n",
            "Index: 114 \tPrediction: 1 Real: 1 \t====> [0. 1.]\n",
            "Index: 115 \tPrediction: 1 Real: 1 \t====> [0. 1.]\n",
            "Index: 116 \tPrediction: 0 Real: 0 \t====> [1. 0.]\n",
            "Index: 117 \tPrediction: 0 Real: 0 \t====> [1. 0.]\n",
            "Index: 118 \tPrediction: 1 Real: 1 \t====> [0. 1.]\n",
            "Index: 119 \tPrediction: 1 Real: 1 \t====> [0. 1.]\n",
            "Index: 120 \tPrediction: 1 Real: 1 \t====> [0. 1.]\n",
            "Index: 121 \tPrediction: 1 Real: 1 \t====> [0. 1.]\n",
            "Index: 122 \tPrediction: 1 Real: 1 \t====> [0. 1.]\n",
            "Index: 123 \tPrediction: 1 Real: 1 \t====> [0. 1.]\n",
            "Index: 124 \tPrediction: 1 Real: 0 \t====> [1. 0.]\n",
            "Index: 125 \tPrediction: 1 Real: 1 \t====> [0. 1.]\n",
            "Index: 126 \tPrediction: 1 Real: 1 \t====> [0. 1.]\n",
            "Index: 127 \tPrediction: 1 Real: 1 \t====> [0. 1.]\n",
            "Index: 128 \tPrediction: 1 Real: 1 \t====> [0. 1.]\n",
            "Index: 129 \tPrediction: 1 Real: 1 \t====> [0. 1.]\n",
            "Index: 130 \tPrediction: 1 Real: 1 \t====> [0. 1.]\n",
            "Index: 131 \tPrediction: 1 Real: 1 \t====> [0. 1.]\n",
            "Index: 132 \tPrediction: 1 Real: 1 \t====> [0. 1.]\n",
            "Index: 133 \tPrediction: 1 Real: 1 \t====> [0. 1.]\n",
            "Index: 134 \tPrediction: 1 Real: 1 \t====> [0. 1.]\n",
            "Index: 135 \tPrediction: 1 Real: 1 \t====> [0. 1.]\n",
            "Index: 136 \tPrediction: 1 Real: 1 \t====> [0. 1.]\n",
            "Index: 137 \tPrediction: 1 Real: 1 \t====> [0. 1.]\n",
            "Index: 138 \tPrediction: 1 Real: 1 \t====> [0. 1.]\n",
            "Index: 139 \tPrediction: 1 Real: 1 \t====> [0. 1.]\n",
            "Index: 140 \tPrediction: 1 Real: 1 \t====> [0. 1.]\n",
            "Index: 141 \tPrediction: 1 Real: 1 \t====> [0. 1.]\n",
            "Index: 142 \tPrediction: 1 Real: 1 \t====> [0. 1.]\n",
            "Index: 143 \tPrediction: 1 Real: 1 \t====> [0. 1.]\n",
            "Index: 144 \tPrediction: 1 Real: 1 \t====> [0. 1.]\n",
            "Index: 145 \tPrediction: 1 Real: 1 \t====> [0. 1.]\n",
            "Index: 146 \tPrediction: 1 Real: 1 \t====> [0. 1.]\n",
            "Index: 147 \tPrediction: 1 Real: 1 \t====> [0. 1.]\n",
            "Index: 148 \tPrediction: 1 Real: 1 \t====> [0. 1.]\n",
            "Index: 149 \tPrediction: 1 Real: 1 \t====> [0. 1.]\n",
            "Index: 150 \tPrediction: 1 Real: 1 \t====> [0. 1.]\n",
            "Index: 151 \tPrediction: 1 Real: 1 \t====> [0. 1.]\n",
            "Index: 152 \tPrediction: 1 Real: 1 \t====> [0. 1.]\n",
            "Index: 153 \tPrediction: 1 Real: 1 \t====> [0. 1.]\n",
            "Index: 154 \tPrediction: 1 Real: 1 \t====> [0. 1.]\n",
            "Index: 155 \tPrediction: 1 Real: 1 \t====> [0. 1.]\n",
            "Index: 156 \tPrediction: 1 Real: 1 \t====> [0. 1.]\n",
            "Index: 157 \tPrediction: 1 Real: 1 \t====> [0. 1.]\n",
            "Index: 158 \tPrediction: 1 Real: 0 \t====> [1. 0.]\n",
            "Index: 159 \tPrediction: 1 Real: 1 \t====> [0. 1.]\n",
            "Index: 160 \tPrediction: 1 Real: 1 \t====> [0. 1.]\n",
            "Index: 161 \tPrediction: 1 Real: 1 \t====> [0. 1.]\n",
            "Index: 162 \tPrediction: 1 Real: 1 \t====> [0. 1.]\n",
            "Index: 163 \tPrediction: 1 Real: 1 \t====> [0. 1.]\n",
            "Index: 164 \tPrediction: 1 Real: 1 \t====> [0. 1.]\n",
            "Index: 165 \tPrediction: 1 Real: 1 \t====> [0. 1.]\n",
            "Index: 166 \tPrediction: 1 Real: 1 \t====> [0. 1.]\n",
            "Index: 167 \tPrediction: 1 Real: 1 \t====> [0. 1.]\n",
            "Index: 168 \tPrediction: 1 Real: 1 \t====> [0. 1.]\n",
            "Index: 169 \tPrediction: 1 Real: 1 \t====> [0. 1.]\n",
            "Index: 170 \tPrediction: 1 Real: 1 \t====> [0. 1.]\n",
            "Index: 171 \tPrediction: 1 Real: 1 \t====> [0. 1.]\n",
            "Index: 172 \tPrediction: 1 Real: 1 \t====> [0. 1.]\n",
            "Index: 173 \tPrediction: 1 Real: 1 \t====> [0. 1.]\n",
            "Index: 174 \tPrediction: 1 Real: 1 \t====> [0. 1.]\n",
            "Index: 175 \tPrediction: 1 Real: 1 \t====> [0. 1.]\n",
            "Index: 176 \tPrediction: 1 Real: 1 \t====> [0. 1.]\n",
            "Index: 177 \tPrediction: 1 Real: 1 \t====> [0. 1.]\n",
            "Index: 178 \tPrediction: 1 Real: 1 \t====> [0. 1.]\n",
            "Index: 179 \tPrediction: 1 Real: 1 \t====> [0. 1.]\n",
            "Index: 180 \tPrediction: 1 Real: 1 \t====> [0. 1.]\n",
            "Index: 181 \tPrediction: 1 Real: 1 \t====> [0. 1.]\n",
            "Index: 182 \tPrediction: 1 Real: 1 \t====> [0. 1.]\n",
            "Index: 183 \tPrediction: 1 Real: 1 \t====> [0. 1.]\n",
            "Index: 184 \tPrediction: 1 Real: 1 \t====> [0. 1.]\n",
            "Index: 185 \tPrediction: 1 Real: 1 \t====> [0. 1.]\n",
            "Index: 186 \tPrediction: 1 Real: 1 \t====> [0. 1.]\n",
            "Index: 187 \tPrediction: 1 Real: 1 \t====> [0. 1.]\n",
            "Index: 188 \tPrediction: 1 Real: 1 \t====> [0. 1.]\n",
            "Index: 189 \tPrediction: 1 Real: 1 \t====> [0. 1.]\n",
            "Index: 190 \tPrediction: 1 Real: 1 \t====> [0. 1.]\n",
            "Index: 191 \tPrediction: 1 Real: 1 \t====> [0. 1.]\n",
            "Index: 192 \tPrediction: 1 Real: 1 \t====> [0. 1.]\n",
            "Index: 193 \tPrediction: 1 Real: 1 \t====> [0. 1.]\n",
            "Index: 194 \tPrediction: 1 Real: 1 \t====> [0. 1.]\n",
            "Index: 195 \tPrediction: 1 Real: 1 \t====> [0. 1.]\n",
            "Index: 196 \tPrediction: 1 Real: 1 \t====> [0. 1.]\n",
            "Index: 197 \tPrediction: 1 Real: 1 \t====> [0. 1.]\n",
            "Index: 198 \tPrediction: 1 Real: 1 \t====> [0. 1.]\n",
            "Правильных ответов: 188\n",
            "Ошибочных ответов: 12\n",
            "The quality is 94 %\n"
          ],
          "name": "stdout"
        }
      ]
    }
  ]
}