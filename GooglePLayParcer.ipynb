{
  "nbformat": 4,
  "nbformat_minor": 0,
  "metadata": {
    "colab": {
      "name": "GooglePLayParcer.ipynb",
      "provenance": [],
      "authorship_tag": "ABX9TyO0hMv6Dep7+p4WVOEa7juy",
      "include_colab_link": true
    },
    "kernelspec": {
      "name": "python3",
      "display_name": "Python 3"
    },
    "language_info": {
      "name": "python"
    }
  },
  "cells": [
    {
      "cell_type": "markdown",
      "metadata": {
        "id": "view-in-github",
        "colab_type": "text"
      },
      "source": [
        "<a href=\"https://colab.research.google.com/github/MarkAvilin1/DS-and-ML/blob/main/GooglePLayParcer.ipynb\" target=\"_parent\"><img src=\"https://colab.research.google.com/assets/colab-badge.svg\" alt=\"Open In Colab\"/></a>"
      ]
    },
    {
      "cell_type": "markdown",
      "source": [
        "# The Task\n",
        "The goal of this issue is to collect a minimum of 1000 reviews for any 10 cryptocurrency-related applications (100 each). These could be the apps of the blockchain wallets, crypto custodians, or any crypto projects.\n",
        "\n",
        "Collect reviews for the apps of your choice and make sure that you define where the reviews are coming from - Apple App Store or Google Play Store.\n",
        "Identify sentiment score for each review using one of the existing sentiment analysis tools.\n",
        "Identify either geolocation, or language for each review.\n",
        "For the final deliverable, create:\n",
        "CSV-file with the following structure: app name, username, timestamp, app review, text, sentiment, score, country (language), marketplace*\n",
        "*marketplace - Apple App Store or Google Play Store\n",
        "\n",
        "short report with graphs (based on the reviews that you collected) and basic descriptive statistics\n",
        "Upon completion of the task:\n",
        "\n",
        "Share your CSV-file and report with challenge@inca.digital.\n",
        "Leave a comment in the issue, saying you’re done."
      ],
      "metadata": {
        "id": "p__RGpWQEPhK"
      }
    },
    {
      "cell_type": "code",
      "execution_count": null,
      "metadata": {
        "colab": {
          "base_uri": "https://localhost:8080/"
        },
        "id": "B-9aHdtCt-JY",
        "outputId": "43e0fcd7-424a-41e2-bc88-caecfd932cea"
      },
      "outputs": [
        {
          "output_type": "stream",
          "name": "stdout",
          "text": [
            "Collecting google-play-scraper\n",
            "  Downloading google-play-scraper-1.0.5.tar.gz (52 kB)\n",
            "\u001b[?25l\r\u001b[K     |██████▏                         | 10 kB 15.8 MB/s eta 0:00:01\r\u001b[K     |████████████▍                   | 20 kB 21.3 MB/s eta 0:00:01\r\u001b[K     |██████████████████▋             | 30 kB 25.4 MB/s eta 0:00:01\r\u001b[K     |████████████████████████▊       | 40 kB 27.2 MB/s eta 0:00:01\r\u001b[K     |███████████████████████████████ | 51 kB 29.9 MB/s eta 0:00:01\r\u001b[K     |████████████████████████████████| 52 kB 1.6 MB/s \n",
            "\u001b[?25hBuilding wheels for collected packages: google-play-scraper\n",
            "  Building wheel for google-play-scraper (setup.py) ... \u001b[?25l\u001b[?25hdone\n",
            "  Created wheel for google-play-scraper: filename=google_play_scraper-1.0.5-py3-none-any.whl size=24484 sha256=92f884fc32660acaa800aa4b3a7a3a30ee9f05b3ce7b02a5066dd824c15e969f\n",
            "  Stored in directory: /root/.cache/pip/wheels/4a/26/18/48fda51f20c9e550c735fa6f3a6887dc8836f8d709a3cf8a9c\n",
            "Successfully built google-play-scraper\n",
            "Installing collected packages: google-play-scraper\n",
            "Successfully installed google-play-scraper-1.0.5\n"
          ]
        }
      ],
      "source": [
        "!pip install google-play-scraper"
      ]
    },
    {
      "cell_type": "code",
      "source": [
        "from google_play_scraper import app, Sort, reviews\n",
        "from textblob import TextBlob\n",
        "import pandas as pd\n",
        "import numpy as np"
      ],
      "metadata": {
        "id": "cwNprFUAuYR4"
      },
      "execution_count": null,
      "outputs": []
    },
    {
      "cell_type": "code",
      "source": [
        "links = ['com.binance.dev', 'io.metamask', \n",
        "        'co.mona.android', 'com.kubi.kucoin', \n",
        "        'com.coinbase.android', 'com.coindcx.btc', \n",
        "        'io.cex.app.prod', 'co.bitx.android.wallet', \n",
        "        'com.coinmarketcap.android', 'com.coingecko.coingeckoapp']\n",
        "\n",
        "num_links = len(links)"
      ],
      "metadata": {
        "id": "2ukabJ0cZPnk"
      },
      "execution_count": null,
      "outputs": []
    },
    {
      "cell_type": "code",
      "source": [
        "def get_title_app_rev(links):\n",
        "  \"\"\"Function to get app title and app reviews\"\"\"\n",
        "  title = []\n",
        "  app_review = []\n",
        "\n",
        "  result = [app(link, lang='en', country='us') for link in links]\n",
        "\n",
        "  for comments in result:\n",
        "    title.append(comments['title'])\n",
        "    app_review.append(comments['reviews'])\n",
        "\n",
        "  return title, app_review"
      ],
      "metadata": {
        "id": "xcK8w_G3uqm9"
      },
      "execution_count": null,
      "outputs": []
    },
    {
      "cell_type": "code",
      "source": [
        "def get_data(links):\n",
        "  \"\"\"Function to get all needed data\"\"\"\n",
        "  result = []\n",
        "  for i in range(num_links):\n",
        "    result.append(reviews(links[i], lang='en', country='us', sort=Sort.NEWEST, count=100, filter_score_with=5))\n",
        "\n",
        "  return result"
      ],
      "metadata": {
        "id": "q_0h2kt73W_D"
      },
      "execution_count": null,
      "outputs": []
    },
    {
      "cell_type": "code",
      "source": [
        "def sentiment_state(text):\n",
        "  \"\"\"Function to convert sentiment statement into words by using the percentage\"\"\"\n",
        "  states = ['Positive', 'Neutral', 'Negative']\n",
        "  blob = TextBlob(text)\n",
        "  state = blob.sentiment.polarity\n",
        "  if state > 0:\n",
        "    return f'{states[0]} {round(state * 100, 2)} %'\n",
        "  elif state < 0:\n",
        "    return f'{states[2]} {round(state * 100, 2)} %'\n",
        "  return f'{states[1]} {round(state * 100, 2)} %'"
      ],
      "metadata": {
        "id": "h2L6MG3gClAR"
      },
      "execution_count": null,
      "outputs": []
    },
    {
      "cell_type": "code",
      "source": [
        "def collect_data(links):\n",
        "  \"\"\"Function to collect all needed data from google play by giving app links of google play store\"\"\"\n",
        "  # app name, username, timestamp, app review, text, sentiment, score, country (language), marketplace\n",
        "  app_name, app_review = get_title_app_rev(links)\n",
        "\n",
        "  username = []\n",
        "  timestamp = []\n",
        "  text = []\n",
        "  sentiment = []\n",
        "  score = []\n",
        "  country = ['US-en' for _ in range(1000)]\n",
        "  marketplace = ['Google play store' for _ in range(1000)]\n",
        "\n",
        "  reviews = get_data(links)\n",
        "\n",
        "  for i in range(num_links):\n",
        "    for j in range(100):\n",
        "      for el in reviews[i][0][j]['userName'].split('\\n'):\n",
        "        username.append(el)\n",
        "  for i in range(num_links):\n",
        "    for j in range(100):\n",
        "      for el in str(reviews[i][0][j]['at']).split('\\n'):\n",
        "        timestamp.append(str(el))\n",
        "  for i in range(num_links):\n",
        "    for j in range(100):\n",
        "      for el in reviews[i][0][j]['content'].split('\\n'):\n",
        "        text.append(el)\n",
        "  for i in range(num_links):\n",
        "    for j in range(100):\n",
        "      for el in str(reviews[i][0][j]['score']).split('\\n'):\n",
        "        score.append(el)\n",
        "  for el in text:\n",
        "    sentiment.append(sentiment_state(el))\n",
        "\n",
        "  app_name = [name for name in app_name for _ in range(100)]\n",
        "  app_review = [review for review in app_review for _ in range(100)]\n",
        "\n",
        "  data = np.array([app_name, username, timestamp, app_review, text, sentiment, score, country, marketplace])\n",
        "\n",
        "  return data"
      ],
      "metadata": {
        "id": "-ZDab9xcuqpg"
      },
      "execution_count": null,
      "outputs": []
    },
    {
      "cell_type": "code",
      "source": [
        "# Get all needed data \n",
        "data = collect_data(links)"
      ],
      "metadata": {
        "id": "xFZuROP86Rhq"
      },
      "execution_count": null,
      "outputs": []
    },
    {
      "cell_type": "code",
      "source": [
        "# To be sure that all lists size are equal\n",
        "print(data[0].shape, data[1].shape, data[2].shape, data[3].shape, \n",
        "      data[4].shape, data[5].shape, data[6].shape, data[7].shape, data[8].shape, )"
      ],
      "metadata": {
        "colab": {
          "base_uri": "https://localhost:8080/"
        },
        "id": "WTmh1hsLAsY_",
        "outputId": "8b7ca899-0501-418e-9ea6-b0e9f40a4c19"
      },
      "execution_count": null,
      "outputs": [
        {
          "output_type": "stream",
          "name": "stdout",
          "text": [
            "(1000,) (1000,) (1000,) (1000,) (1000,) (1000,) (1000,) (1000,) (1000,)\n"
          ]
        }
      ]
    },
    {
      "cell_type": "code",
      "source": [
        "columns = [f'{i}' for i in range(1000)]\n",
        "index = ['App name', 'Username', 'Timestamp', 'App review', 'Text', 'Sentiment', 'Score', 'Country (language)', 'Marketplace']\n",
        "df = pd.DataFrame(data, index=index, columns=columns)"
      ],
      "metadata": {
        "id": "m903ThjYI-28"
      },
      "execution_count": null,
      "outputs": []
    },
    {
      "cell_type": "code",
      "source": [
        "df.to_csv('App_Reviews.csv', encoding='utf-8')"
      ],
      "metadata": {
        "id": "BePWtx0eIHQc"
      },
      "execution_count": null,
      "outputs": []
    },
    {
      "cell_type": "code",
      "source": [
        "df = df.T"
      ],
      "metadata": {
        "id": "2Gvgsvjl8FUe"
      },
      "execution_count": null,
      "outputs": []
    },
    {
      "cell_type": "code",
      "source": [
        "df.head(10)"
      ],
      "metadata": {
        "colab": {
          "base_uri": "https://localhost:8080/",
          "height": 598
        },
        "id": "9LJcpru884Vo",
        "outputId": "c74fdf52-4262-46b3-c11a-7a5dff892a3e"
      },
      "execution_count": null,
      "outputs": [
        {
          "output_type": "execute_result",
          "data": {
            "text/plain": [
              "                         App name               Username            Timestamp  \\\n",
              "0  Binance: Buy BTC & 600+ Crypto              AHMAD KGN  2022-05-07 13:54:02   \n",
              "1  Binance: Buy BTC & 600+ Crypto      Mouctar Mohamadou  2022-05-07 13:00:23   \n",
              "2  Binance: Buy BTC & 600+ Crypto  Mohammad Afaque Aslam  2022-05-07 12:56:37   \n",
              "3  Binance: Buy BTC & 600+ Crypto           Sammuel Okon  2022-05-07 12:35:56   \n",
              "4  Binance: Buy BTC & 600+ Crypto            France Kayl  2022-05-07 12:32:58   \n",
              "5  Binance: Buy BTC & 600+ Crypto             Mosam Shah  2022-05-07 12:20:44   \n",
              "6  Binance: Buy BTC & 600+ Crypto             GAME ARENA  2022-05-07 12:19:45   \n",
              "7  Binance: Buy BTC & 600+ Crypto              Asad awis  2022-05-07 11:59:13   \n",
              "8  Binance: Buy BTC & 600+ Crypto             Damir Turk  2022-05-07 11:54:03   \n",
              "9  Binance: Buy BTC & 600+ Crypto               adzi fhm  2022-05-07 11:52:12   \n",
              "\n",
              "  App review                                               Text  \\\n",
              "0       7556                                   good application   \n",
              "1       7556                 I am very happy with this platform   \n",
              "2       7556                                               good   \n",
              "3       7556                                    Cool Morra*****   \n",
              "4       7556                                            Wow❣️❣️   \n",
              "5       7556  balance is a good place ☺️ but I don't see the...   \n",
              "6       7556                      Easy to Use and Security No 1   \n",
              "7       7556                                               nice   \n",
              "8       7556                        good app with good security   \n",
              "9       7556                                   Hiya hiya hiyaaa   \n",
              "\n",
              "          Sentiment Score Country (language)        Marketplace  \n",
              "0   Positive 70.0 %     5              US-en  Google play store  \n",
              "1  Positive 100.0 %     5              US-en  Google play store  \n",
              "2   Positive 70.0 %     5              US-en  Google play store  \n",
              "3   Positive 35.0 %     5              US-en  Google play store  \n",
              "4     Neutral 0.0 %     5              US-en  Google play store  \n",
              "5   Positive 70.0 %     5              US-en  Google play store  \n",
              "6  Positive 43.33 %     5              US-en  Google play store  \n",
              "7   Positive 60.0 %     5              US-en  Google play store  \n",
              "8   Positive 70.0 %     5              US-en  Google play store  \n",
              "9     Neutral 0.0 %     5              US-en  Google play store  "
            ],
            "text/html": [
              "\n",
              "  <div id=\"df-ba401851-ec3a-4213-81a4-0466759a31f6\">\n",
              "    <div class=\"colab-df-container\">\n",
              "      <div>\n",
              "<style scoped>\n",
              "    .dataframe tbody tr th:only-of-type {\n",
              "        vertical-align: middle;\n",
              "    }\n",
              "\n",
              "    .dataframe tbody tr th {\n",
              "        vertical-align: top;\n",
              "    }\n",
              "\n",
              "    .dataframe thead th {\n",
              "        text-align: right;\n",
              "    }\n",
              "</style>\n",
              "<table border=\"1\" class=\"dataframe\">\n",
              "  <thead>\n",
              "    <tr style=\"text-align: right;\">\n",
              "      <th></th>\n",
              "      <th>App name</th>\n",
              "      <th>Username</th>\n",
              "      <th>Timestamp</th>\n",
              "      <th>App review</th>\n",
              "      <th>Text</th>\n",
              "      <th>Sentiment</th>\n",
              "      <th>Score</th>\n",
              "      <th>Country (language)</th>\n",
              "      <th>Marketplace</th>\n",
              "    </tr>\n",
              "  </thead>\n",
              "  <tbody>\n",
              "    <tr>\n",
              "      <th>0</th>\n",
              "      <td>Binance: Buy BTC &amp; 600+ Crypto</td>\n",
              "      <td>AHMAD KGN</td>\n",
              "      <td>2022-05-07 13:54:02</td>\n",
              "      <td>7556</td>\n",
              "      <td>good application</td>\n",
              "      <td>Positive 70.0 %</td>\n",
              "      <td>5</td>\n",
              "      <td>US-en</td>\n",
              "      <td>Google play store</td>\n",
              "    </tr>\n",
              "    <tr>\n",
              "      <th>1</th>\n",
              "      <td>Binance: Buy BTC &amp; 600+ Crypto</td>\n",
              "      <td>Mouctar Mohamadou</td>\n",
              "      <td>2022-05-07 13:00:23</td>\n",
              "      <td>7556</td>\n",
              "      <td>I am very happy with this platform</td>\n",
              "      <td>Positive 100.0 %</td>\n",
              "      <td>5</td>\n",
              "      <td>US-en</td>\n",
              "      <td>Google play store</td>\n",
              "    </tr>\n",
              "    <tr>\n",
              "      <th>2</th>\n",
              "      <td>Binance: Buy BTC &amp; 600+ Crypto</td>\n",
              "      <td>Mohammad Afaque Aslam</td>\n",
              "      <td>2022-05-07 12:56:37</td>\n",
              "      <td>7556</td>\n",
              "      <td>good</td>\n",
              "      <td>Positive 70.0 %</td>\n",
              "      <td>5</td>\n",
              "      <td>US-en</td>\n",
              "      <td>Google play store</td>\n",
              "    </tr>\n",
              "    <tr>\n",
              "      <th>3</th>\n",
              "      <td>Binance: Buy BTC &amp; 600+ Crypto</td>\n",
              "      <td>Sammuel Okon</td>\n",
              "      <td>2022-05-07 12:35:56</td>\n",
              "      <td>7556</td>\n",
              "      <td>Cool Morra*****</td>\n",
              "      <td>Positive 35.0 %</td>\n",
              "      <td>5</td>\n",
              "      <td>US-en</td>\n",
              "      <td>Google play store</td>\n",
              "    </tr>\n",
              "    <tr>\n",
              "      <th>4</th>\n",
              "      <td>Binance: Buy BTC &amp; 600+ Crypto</td>\n",
              "      <td>France Kayl</td>\n",
              "      <td>2022-05-07 12:32:58</td>\n",
              "      <td>7556</td>\n",
              "      <td>Wow❣️❣️</td>\n",
              "      <td>Neutral 0.0 %</td>\n",
              "      <td>5</td>\n",
              "      <td>US-en</td>\n",
              "      <td>Google play store</td>\n",
              "    </tr>\n",
              "    <tr>\n",
              "      <th>5</th>\n",
              "      <td>Binance: Buy BTC &amp; 600+ Crypto</td>\n",
              "      <td>Mosam Shah</td>\n",
              "      <td>2022-05-07 12:20:44</td>\n",
              "      <td>7556</td>\n",
              "      <td>balance is a good place ☺️ but I don't see the...</td>\n",
              "      <td>Positive 70.0 %</td>\n",
              "      <td>5</td>\n",
              "      <td>US-en</td>\n",
              "      <td>Google play store</td>\n",
              "    </tr>\n",
              "    <tr>\n",
              "      <th>6</th>\n",
              "      <td>Binance: Buy BTC &amp; 600+ Crypto</td>\n",
              "      <td>GAME ARENA</td>\n",
              "      <td>2022-05-07 12:19:45</td>\n",
              "      <td>7556</td>\n",
              "      <td>Easy to Use and Security No 1</td>\n",
              "      <td>Positive 43.33 %</td>\n",
              "      <td>5</td>\n",
              "      <td>US-en</td>\n",
              "      <td>Google play store</td>\n",
              "    </tr>\n",
              "    <tr>\n",
              "      <th>7</th>\n",
              "      <td>Binance: Buy BTC &amp; 600+ Crypto</td>\n",
              "      <td>Asad awis</td>\n",
              "      <td>2022-05-07 11:59:13</td>\n",
              "      <td>7556</td>\n",
              "      <td>nice</td>\n",
              "      <td>Positive 60.0 %</td>\n",
              "      <td>5</td>\n",
              "      <td>US-en</td>\n",
              "      <td>Google play store</td>\n",
              "    </tr>\n",
              "    <tr>\n",
              "      <th>8</th>\n",
              "      <td>Binance: Buy BTC &amp; 600+ Crypto</td>\n",
              "      <td>Damir Turk</td>\n",
              "      <td>2022-05-07 11:54:03</td>\n",
              "      <td>7556</td>\n",
              "      <td>good app with good security</td>\n",
              "      <td>Positive 70.0 %</td>\n",
              "      <td>5</td>\n",
              "      <td>US-en</td>\n",
              "      <td>Google play store</td>\n",
              "    </tr>\n",
              "    <tr>\n",
              "      <th>9</th>\n",
              "      <td>Binance: Buy BTC &amp; 600+ Crypto</td>\n",
              "      <td>adzi fhm</td>\n",
              "      <td>2022-05-07 11:52:12</td>\n",
              "      <td>7556</td>\n",
              "      <td>Hiya hiya hiyaaa</td>\n",
              "      <td>Neutral 0.0 %</td>\n",
              "      <td>5</td>\n",
              "      <td>US-en</td>\n",
              "      <td>Google play store</td>\n",
              "    </tr>\n",
              "  </tbody>\n",
              "</table>\n",
              "</div>\n",
              "      <button class=\"colab-df-convert\" onclick=\"convertToInteractive('df-ba401851-ec3a-4213-81a4-0466759a31f6')\"\n",
              "              title=\"Convert this dataframe to an interactive table.\"\n",
              "              style=\"display:none;\">\n",
              "        \n",
              "  <svg xmlns=\"http://www.w3.org/2000/svg\" height=\"24px\"viewBox=\"0 0 24 24\"\n",
              "       width=\"24px\">\n",
              "    <path d=\"M0 0h24v24H0V0z\" fill=\"none\"/>\n",
              "    <path d=\"M18.56 5.44l.94 2.06.94-2.06 2.06-.94-2.06-.94-.94-2.06-.94 2.06-2.06.94zm-11 1L8.5 8.5l.94-2.06 2.06-.94-2.06-.94L8.5 2.5l-.94 2.06-2.06.94zm10 10l.94 2.06.94-2.06 2.06-.94-2.06-.94-.94-2.06-.94 2.06-2.06.94z\"/><path d=\"M17.41 7.96l-1.37-1.37c-.4-.4-.92-.59-1.43-.59-.52 0-1.04.2-1.43.59L10.3 9.45l-7.72 7.72c-.78.78-.78 2.05 0 2.83L4 21.41c.39.39.9.59 1.41.59.51 0 1.02-.2 1.41-.59l7.78-7.78 2.81-2.81c.8-.78.8-2.07 0-2.86zM5.41 20L4 18.59l7.72-7.72 1.47 1.35L5.41 20z\"/>\n",
              "  </svg>\n",
              "      </button>\n",
              "      \n",
              "  <style>\n",
              "    .colab-df-container {\n",
              "      display:flex;\n",
              "      flex-wrap:wrap;\n",
              "      gap: 12px;\n",
              "    }\n",
              "\n",
              "    .colab-df-convert {\n",
              "      background-color: #E8F0FE;\n",
              "      border: none;\n",
              "      border-radius: 50%;\n",
              "      cursor: pointer;\n",
              "      display: none;\n",
              "      fill: #1967D2;\n",
              "      height: 32px;\n",
              "      padding: 0 0 0 0;\n",
              "      width: 32px;\n",
              "    }\n",
              "\n",
              "    .colab-df-convert:hover {\n",
              "      background-color: #E2EBFA;\n",
              "      box-shadow: 0px 1px 2px rgba(60, 64, 67, 0.3), 0px 1px 3px 1px rgba(60, 64, 67, 0.15);\n",
              "      fill: #174EA6;\n",
              "    }\n",
              "\n",
              "    [theme=dark] .colab-df-convert {\n",
              "      background-color: #3B4455;\n",
              "      fill: #D2E3FC;\n",
              "    }\n",
              "\n",
              "    [theme=dark] .colab-df-convert:hover {\n",
              "      background-color: #434B5C;\n",
              "      box-shadow: 0px 1px 3px 1px rgba(0, 0, 0, 0.15);\n",
              "      filter: drop-shadow(0px 1px 2px rgba(0, 0, 0, 0.3));\n",
              "      fill: #FFFFFF;\n",
              "    }\n",
              "  </style>\n",
              "\n",
              "      <script>\n",
              "        const buttonEl =\n",
              "          document.querySelector('#df-ba401851-ec3a-4213-81a4-0466759a31f6 button.colab-df-convert');\n",
              "        buttonEl.style.display =\n",
              "          google.colab.kernel.accessAllowed ? 'block' : 'none';\n",
              "\n",
              "        async function convertToInteractive(key) {\n",
              "          const element = document.querySelector('#df-ba401851-ec3a-4213-81a4-0466759a31f6');\n",
              "          const dataTable =\n",
              "            await google.colab.kernel.invokeFunction('convertToInteractive',\n",
              "                                                     [key], {});\n",
              "          if (!dataTable) return;\n",
              "\n",
              "          const docLinkHtml = 'Like what you see? Visit the ' +\n",
              "            '<a target=\"_blank\" href=https://colab.research.google.com/notebooks/data_table.ipynb>data table notebook</a>'\n",
              "            + ' to learn more about interactive tables.';\n",
              "          element.innerHTML = '';\n",
              "          dataTable['output_type'] = 'display_data';\n",
              "          await google.colab.output.renderOutput(dataTable, element);\n",
              "          const docLink = document.createElement('div');\n",
              "          docLink.innerHTML = docLinkHtml;\n",
              "          element.appendChild(docLink);\n",
              "        }\n",
              "      </script>\n",
              "    </div>\n",
              "  </div>\n",
              "  "
            ]
          },
          "metadata": {},
          "execution_count": 26
        }
      ]
    },
    {
      "cell_type": "code",
      "source": [
        "df.to_csv('App_Reviews.csv', encoding='utf-8')"
      ],
      "metadata": {
        "id": "pjkZ4mKf7Ib6"
      },
      "execution_count": null,
      "outputs": []
    }
  ]
}