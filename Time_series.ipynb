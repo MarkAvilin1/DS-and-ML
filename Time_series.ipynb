{
  "nbformat": 4,
  "nbformat_minor": 0,
  "metadata": {
    "colab": {
      "name": "Time_series.ipynb",
      "provenance": [],
      "collapsed_sections": [],
      "include_colab_link": true
    },
    "kernelspec": {
      "name": "python3",
      "display_name": "Python 3"
    }
  },
  "cells": [
    {
      "cell_type": "markdown",
      "metadata": {
        "id": "view-in-github",
        "colab_type": "text"
      },
      "source": [
        "<a href=\"https://colab.research.google.com/github/MarkAvilin1/DS-and-ML/blob/main/Time_series.ipynb\" target=\"_parent\"><img src=\"https://colab.research.google.com/assets/colab-badge.svg\" alt=\"Open In Colab\"/></a>"
      ]
    },
    {
      "cell_type": "markdown",
      "metadata": {
        "id": "goE9nMuVhwY-"
      },
      "source": [
        "# Ultra Pro задание\n",
        "\n",
        "Возьмите базу трафика с сайта компании. Напишите модель для прогнозирования трафика. \n",
        "\n",
        "Возьмите xLen = 60. \n",
        "\n",
        "Добейтесь максимально точного соответствия между графиками корреляции исходного сигнала и прогноза.\n"
      ]
    },
    {
      "cell_type": "code",
      "metadata": {
        "id": "fMSPfnR4DMdj"
      },
      "source": [
        "import pandas as pd\n",
        "import matplotlib.pyplot as plt\n",
        "import numpy as np\n",
        "from tensorflow.keras.models import Sequential\n",
        "from tensorflow.keras.layers import Conv1D, Dense, Flatten\n",
        "from tensorflow.keras.optimizers import Adam\n",
        "from tensorflow.keras.preprocessing.sequence import TimeseriesGenerator\n",
        "from sklearn.preprocessing import MinMaxScaler\n",
        "\n",
        "import warnings\n",
        "warnings.filterwarnings('ignore')\n",
        "%matplotlib inline"
      ],
      "execution_count": null,
      "outputs": []
    },
    {
      "cell_type": "code",
      "metadata": {
        "id": "sr70OkeDPDnC"
      },
      "source": [
        "from google.colab import drive\n",
        "drive.mount('/content/drive/')"
      ],
      "execution_count": null,
      "outputs": []
    },
    {
      "cell_type": "code",
      "metadata": {
        "id": "zOe9qJbKimzh",
        "colab": {
          "base_uri": "https://localhost:8080/",
          "height": 204
        },
        "outputId": "d3169cf7-49a7-48c2-c202-27dafd0c1cdb"
      },
      "source": [
        "base_data = pd.read_csv('/content/drive/My Drive/traff.csv')\n",
        "base_data.head()"
      ],
      "execution_count": null,
      "outputs": [
        {
          "output_type": "execute_result",
          "data": {
            "text/html": [
              "<div>\n",
              "<style scoped>\n",
              "    .dataframe tbody tr th:only-of-type {\n",
              "        vertical-align: middle;\n",
              "    }\n",
              "\n",
              "    .dataframe tbody tr th {\n",
              "        vertical-align: top;\n",
              "    }\n",
              "\n",
              "    .dataframe thead th {\n",
              "        text-align: right;\n",
              "    }\n",
              "</style>\n",
              "<table border=\"1\" class=\"dataframe\">\n",
              "  <thead>\n",
              "    <tr style=\"text-align: right;\">\n",
              "      <th></th>\n",
              "      <th>1/1/2017</th>\n",
              "      <th>22,226.00</th>\n",
              "    </tr>\n",
              "  </thead>\n",
              "  <tbody>\n",
              "    <tr>\n",
              "      <th>0</th>\n",
              "      <td>1/2/2017</td>\n",
              "      <td>29,593.00</td>\n",
              "    </tr>\n",
              "    <tr>\n",
              "      <th>1</th>\n",
              "      <td>1/3/2017</td>\n",
              "      <td>31,726.00</td>\n",
              "    </tr>\n",
              "    <tr>\n",
              "      <th>2</th>\n",
              "      <td>1/4/2017</td>\n",
              "      <td>32,684.00</td>\n",
              "    </tr>\n",
              "    <tr>\n",
              "      <th>3</th>\n",
              "      <td>1/5/2017</td>\n",
              "      <td>31,820.00</td>\n",
              "    </tr>\n",
              "    <tr>\n",
              "      <th>4</th>\n",
              "      <td>1/6/2017</td>\n",
              "      <td>29,354.00</td>\n",
              "    </tr>\n",
              "  </tbody>\n",
              "</table>\n",
              "</div>"
            ],
            "text/plain": [
              "   1/1/2017  22,226.00\n",
              "0  1/2/2017  29,593.00\n",
              "1  1/3/2017  31,726.00\n",
              "2  1/4/2017  32,684.00\n",
              "3  1/5/2017  31,820.00\n",
              "4  1/6/2017  29,354.00"
            ]
          },
          "metadata": {
            "tags": []
          },
          "execution_count": 42
        }
      ]
    },
    {
      "cell_type": "code",
      "metadata": {
        "id": "eVwYDNRT4dKo",
        "colab": {
          "base_uri": "https://localhost:8080/",
          "height": 204
        },
        "outputId": "ff0e5e27-c944-4ac6-e726-d9ccdbb0f8f9"
      },
      "source": [
        "# Убираем ненужную колонку с датой\n",
        "base_data = base_data.iloc[:,1:]\n",
        "base_data.columns = ['traff']\n",
        "base_data.head()"
      ],
      "execution_count": null,
      "outputs": [
        {
          "output_type": "execute_result",
          "data": {
            "text/html": [
              "<div>\n",
              "<style scoped>\n",
              "    .dataframe tbody tr th:only-of-type {\n",
              "        vertical-align: middle;\n",
              "    }\n",
              "\n",
              "    .dataframe tbody tr th {\n",
              "        vertical-align: top;\n",
              "    }\n",
              "\n",
              "    .dataframe thead th {\n",
              "        text-align: right;\n",
              "    }\n",
              "</style>\n",
              "<table border=\"1\" class=\"dataframe\">\n",
              "  <thead>\n",
              "    <tr style=\"text-align: right;\">\n",
              "      <th></th>\n",
              "      <th>traff</th>\n",
              "    </tr>\n",
              "  </thead>\n",
              "  <tbody>\n",
              "    <tr>\n",
              "      <th>0</th>\n",
              "      <td>29,593.00</td>\n",
              "    </tr>\n",
              "    <tr>\n",
              "      <th>1</th>\n",
              "      <td>31,726.00</td>\n",
              "    </tr>\n",
              "    <tr>\n",
              "      <th>2</th>\n",
              "      <td>32,684.00</td>\n",
              "    </tr>\n",
              "    <tr>\n",
              "      <th>3</th>\n",
              "      <td>31,820.00</td>\n",
              "    </tr>\n",
              "    <tr>\n",
              "      <th>4</th>\n",
              "      <td>29,354.00</td>\n",
              "    </tr>\n",
              "  </tbody>\n",
              "</table>\n",
              "</div>"
            ],
            "text/plain": [
              "       traff\n",
              "0  29,593.00\n",
              "1  31,726.00\n",
              "2  32,684.00\n",
              "3  31,820.00\n",
              "4  29,354.00"
            ]
          },
          "metadata": {
            "tags": []
          },
          "execution_count": 43
        }
      ]
    },
    {
      "cell_type": "code",
      "metadata": {
        "id": "2a3kwlHT1q2S"
      },
      "source": [
        "# Удаляем ненужный символ ','\n",
        "a = []\n",
        "for i in range(len(base_data)):\n",
        "    \n",
        "    a.append(float(base_data['traff'][i].replace(',','')))"
      ],
      "execution_count": null,
      "outputs": []
    },
    {
      "cell_type": "code",
      "metadata": {
        "id": "3HdtCCmPrk_P",
        "colab": {
          "base_uri": "https://localhost:8080/",
          "height": 419
        },
        "outputId": "b82bb5a6-5382-4051-eef4-e5dd6ed741bc"
      },
      "source": [
        "index = list(range(len(base_data)))\n",
        "data = pd.DataFrame(a, columns = ['traff'], index = index)\n",
        "data"
      ],
      "execution_count": null,
      "outputs": [
        {
          "output_type": "execute_result",
          "data": {
            "text/html": [
              "<div>\n",
              "<style scoped>\n",
              "    .dataframe tbody tr th:only-of-type {\n",
              "        vertical-align: middle;\n",
              "    }\n",
              "\n",
              "    .dataframe tbody tr th {\n",
              "        vertical-align: top;\n",
              "    }\n",
              "\n",
              "    .dataframe thead th {\n",
              "        text-align: right;\n",
              "    }\n",
              "</style>\n",
              "<table border=\"1\" class=\"dataframe\">\n",
              "  <thead>\n",
              "    <tr style=\"text-align: right;\">\n",
              "      <th></th>\n",
              "      <th>traff</th>\n",
              "    </tr>\n",
              "  </thead>\n",
              "  <tbody>\n",
              "    <tr>\n",
              "      <th>0</th>\n",
              "      <td>29593.0</td>\n",
              "    </tr>\n",
              "    <tr>\n",
              "      <th>1</th>\n",
              "      <td>31726.0</td>\n",
              "    </tr>\n",
              "    <tr>\n",
              "      <th>2</th>\n",
              "      <td>32684.0</td>\n",
              "    </tr>\n",
              "    <tr>\n",
              "      <th>3</th>\n",
              "      <td>31820.0</td>\n",
              "    </tr>\n",
              "    <tr>\n",
              "      <th>4</th>\n",
              "      <td>29354.0</td>\n",
              "    </tr>\n",
              "    <tr>\n",
              "      <th>...</th>\n",
              "      <td>...</td>\n",
              "    </tr>\n",
              "    <tr>\n",
              "      <th>1089</th>\n",
              "      <td>29801.0</td>\n",
              "    </tr>\n",
              "    <tr>\n",
              "      <th>1090</th>\n",
              "      <td>34913.0</td>\n",
              "    </tr>\n",
              "    <tr>\n",
              "      <th>1091</th>\n",
              "      <td>37665.0</td>\n",
              "    </tr>\n",
              "    <tr>\n",
              "      <th>1092</th>\n",
              "      <td>32643.0</td>\n",
              "    </tr>\n",
              "    <tr>\n",
              "      <th>1093</th>\n",
              "      <td>28212.0</td>\n",
              "    </tr>\n",
              "  </tbody>\n",
              "</table>\n",
              "<p>1094 rows × 1 columns</p>\n",
              "</div>"
            ],
            "text/plain": [
              "        traff\n",
              "0     29593.0\n",
              "1     31726.0\n",
              "2     32684.0\n",
              "3     31820.0\n",
              "4     29354.0\n",
              "...       ...\n",
              "1089  29801.0\n",
              "1090  34913.0\n",
              "1091  37665.0\n",
              "1092  32643.0\n",
              "1093  28212.0\n",
              "\n",
              "[1094 rows x 1 columns]"
            ]
          },
          "metadata": {
            "tags": []
          },
          "execution_count": 45
        }
      ]
    },
    {
      "cell_type": "code",
      "metadata": {
        "id": "oZhnaSWvoVST",
        "colab": {
          "base_uri": "https://localhost:8080/",
          "height": 34
        },
        "outputId": "9b4defe9-e292-4eee-ea64-03293635ddc1"
      },
      "source": [
        "data.shape"
      ],
      "execution_count": null,
      "outputs": [
        {
          "output_type": "execute_result",
          "data": {
            "text/plain": [
              "(1094, 1)"
            ]
          },
          "metadata": {
            "tags": []
          },
          "execution_count": 46
        }
      ]
    },
    {
      "cell_type": "code",
      "metadata": {
        "id": "luxfI4ck4pO9"
      },
      "source": [
        "xLen = 60\n",
        "valLen = 300 \n",
        "\n",
        "trainLen = data.shape[0]-valLen \n",
        "\n",
        "xTrain,xTest = data[:trainLen], data[trainLen+xLen+2:]\n",
        "\n",
        "xScaler = MinMaxScaler()\n",
        "xScaler.fit(xTrain)\n",
        "xTrain = xScaler.transform(xTrain)\n",
        "xTest = xScaler.transform(xTest)\n",
        "\n",
        "yTrain,yTest = np.reshape(data[:trainLen],(-1,1)), np.reshape(data[trainLen+xLen+2:],(-1,1)) \n",
        "yScaler = MinMaxScaler()\n",
        "yScaler.fit(yTrain)\n",
        "yTrain = yScaler.transform(yTrain)\n",
        "yTest = yScaler.transform(yTest)\n",
        "\n",
        "trainDataGen = TimeseriesGenerator(xTrain, yTrain, \n",
        "                               length=xLen, sampling_rate=1, \n",
        "                               batch_size=20)                \n",
        "\n",
        "testDataGen = TimeseriesGenerator(xTest, yTest,\n",
        "                               length=xLen, sampling_rate=1,\n",
        "                               batch_size=20)"
      ],
      "execution_count": null,
      "outputs": []
    },
    {
      "cell_type": "code",
      "metadata": {
        "id": "S8aO86Ft6e2U",
        "colab": {
          "base_uri": "https://localhost:8080/",
          "height": 102
        },
        "outputId": "c6c3af87-4d47-4702-a505-0e2e221dcaa0"
      },
      "source": [
        "print(xTrain.shape)\n",
        "print(xTest.shape)\n",
        "print(yTrain.shape)\n",
        "print(yTest.shape)\n",
        "print(trainDataGen[0][0].shape)"
      ],
      "execution_count": null,
      "outputs": [
        {
          "output_type": "stream",
          "text": [
            "(794, 1)\n",
            "(238, 1)\n",
            "(794, 1)\n",
            "(238, 1)\n",
            "(20, 60, 1)\n"
          ],
          "name": "stdout"
        }
      ]
    },
    {
      "cell_type": "markdown",
      "metadata": {
        "id": "C-XQr5LBMw1V"
      },
      "source": [
        "## Визуализация результатов"
      ]
    },
    {
      "cell_type": "code",
      "metadata": {
        "id": "GrlShd_ciOsx"
      },
      "source": [
        "def getPred(currModel, xVal, yVal, yScaler):\n",
        "  predVal = yScaler.inverse_transform(currModel.predict(xVal))\n",
        "  yValUnscaled = yScaler.inverse_transform(yVal)  \n",
        "  return (predVal, yValUnscaled)\n",
        "\n",
        "def showPredict(start, step, channel, predVal, yValUnscaled):\n",
        "  plt.plot(predVal[start:start+step, 0],\n",
        "           label='Прогноз')\n",
        "  plt.plot(yValUnscaled[start:start+step, channel], \n",
        "           label='Базовый ряд')\n",
        "  plt.xlabel('Время')\n",
        "  plt.ylabel('Значение Close')\n",
        "  plt.legend()\n",
        "  plt.show()\n",
        "  \n",
        "def correlate(a, b):\n",
        "  ma = a.mean() \n",
        "  mb = b.mean()\n",
        "  mab = (a*b).mean() \n",
        "  sa = a.std() \n",
        "  sb = b.std()   \n",
        "  val = 1\n",
        "  if ((sa>0) & (sb>0)):\n",
        "    val = (mab-ma*mb)/(sa*sb)\n",
        "  return val\n",
        "\n",
        "def showCorr(channels, corrSteps, predVal, yValUnscaled):\n",
        "  for ch in channels:\n",
        "    corr = []\n",
        "    yLen = yValUnscaled.shape[0] \n",
        "    for i in range(corrSteps):\n",
        "      corr.append(correlate(yValUnscaled[:yLen-i,ch], predVal[i:, 0]))\n",
        "    own_corr = [] \n",
        "    for i in range(corrSteps):\n",
        "      own_corr.append(correlate(yValUnscaled[:yLen-i,ch], yValUnscaled[i:, ch]))\n",
        "    plt.plot(corr, label='Предсказание на ' + str(ch+1) + ' шаг')\n",
        "    plt.plot(own_corr, label='Эталон')\n",
        "    plt.xlabel('Время')\n",
        "    plt.ylabel('Значение')\n",
        "    plt.legend()\n",
        "    plt.show()\n",
        "\n",
        "\n",
        "\n",
        "DataGen = TimeseriesGenerator(xTest, yTest,\n",
        "                               length=xLen, sampling_rate=1,\n",
        "                               batch_size=len(xTest))\n",
        "xVal = []\n",
        "yVal = []\n",
        "for i in DataGen:\n",
        "  xVal.append(i[0])\n",
        "  yVal.append(i[1])\n",
        "\n",
        "xVal = np.array(xVal)\n",
        "yVal = np.array(yVal)"
      ],
      "execution_count": null,
      "outputs": []
    },
    {
      "cell_type": "markdown",
      "metadata": {
        "id": "vA9HoHnjM8m-"
      },
      "source": [
        "## Модель"
      ]
    },
    {
      "cell_type": "code",
      "metadata": {
        "id": "td4iY8Ht_Dmr",
        "colab": {
          "base_uri": "https://localhost:8080/",
          "height": 642
        },
        "outputId": "28adcffe-ec67-44f6-beb8-c20ba9fda982"
      },
      "source": [
        "modelC = Sequential()\n",
        "\n",
        "modelC.add(Conv1D(2048, 5, input_shape = (xLen,1), activation='linear'))\n",
        "modelC.add(Flatten())\n",
        "modelC.add(Dense(2048, activation='linear'))\n",
        "modelC.add(Dense(1, activation='linear'))\n",
        "\n",
        "modelC.compile(loss='mse', optimizer=Adam(lr=1e-4))\n",
        "\n",
        "history = modelC.fit_generator(\n",
        "                    trainDataGen,\n",
        "                    epochs=10, verbose=1,\n",
        "                    validation_data=testDataGen)\n",
        "\n",
        "plt.plot(history.history['loss'], \n",
        "         label='Средняя абсолютная ошибка на обучающем наборе')\n",
        "plt.plot(history.history['val_loss'], \n",
        "         label='Средняя абсолютная ошибка на проверочном наборе')\n",
        "plt.ylabel('Средняя ошибка')\n",
        "plt.legend()\n",
        "plt.show()"
      ],
      "execution_count": null,
      "outputs": [
        {
          "output_type": "stream",
          "text": [
            "Epoch 1/10\n",
            " 1/37 [..............................] - ETA: 0s - loss: 0.5016WARNING:tensorflow:Callbacks method `on_train_batch_end` is slow compared to the batch time (batch time: 0.0092s vs `on_train_batch_end` time: 0.0197s). Check your callbacks.\n",
            "37/37 [==============================] - 1s 30ms/step - loss: 9.9848 - val_loss: 1.0169\n",
            "Epoch 2/10\n",
            "37/37 [==============================] - 1s 27ms/step - loss: 0.3279 - val_loss: 0.0367\n",
            "Epoch 3/10\n",
            "37/37 [==============================] - 1s 27ms/step - loss: 0.0257 - val_loss: 0.0073\n",
            "Epoch 4/10\n",
            "37/37 [==============================] - 1s 28ms/step - loss: 0.0089 - val_loss: 0.0066\n",
            "Epoch 5/10\n",
            "37/37 [==============================] - 1s 28ms/step - loss: 0.0060 - val_loss: 0.0051\n",
            "Epoch 6/10\n",
            "37/37 [==============================] - 1s 28ms/step - loss: 0.0078 - val_loss: 0.0164\n",
            "Epoch 7/10\n",
            "37/37 [==============================] - 1s 27ms/step - loss: 0.0125 - val_loss: 0.0166\n",
            "Epoch 8/10\n",
            "37/37 [==============================] - 1s 28ms/step - loss: 0.0078 - val_loss: 0.0081\n",
            "Epoch 9/10\n",
            "37/37 [==============================] - 1s 28ms/step - loss: 0.0053 - val_loss: 0.0046\n",
            "Epoch 10/10\n",
            "37/37 [==============================] - 1s 27ms/step - loss: 0.0050 - val_loss: 0.0039\n"
          ],
          "name": "stdout"
        },
        {
          "output_type": "display_data",
          "data": {
            "image/png": "[encoded data removed]",
            "text/plain": [
              "<Figure size 432x288 with 1 Axes>"
            ]
          },
          "metadata": {
            "tags": [],
            "needs_background": "light"
          }
        }
      ]
    },
    {
      "cell_type": "code",
      "metadata": {
        "id": "S_jj4cp__HAL",
        "colab": {
          "base_uri": "https://localhost:8080/",
          "height": 541
        },
        "outputId": "d8d7d0e8-ac51-49e9-bf8d-baf82f38bc2f"
      },
      "source": [
        "#Прогнозируем данные текущей сетью\n",
        "currModel = modelC\n",
        "(predVal, yValUnscaled) = getPred(currModel, xVal[0], yVal[0], yScaler)\n",
        "\n",
        "\n",
        "showPredict(0, 4000, 0, predVal, yValUnscaled)\n",
        "\n",
        "showCorr([0], 60, predVal, yValUnscaled)"
      ],
      "execution_count": null,
      "outputs": [
        {
          "output_type": "display_data",
          "data": {
            "image/png": "[encoded data removed]",
            "text/plain": [
              "<Figure size 432x288 with 1 Axes>"
            ]
          },
          "metadata": {
            "tags": [],
            "needs_background": "light"
          }
        },
        {
          "output_type": "display_data",
          "data": {
            "image/png": "[encoded data removed]",
            "text/plain": [
              "<Figure size 432x288 with 1 Axes>"
            ]
          },
          "metadata": {
            "tags": [],
            "needs_background": "light"
          }
        }
      ]
    },
    {
      "cell_type": "code",
      "metadata": {
        "id": "XI03I3AK3GJ7"
      },
      "source": [
        ""
      ],
      "execution_count": null,
      "outputs": []
    }
  ]
}