{
  "nbformat": 4,
  "nbformat_minor": 0,
  "metadata": {
    "accelerator": "GPU",
    "colab": {
      "name": "RL_Model.ipynb",
      "provenance": [],
      "collapsed_sections": [],
      "authorship_tag": "ABX9TyP/CNphYYmQOlz7u7I93hEH",
      "include_colab_link": true
    },
    "kernelspec": {
      "display_name": "Python 3",
      "name": "python3"
    },
    "language_info": {
      "name": "python"
    }
  },
  "cells": [
    {
      "cell_type": "markdown",
      "metadata": {
        "id": "view-in-github",
        "colab_type": "text"
      },
      "source": [
        "<a href=\"https://colab.research.google.com/github/MarkAvilin1/DS-and-ML/blob/main/RL_Model.ipynb\" target=\"_parent\"><img src=\"https://colab.research.google.com/assets/colab-badge.svg\" alt=\"Open In Colab\"/></a>"
      ]
    },
    {
      "cell_type": "markdown",
      "metadata": {
        "id": "G6fp4wuRI02J"
      },
      "source": [
        "#**Задание Ultra Pro**"
      ]
    },
    {
      "cell_type": "code",
      "metadata": {
        "colab": {
          "base_uri": "https://localhost:8080/"
        },
        "id": "nVLGSGjATZhx",
        "outputId": "2746b76c-ec3f-4e18-f5ea-fa1ec3057a04"
      },
      "source": [
        "!pip install  keras-rl2 # Устоновка keras-rl2 для получения агента"
      ],
      "execution_count": null,
      "outputs": [
        {
          "output_type": "stream",
          "name": "stdout",
          "text": [
            "Collecting keras-rl2\n",
            "  Downloading keras_rl2-1.0.5-py3-none-any.whl (52 kB)\n",
            "\u001b[?25l\r\u001b[K     |██████▎                         | 10 kB 12.7 MB/s eta 0:00:01\r\u001b[K     |████████████▋                   | 20 kB 14.9 MB/s eta 0:00:01\r\u001b[K     |██████████████████▉             | 30 kB 11.7 MB/s eta 0:00:01\r\u001b[K     |█████████████████████████▏      | 40 kB 9.8 MB/s eta 0:00:01\r\u001b[K     |███████████████████████████████▍| 51 kB 5.8 MB/s eta 0:00:01\r\u001b[K     |████████████████████████████████| 52 kB 458 kB/s \n",
            "\u001b[?25hRequirement already satisfied: tensorflow in /usr/local/lib/python3.7/dist-packages (from keras-rl2) (2.6.0)\n",
            "Requirement already satisfied: absl-py~=0.10 in /usr/local/lib/python3.7/dist-packages (from tensorflow->keras-rl2) (0.12.0)\n",
            "Requirement already satisfied: tensorflow-estimator~=2.6 in /usr/local/lib/python3.7/dist-packages (from tensorflow->keras-rl2) (2.6.0)\n",
            "Requirement already satisfied: numpy~=1.19.2 in /usr/local/lib/python3.7/dist-packages (from tensorflow->keras-rl2) (1.19.5)\n",
            "Requirement already satisfied: h5py~=3.1.0 in /usr/local/lib/python3.7/dist-packages (from tensorflow->keras-rl2) (3.1.0)\n",
            "Requirement already satisfied: keras-preprocessing~=1.1.2 in /usr/local/lib/python3.7/dist-packages (from tensorflow->keras-rl2) (1.1.2)\n",
            "Requirement already satisfied: wrapt~=1.12.1 in /usr/local/lib/python3.7/dist-packages (from tensorflow->keras-rl2) (1.12.1)\n",
            "Requirement already satisfied: flatbuffers~=1.12.0 in /usr/local/lib/python3.7/dist-packages (from tensorflow->keras-rl2) (1.12)\n",
            "Requirement already satisfied: astunparse~=1.6.3 in /usr/local/lib/python3.7/dist-packages (from tensorflow->keras-rl2) (1.6.3)\n",
            "Requirement already satisfied: protobuf>=3.9.2 in /usr/local/lib/python3.7/dist-packages (from tensorflow->keras-rl2) (3.17.3)\n",
            "Requirement already satisfied: tensorboard~=2.6 in /usr/local/lib/python3.7/dist-packages (from tensorflow->keras-rl2) (2.6.0)\n",
            "Requirement already satisfied: typing-extensions~=3.7.4 in /usr/local/lib/python3.7/dist-packages (from tensorflow->keras-rl2) (3.7.4.3)\n",
            "Requirement already satisfied: clang~=5.0 in /usr/local/lib/python3.7/dist-packages (from tensorflow->keras-rl2) (5.0)\n",
            "Requirement already satisfied: termcolor~=1.1.0 in /usr/local/lib/python3.7/dist-packages (from tensorflow->keras-rl2) (1.1.0)\n",
            "Requirement already satisfied: keras~=2.6 in /usr/local/lib/python3.7/dist-packages (from tensorflow->keras-rl2) (2.6.0)\n",
            "Requirement already satisfied: grpcio<2.0,>=1.37.0 in /usr/local/lib/python3.7/dist-packages (from tensorflow->keras-rl2) (1.41.0)\n",
            "Requirement already satisfied: google-pasta~=0.2 in /usr/local/lib/python3.7/dist-packages (from tensorflow->keras-rl2) (0.2.0)\n",
            "Requirement already satisfied: six~=1.15.0 in /usr/local/lib/python3.7/dist-packages (from tensorflow->keras-rl2) (1.15.0)\n",
            "Requirement already satisfied: opt-einsum~=3.3.0 in /usr/local/lib/python3.7/dist-packages (from tensorflow->keras-rl2) (3.3.0)\n",
            "Requirement already satisfied: gast==0.4.0 in /usr/local/lib/python3.7/dist-packages (from tensorflow->keras-rl2) (0.4.0)\n",
            "Requirement already satisfied: wheel~=0.35 in /usr/local/lib/python3.7/dist-packages (from tensorflow->keras-rl2) (0.37.0)\n",
            "Requirement already satisfied: cached-property in /usr/local/lib/python3.7/dist-packages (from h5py~=3.1.0->tensorflow->keras-rl2) (1.5.2)\n",
            "Requirement already satisfied: google-auth<2,>=1.6.3 in /usr/local/lib/python3.7/dist-packages (from tensorboard~=2.6->tensorflow->keras-rl2) (1.35.0)\n",
            "Requirement already satisfied: tensorboard-plugin-wit>=1.6.0 in /usr/local/lib/python3.7/dist-packages (from tensorboard~=2.6->tensorflow->keras-rl2) (1.8.0)\n",
            "Requirement already satisfied: google-auth-oauthlib<0.5,>=0.4.1 in /usr/local/lib/python3.7/dist-packages (from tensorboard~=2.6->tensorflow->keras-rl2) (0.4.6)\n",
            "Requirement already satisfied: werkzeug>=0.11.15 in /usr/local/lib/python3.7/dist-packages (from tensorboard~=2.6->tensorflow->keras-rl2) (1.0.1)\n",
            "Requirement already satisfied: requests<3,>=2.21.0 in /usr/local/lib/python3.7/dist-packages (from tensorboard~=2.6->tensorflow->keras-rl2) (2.23.0)\n",
            "Requirement already satisfied: tensorboard-data-server<0.7.0,>=0.6.0 in /usr/local/lib/python3.7/dist-packages (from tensorboard~=2.6->tensorflow->keras-rl2) (0.6.1)\n",
            "Requirement already satisfied: markdown>=2.6.8 in /usr/local/lib/python3.7/dist-packages (from tensorboard~=2.6->tensorflow->keras-rl2) (3.3.4)\n",
            "Requirement already satisfied: setuptools>=41.0.0 in /usr/local/lib/python3.7/dist-packages (from tensorboard~=2.6->tensorflow->keras-rl2) (57.4.0)\n",
            "Requirement already satisfied: cachetools<5.0,>=2.0.0 in /usr/local/lib/python3.7/dist-packages (from google-auth<2,>=1.6.3->tensorboard~=2.6->tensorflow->keras-rl2) (4.2.4)\n",
            "Requirement already satisfied: rsa<5,>=3.1.4 in /usr/local/lib/python3.7/dist-packages (from google-auth<2,>=1.6.3->tensorboard~=2.6->tensorflow->keras-rl2) (4.7.2)\n",
            "Requirement already satisfied: pyasn1-modules>=0.2.1 in /usr/local/lib/python3.7/dist-packages (from google-auth<2,>=1.6.3->tensorboard~=2.6->tensorflow->keras-rl2) (0.2.8)\n",
            "Requirement already satisfied: requests-oauthlib>=0.7.0 in /usr/local/lib/python3.7/dist-packages (from google-auth-oauthlib<0.5,>=0.4.1->tensorboard~=2.6->tensorflow->keras-rl2) (1.3.0)\n",
            "Requirement already satisfied: importlib-metadata in /usr/local/lib/python3.7/dist-packages (from markdown>=2.6.8->tensorboard~=2.6->tensorflow->keras-rl2) (4.8.1)\n",
            "Requirement already satisfied: pyasn1<0.5.0,>=0.4.6 in /usr/local/lib/python3.7/dist-packages (from pyasn1-modules>=0.2.1->google-auth<2,>=1.6.3->tensorboard~=2.6->tensorflow->keras-rl2) (0.4.8)\n",
            "Requirement already satisfied: chardet<4,>=3.0.2 in /usr/local/lib/python3.7/dist-packages (from requests<3,>=2.21.0->tensorboard~=2.6->tensorflow->keras-rl2) (3.0.4)\n",
            "Requirement already satisfied: urllib3!=1.25.0,!=1.25.1,<1.26,>=1.21.1 in /usr/local/lib/python3.7/dist-packages (from requests<3,>=2.21.0->tensorboard~=2.6->tensorflow->keras-rl2) (1.24.3)\n",
            "Requirement already satisfied: certifi>=2017.4.17 in /usr/local/lib/python3.7/dist-packages (from requests<3,>=2.21.0->tensorboard~=2.6->tensorflow->keras-rl2) (2021.5.30)\n",
            "Requirement already satisfied: idna<3,>=2.5 in /usr/local/lib/python3.7/dist-packages (from requests<3,>=2.21.0->tensorboard~=2.6->tensorflow->keras-rl2) (2.10)\n",
            "Requirement already satisfied: oauthlib>=3.0.0 in /usr/local/lib/python3.7/dist-packages (from requests-oauthlib>=0.7.0->google-auth-oauthlib<0.5,>=0.4.1->tensorboard~=2.6->tensorflow->keras-rl2) (3.1.1)\n",
            "Requirement already satisfied: zipp>=0.5 in /usr/local/lib/python3.7/dist-packages (from importlib-metadata->markdown>=2.6.8->tensorboard~=2.6->tensorflow->keras-rl2) (3.6.0)\n",
            "Installing collected packages: keras-rl2\n",
            "Successfully installed keras-rl2-1.0.5\n"
          ]
        }
      ]
    },
    {
      "cell_type": "code",
      "metadata": {
        "id": "kXXJP6J3SBan"
      },
      "source": [
        "import gym \n",
        "import random\n",
        "import numpy as np\n",
        "\n",
        "from rl.agents import DQNAgent\n",
        "from rl.policy import BoltzmannQPolicy\n",
        "from rl.memory import SequentialMemory\n",
        "\n",
        "from tensorflow.keras.optimizers import Adam\n",
        "from tensorflow.keras.models import Sequential\n",
        "from tensorflow.keras.layers import Dense, Flatten"
      ],
      "execution_count": null,
      "outputs": []
    },
    {
      "cell_type": "code",
      "metadata": {
        "id": "tYEasCPASmLW"
      },
      "source": [
        "env = gym.make('CartPole-v1') # вызвать среду \n",
        "states = env.observation_space.shape[0]\n",
        "actions = env.action_space.n"
      ],
      "execution_count": null,
      "outputs": []
    },
    {
      "cell_type": "code",
      "metadata": {
        "colab": {
          "base_uri": "https://localhost:8080/"
        },
        "id": "lxh2HowKVIPx",
        "outputId": "a3888cc5-92e2-4bef-9e89-95aa59072ea1"
      },
      "source": [
        "states"
      ],
      "execution_count": null,
      "outputs": [
        {
          "output_type": "execute_result",
          "data": {
            "text/plain": [
              "4"
            ]
          },
          "metadata": {},
          "execution_count": 4
        }
      ]
    },
    {
      "cell_type": "code",
      "metadata": {
        "id": "69_41qpoSrY-"
      },
      "source": [
        "def build_model(states, actions):\n",
        "  \"\"\"\n",
        "  Функция для создания НС\n",
        "  \"\"\"\n",
        "    model = Sequential()\n",
        "    model.add(Flatten(input_shape=(1,states)))\n",
        "    model.add(Dense(24, activation='relu'))\n",
        "    model.add(Dense(24, activation='relu'))\n",
        "    model.add(Dense(actions, activation='linear'))\n",
        "    return model"
      ],
      "execution_count": null,
      "outputs": []
    },
    {
      "cell_type": "code",
      "metadata": {
        "id": "vyCU2OrySwE5"
      },
      "source": [
        "model = build_model(states, actions) # Получить модель для дальнейшего обучения"
      ],
      "execution_count": null,
      "outputs": []
    },
    {
      "cell_type": "code",
      "metadata": {
        "id": "LgUhMfNSSzd6",
        "colab": {
          "base_uri": "https://localhost:8080/"
        },
        "outputId": "709af78e-aa05-4c2c-f3ea-1df3e11dff2b"
      },
      "source": [
        "model.summary()"
      ],
      "execution_count": null,
      "outputs": [
        {
          "output_type": "stream",
          "name": "stdout",
          "text": [
            "Model: \"sequential_1\"\n",
            "_________________________________________________________________\n",
            "Layer (type)                 Output Shape              Param #   \n",
            "=================================================================\n",
            "flatten_1 (Flatten)          (None, 4)                 0         \n",
            "_________________________________________________________________\n",
            "dense_3 (Dense)              (None, 24)                120       \n",
            "_________________________________________________________________\n",
            "dense_4 (Dense)              (None, 24)                600       \n",
            "_________________________________________________________________\n",
            "dense_5 (Dense)              (None, 2)                 50        \n",
            "=================================================================\n",
            "Total params: 770\n",
            "Trainable params: 770\n",
            "Non-trainable params: 0\n",
            "_________________________________________________________________\n"
          ]
        }
      ]
    },
    {
      "cell_type": "code",
      "metadata": {
        "id": "wHMzUHykS1qT"
      },
      "source": [
        "def build_agent(model, actions):\n",
        "  \"\"\"\n",
        "  Функция для получения агента\n",
        "  \"\"\"\n",
        "    policy = BoltzmannQPolicy()\n",
        "    memory = SequentialMemory(limit=50000, window_length=1)\n",
        "    dqn = DQNAgent(model=model, memory=memory, policy=policy, \n",
        "                  nb_actions=actions, nb_steps_warmup=10, target_model_update=1e-2)\n",
        "    return dqn"
      ],
      "execution_count": null,
      "outputs": []
    },
    {
      "cell_type": "code",
      "metadata": {
        "id": "Tb1cLpBaS5y4",
        "colab": {
          "base_uri": "https://localhost:8080/"
        },
        "outputId": "458d323e-55a8-4e98-e125-098ea0d780bb"
      },
      "source": [
        "\"\"\"\n",
        "Обучать модель с подкреплением\n",
        "\"\"\"\n",
        "dqn = build_agent(model, actions)\n",
        "dqn.compile(Adam(lr=1e-3), metrics=['mae'])\n",
        "dqn.fit(env, nb_steps=50000, visualize=False, verbose=1)"
      ],
      "execution_count": null,
      "outputs": [
        {
          "output_type": "stream",
          "name": "stderr",
          "text": [
            "/usr/local/lib/python3.7/dist-packages/keras/optimizer_v2/optimizer_v2.py:356: UserWarning: The `lr` argument is deprecated, use `learning_rate` instead.\n",
            "  \"The `lr` argument is deprecated, use `learning_rate` instead.\")\n"
          ]
        },
        {
          "output_type": "stream",
          "name": "stdout",
          "text": [
            "Training for 50000 steps ...\n",
            "Interval 1 (0 steps performed)\n",
            "\r    1/10000 [..............................] - ETA: 11:55 - reward: 1.0000"
          ]
        },
        {
          "output_type": "stream",
          "name": "stderr",
          "text": [
            "/usr/local/lib/python3.7/dist-packages/keras/engine/training.py:2470: UserWarning: `Model.state_updates` will be removed in a future version. This property should not be used in TensorFlow 2.0, as `updates` are applied automatically.\n",
            "  warnings.warn('`Model.state_updates` will be removed in a future version. '\n",
            "/usr/local/lib/python3.7/dist-packages/rl/memory.py:37: UserWarning: Not enough entries to sample without replacement. Consider increasing your warm-up phase to avoid oversampling!\n",
            "  warnings.warn('Not enough entries to sample without replacement. Consider increasing your warm-up phase to avoid oversampling!')\n"
          ]
        },
        {
          "output_type": "stream",
          "name": "stdout",
          "text": [
            "10000/10000 [==============================] - 135s 14ms/step - reward: 1.0000\n",
            "117 episodes - episode_reward: 85.274 [10.000, 380.000] - loss: 1.274 - mae: 18.741 - mean_q: 38.023\n",
            "\n",
            "Interval 2 (10000 steps performed)\n",
            "10000/10000 [==============================] - 135s 13ms/step - reward: 1.0000\n",
            "50 episodes - episode_reward: 198.940 [120.000, 347.000] - loss: 2.176 - mae: 38.617 - mean_q: 78.290\n",
            "\n",
            "Interval 3 (20000 steps performed)\n",
            "10000/10000 [==============================] - 137s 14ms/step - reward: 1.0000\n",
            "41 episodes - episode_reward: 244.634 [166.000, 401.000] - loss: 1.853 - mae: 41.784 - mean_q: 84.412\n",
            "\n",
            "Interval 4 (30000 steps performed)\n",
            "10000/10000 [==============================] - 137s 14ms/step - reward: 1.0000\n",
            "37 episodes - episode_reward: 264.081 [171.000, 428.000] - loss: 1.249 - mae: 41.531 - mean_q: 83.858\n",
            "\n",
            "Interval 5 (40000 steps performed)\n",
            "10000/10000 [==============================] - 139s 14ms/step - reward: 1.0000\n",
            "done, took 682.908 seconds\n"
          ]
        },
        {
          "output_type": "execute_result",
          "data": {
            "text/plain": [
              "<keras.callbacks.History at 0x7fdcaea578d0>"
            ]
          },
          "metadata": {},
          "execution_count": 32
        }
      ]
    },
    {
      "cell_type": "code",
      "metadata": {
        "colab": {
          "base_uri": "https://localhost:8080/"
        },
        "id": "TFr2R-69SnFj",
        "outputId": "0ed15b07-7385-4065-c84c-53871a409de7"
      },
      "source": [
        "\"\"\"\n",
        "Показать рандомный результат, без обучения \n",
        "\"\"\"\n",
        "episodes = 100\n",
        "result = []\n",
        "for episode in range(1, episodes + 1):\n",
        "    state = env.reset()\n",
        "    done = False\n",
        "    score = 0 \n",
        "    \n",
        "    while not done:\n",
        "        # env.render()\n",
        "        action = random.choice([0,1])\n",
        "        n_state, reward, done, info = env.step(action)\n",
        "        score += reward\n",
        "    result.append(f'Episode: {episode} Score: {score}')\n",
        "    \n",
        "for i in range(10):\n",
        "  idx = random.randint(0, 99)\n",
        "  print(result[idx])"
      ],
      "execution_count": null,
      "outputs": [
        {
          "output_type": "stream",
          "name": "stdout",
          "text": [
            "Episode: 9 Score: 16.0\n",
            "Episode: 56 Score: 38.0\n",
            "Episode: 23 Score: 8.0\n",
            "Episode: 52 Score: 20.0\n",
            "Episode: 2 Score: 29.0\n",
            "Episode: 43 Score: 17.0\n",
            "Episode: 33 Score: 41.0\n",
            "Episode: 10 Score: 11.0\n",
            "Episode: 7 Score: 11.0\n",
            "Episode: 6 Score: 33.0\n"
          ]
        }
      ]
    },
    {
      "cell_type": "code",
      "metadata": {
        "id": "SIGQbQVQS9Zz",
        "colab": {
          "base_uri": "https://localhost:8080/"
        },
        "outputId": "ee76195e-3b69-4b56-f764-8b86fb6d1710"
      },
      "source": [
        "\"\"\"\n",
        "Тестировать результат обучения и вывести его\n",
        "\"\"\"\n",
        "scores = dqn.test(env, nb_episodes=100, visualize=False)\n",
        "print(np.mean(scores.history['episode_reward']))"
      ],
      "execution_count": null,
      "outputs": [
        {
          "output_type": "stream",
          "name": "stdout",
          "text": [
            "Testing for 100 episodes ...\n",
            "Episode 1: reward: 212.000, steps: 212\n",
            "Episode 2: reward: 269.000, steps: 269\n",
            "Episode 3: reward: 397.000, steps: 397\n",
            "Episode 4: reward: 500.000, steps: 500\n",
            "Episode 5: reward: 500.000, steps: 500\n",
            "Episode 6: reward: 500.000, steps: 500\n",
            "Episode 7: reward: 500.000, steps: 500\n",
            "Episode 8: reward: 500.000, steps: 500\n",
            "Episode 9: reward: 500.000, steps: 500\n",
            "Episode 10: reward: 351.000, steps: 351\n",
            "Episode 11: reward: 500.000, steps: 500\n",
            "Episode 12: reward: 500.000, steps: 500\n",
            "Episode 13: reward: 295.000, steps: 295\n",
            "Episode 14: reward: 500.000, steps: 500\n",
            "Episode 15: reward: 500.000, steps: 500\n",
            "Episode 16: reward: 500.000, steps: 500\n",
            "Episode 17: reward: 279.000, steps: 279\n",
            "Episode 18: reward: 247.000, steps: 247\n",
            "Episode 19: reward: 500.000, steps: 500\n",
            "Episode 20: reward: 500.000, steps: 500\n",
            "Episode 21: reward: 500.000, steps: 500\n",
            "Episode 22: reward: 500.000, steps: 500\n",
            "Episode 23: reward: 500.000, steps: 500\n",
            "Episode 24: reward: 500.000, steps: 500\n",
            "Episode 25: reward: 500.000, steps: 500\n",
            "Episode 26: reward: 500.000, steps: 500\n",
            "Episode 27: reward: 311.000, steps: 311\n",
            "Episode 28: reward: 500.000, steps: 500\n",
            "Episode 29: reward: 500.000, steps: 500\n",
            "Episode 30: reward: 313.000, steps: 313\n",
            "Episode 31: reward: 500.000, steps: 500\n",
            "Episode 32: reward: 500.000, steps: 500\n",
            "Episode 33: reward: 500.000, steps: 500\n",
            "Episode 34: reward: 500.000, steps: 500\n",
            "Episode 35: reward: 500.000, steps: 500\n",
            "Episode 36: reward: 500.000, steps: 500\n",
            "Episode 37: reward: 500.000, steps: 500\n",
            "Episode 38: reward: 500.000, steps: 500\n",
            "Episode 39: reward: 500.000, steps: 500\n",
            "Episode 40: reward: 500.000, steps: 500\n",
            "Episode 41: reward: 500.000, steps: 500\n",
            "Episode 42: reward: 305.000, steps: 305\n",
            "Episode 43: reward: 500.000, steps: 500\n",
            "Episode 44: reward: 500.000, steps: 500\n",
            "Episode 45: reward: 500.000, steps: 500\n",
            "Episode 46: reward: 500.000, steps: 500\n",
            "Episode 47: reward: 500.000, steps: 500\n",
            "Episode 48: reward: 500.000, steps: 500\n",
            "Episode 49: reward: 500.000, steps: 500\n",
            "Episode 50: reward: 177.000, steps: 177\n",
            "Episode 51: reward: 500.000, steps: 500\n",
            "Episode 52: reward: 500.000, steps: 500\n",
            "Episode 53: reward: 470.000, steps: 470\n",
            "Episode 54: reward: 500.000, steps: 500\n",
            "Episode 55: reward: 500.000, steps: 500\n",
            "Episode 56: reward: 500.000, steps: 500\n",
            "Episode 57: reward: 500.000, steps: 500\n",
            "Episode 58: reward: 500.000, steps: 500\n",
            "Episode 59: reward: 500.000, steps: 500\n",
            "Episode 60: reward: 500.000, steps: 500\n",
            "Episode 61: reward: 500.000, steps: 500\n",
            "Episode 62: reward: 500.000, steps: 500\n",
            "Episode 63: reward: 500.000, steps: 500\n",
            "Episode 64: reward: 500.000, steps: 500\n",
            "Episode 65: reward: 500.000, steps: 500\n",
            "Episode 66: reward: 500.000, steps: 500\n",
            "Episode 67: reward: 500.000, steps: 500\n",
            "Episode 68: reward: 500.000, steps: 500\n",
            "Episode 69: reward: 500.000, steps: 500\n",
            "Episode 70: reward: 497.000, steps: 497\n",
            "Episode 71: reward: 500.000, steps: 500\n",
            "Episode 72: reward: 500.000, steps: 500\n",
            "Episode 73: reward: 500.000, steps: 500\n",
            "Episode 74: reward: 500.000, steps: 500\n",
            "Episode 75: reward: 500.000, steps: 500\n",
            "Episode 76: reward: 500.000, steps: 500\n",
            "Episode 77: reward: 431.000, steps: 431\n",
            "Episode 78: reward: 500.000, steps: 500\n",
            "Episode 79: reward: 411.000, steps: 411\n",
            "Episode 80: reward: 241.000, steps: 241\n",
            "Episode 81: reward: 500.000, steps: 500\n",
            "Episode 82: reward: 288.000, steps: 288\n",
            "Episode 83: reward: 269.000, steps: 269\n",
            "Episode 84: reward: 500.000, steps: 500\n",
            "Episode 85: reward: 500.000, steps: 500\n",
            "Episode 86: reward: 500.000, steps: 500\n",
            "Episode 87: reward: 500.000, steps: 500\n",
            "Episode 88: reward: 500.000, steps: 500\n",
            "Episode 89: reward: 447.000, steps: 447\n",
            "Episode 90: reward: 500.000, steps: 500\n",
            "Episode 91: reward: 500.000, steps: 500\n",
            "Episode 92: reward: 500.000, steps: 500\n",
            "Episode 93: reward: 435.000, steps: 435\n",
            "Episode 94: reward: 415.000, steps: 415\n",
            "Episode 95: reward: 500.000, steps: 500\n",
            "Episode 96: reward: 500.000, steps: 500\n",
            "Episode 97: reward: 500.000, steps: 500\n",
            "Episode 98: reward: 500.000, steps: 500\n",
            "Episode 99: reward: 223.000, steps: 223\n",
            "Episode 100: reward: 500.000, steps: 500\n",
            "462.83\n"
          ]
        }
      ]
    },
    {
      "cell_type": "code",
      "metadata": {
        "colab": {
          "base_uri": "https://localhost:8080/"
        },
        "id": "9S2l50fQBvX_",
        "outputId": "f94c8e41-698b-4042-ce35-a2be9ba3d647"
      },
      "source": [
        "\"\"\"\n",
        "Сравнить результат до и после обучения \n",
        "\"\"\"\n",
        "for _ in range(10):\n",
        "  idx = random.randint(0, 99)\n",
        "  print(\"Random results =>\",result[idx], \"<===> Results after RL =>\", np.mean(scores.history['episode_reward'][idx]))"
      ],
      "execution_count": null,
      "outputs": [
        {
          "output_type": "stream",
          "name": "stdout",
          "text": [
            "Random results => Episode: 31 Score: 16.0 <===> Results after RL => 500.0\n",
            "Random results => Episode: 59 Score: 20.0 <===> Results after RL => 500.0\n",
            "Random results => Episode: 86 Score: 32.0 <===> Results after RL => 500.0\n",
            "Random results => Episode: 18 Score: 51.0 <===> Results after RL => 247.0\n",
            "Random results => Episode: 15 Score: 15.0 <===> Results after RL => 500.0\n",
            "Random results => Episode: 25 Score: 43.0 <===> Results after RL => 500.0\n",
            "Random results => Episode: 71 Score: 30.0 <===> Results after RL => 500.0\n",
            "Random results => Episode: 41 Score: 11.0 <===> Results after RL => 500.0\n",
            "Random results => Episode: 12 Score: 12.0 <===> Results after RL => 500.0\n",
            "Random results => Episode: 91 Score: 11.0 <===> Results after RL => 500.0\n"
          ]
        }
      ]
    },
    {
      "cell_type": "code",
      "metadata": {
        "id": "-po4gBlPTCBP"
      },
      "source": [
        "# _ = dqn.test(env, nb_episodes=15, visualize=True) "
      ],
      "execution_count": null,
      "outputs": []
    },
    {
      "cell_type": "markdown",
      "metadata": {
        "id": "6x2vJVOmG2TL"
      },
      "source": [
        "Нельзя визуализировать вот эту среду, так как размерность у нее (4,), результат можно смотреть после сравнения, до обучения и после где максимальный балл 500.\n",
        "\n",
        "У меня на компьютере нормально показывает! В поиске за решением понял что это проблема не только у меня, надесь что результат сравнения хватит для защиты этой работы "
      ]
    },
    {
      "cell_type": "code",
      "metadata": {
        "id": "wgg5aUEnkgxM"
      },
      "source": [
        ""
      ],
      "execution_count": null,
      "outputs": []
    }
  ]
}