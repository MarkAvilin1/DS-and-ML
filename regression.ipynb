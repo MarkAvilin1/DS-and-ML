{
  "nbformat": 4,
  "nbformat_minor": 0,
  "metadata": {
    "colab": {
      "name": "regression.ipynb",
      "provenance": [],
      "collapsed_sections": [],
      "authorship_tag": "ABX9TyMait9fS/gd+HHpWqVZuNU9",
      "include_colab_link": true
    },
    "kernelspec": {
      "name": "python3",
      "display_name": "Python 3"
    },
    "language_info": {
      "name": "python"
    },
    "accelerator": "GPU"
  },
  "cells": [
    {
      "cell_type": "markdown",
      "metadata": {
        "id": "view-in-github",
        "colab_type": "text"
      },
      "source": [
        "<a href=\"https://colab.research.google.com/github/MarkAvilin1/DS-and-ML/blob/main/regression.ipynb\" target=\"_parent\"><img src=\"https://colab.research.google.com/assets/colab-badge.svg\" alt=\"Open In Colab\"/></a>"
      ]
    },
    {
      "cell_type": "markdown",
      "metadata": {
        "id": "bx13cEsrh5Bk"
      },
      "source": [
        "Домашнее задание уровень Ultra Pro"
      ]
    },
    {
      "cell_type": "code",
      "metadata": {
        "id": "6Y-Ogn1chus2"
      },
      "source": [
        "import numpy as np\n",
        "import pandas as pd \n",
        "\n",
        "from tensorflow.keras.models import Sequential, Model  \n",
        "from tensorflow.keras.layers import concatenate, Input, Dense, Dropout, BatchNormalization, Flatten \n",
        "from tensorflow.keras import utils \n",
        "from tensorflow.keras.optimizers import Adam,Adadelta,SGD,Adagrad,RMSprop \n",
        "from tensorflow.keras.preprocessing.text import Tokenizer, text_to_word_sequence\n",
        "from tensorflow.keras.preprocessing.sequence import pad_sequences \n",
        "from tensorflow.keras.callbacks import LambdaCallback \n",
        "\n",
        "from sklearn.preprocessing import StandardScaler \n",
        "from sklearn.model_selection import train_test_split \n",
        "from sklearn.metrics import mean_squared_error, mean_absolute_error \n",
        "#from google.colab import files\n",
        "\n",
        "import random \n",
        "import math \n",
        "#import os \n",
        "import re\n",
        "import matplotlib.pyplot as plt \n",
        "%matplotlib inline\n",
        "\n",
        "from IPython.display import clear_output\n",
        "from google.colab import drive"
      ],
      "execution_count": null,
      "outputs": []
    },
    {
      "cell_type": "code",
      "metadata": {
        "colab": {
          "base_uri": "https://localhost:8080/"
        },
        "id": "NI-ee64806OV",
        "outputId": "8eb9f404-dcc9-4c35-a5d9-ffc0a13eb0f2"
      },
      "source": [
        "drive.mount('/content/drive')"
      ],
      "execution_count": null,
      "outputs": [
        {
          "output_type": "stream",
          "text": [
            "Mounted at /content/drive\n"
          ],
          "name": "stdout"
        }
      ]
    },
    {
      "cell_type": "code",
      "metadata": {
        "id": "5jD-AHFIiWIG"
      },
      "source": [
        "fixed_df = pd.read_csv('/content/drive/MyDrive/University AI/hh_fixed.csv')"
      ],
      "execution_count": null,
      "outputs": []
    },
    {
      "cell_type": "code",
      "metadata": {
        "id": "CCUctadP9H0q"
      },
      "source": [
        "fixed_df = fixed_df.drop(fixed_df.columns[0], axis=1)"
      ],
      "execution_count": null,
      "outputs": []
    },
    {
      "cell_type": "code",
      "metadata": {
        "colab": {
          "base_uri": "https://localhost:8080/"
        },
        "id": "wQJvQskovaPA",
        "outputId": "d0931600-a9b0-4283-e161-e9d4ba4dafdc"
      },
      "source": [
        "for j in range(fixed_df.shape[1]):  \n",
        "    for i in range(fixed_df.shape[0]): \n",
        "        if type(fixed_df.values[i][j])!= float: \n",
        "            fixed_df.values[i][j] = fixed_df.values[i][j].replace(\"\\xa0\", \"\")\n",
        "            fixed_df.values[i][j] = fixed_df.values[i][j].replace(\"\\n\", \" \")\n",
        "      \n",
        "fixed_df.shape"
      ],
      "execution_count": null,
      "outputs": [
        {
          "output_type": "execute_result",
          "data": {
            "text/plain": [
              "(62967, 12)"
            ]
          },
          "metadata": {
            "tags": []
          },
          "execution_count": 5
        }
      ]
    },
    {
      "cell_type": "code",
      "metadata": {
        "colab": {
          "base_uri": "https://localhost:8080/"
        },
        "id": "bXPZObzmyWOg",
        "outputId": "75fa45bf-98ed-44c7-9fa3-937b3afd1b45"
      },
      "source": [
        "lst = []\n",
        "for i in range(40000):\n",
        "  lst.append(fixed_df.values[i])\n",
        "\n",
        "df = np.array(lst)\n",
        "print(df.shape)\n",
        "print(df[0])"
      ],
      "execution_count": null,
      "outputs": [
        {
          "output_type": "stream",
          "text": [
            "(40000, 12)\n",
            "['Мужчина ,  29 лет , родился 16 мая 1989' '40000 руб.'\n",
            " 'Специалист по поддержке чата(support team) домашний агент'\n",
            " 'Новороссийск , готов к переезду (Анапа, Геленджик) , не готов к командировкам'\n",
            " 'полная занятость' 'полный день'\n",
            " 'Опыт работы 3 года 9 месяцев  Специалист по поддержке чата(support team) домашний агент 40 000 руб. Информационные технологии, интернет, телеком Системный администратор Сотовые, Беспроводные технологии Телекоммуникации Занятость: полная занятость График работы: полный день Опыт работы 3 года 9 месяцев Май 2012 — Январь  2016 3 года 9 месяцев ООО \"Гольфстрим\" Республика Башкортостан Строительство, недвижимость, эксплуатация, проектирование ... Строительство жилищное Управление и эксплуатация недвижимости Генеральный директор Руководство, отладка деловых связей, заключение договоров, развитие организации Ключевые навыки Теперь резюме открыто всему интернету — изменить можно в настройках видимости. Заключение договоров Деловое общение Деловая коммуникация Пользователь ПК Ведение переговоров Управление персоналом Деловая переписка Составление договоров Телефонные переговоры Грамотная речь MS Outlook Водительское удостоверение категории B Работа в команде Возникли неполадки. Попробуйте еще раз. Опыт вождения Права категории B Обо мне Электроника, новые технологии, автомобили, охота, природа, музыка, путешествия. Высшее образование 2011 Кликнув на название учебного заведения вы сможете найти кандидатов из этого вуза. Международный юридический институт при Министерстве юстиции Российской Федерации, Москва Юридический факультет, Юриспруденция Знание языков Русский — Родной Английский — A1 — Начальный Гражданство, время в пути до работы Гражданство: Россия Разрешение на работу: Россия Желательное время в пути до работы: Не имеет значения  Опыт работы 3 года 9 месяцев Май 2012 — Январь  2016 3 года 9 месяцев ООО \"Гольфстрим\" Республика Башкортостан Строительство, недвижимость, эксплуатация, проектирование ... Строительство жилищное Управление и эксплуатация недвижимости Генеральный директор Руководство, отладка деловых связей, заключение договоров, развитие организации  Май 2012 — Январь  2016 3 года 9 месяцев ООО \"Гольфстрим\" Республика Башкортостан Строительство, недвижимость, эксплуатация, проектирование ... Строительство жилищное Управление и эксплуатация недвижимости Генеральный директор Руководство, отладка деловых связей, заключение договоров, развитие организации'\n",
            " 'ООО \"Гольфстрим\"' 'Генеральный директор'\n",
            " 'Высшее образование 2011  Международный юридический институт при Министерстве юстиции Российской Федерации, Москва Юридический факультет, Юриспруденция'\n",
            " '26.04.2019 08:04' 'Не указано']\n"
          ],
          "name": "stdout"
        }
      ]
    },
    {
      "cell_type": "code",
      "metadata": {
        "id": "g-nYtToClWt4"
      },
      "source": [
        "# Данные о поле и возрасте\n",
        "def getParameterSexAge(arg):\n",
        "  out = [0,0]\n",
        "  if \"М\" in arg:\n",
        "    out[0] = 1\n",
        "  year_tec = 2020\n",
        "  if (len(arg) > 7):\n",
        "    out[1] = year_tec - int(re.findall(r'\\d{4}', arg)[0])\n",
        "  return out\n",
        "\n",
        "# Полученный возраст превращаем в класс возрастной категории\n",
        "def getParameterAgeVect(arg):\n",
        "  outClass =int((arg-13)/5)\n",
        "  outClass = max(0, min(10,outClass))\n",
        "  return list(utils.to_categorical(outClass, 11).astype('int'))\n",
        "\n",
        "\n",
        "# Зарплата\n",
        "def getParameterSalary(arg):\n",
        "    num = arg\n",
        "    if (type(num) == str):\n",
        "        num = re.sub(' ','',num)\n",
        "        num = re.sub('[а-яА-ЯёЁ]','',num)\n",
        "        num = re.sub('[a-zA-Z]','',num)\n",
        "        num = num.replace('.','')\n",
        "        \n",
        "        curr = re.sub('[0-9]','',arg)\n",
        "        curr = curr.replace('.','').strip()\n",
        "        \n",
        "        if curr == 'USD':\n",
        "           num = float(num)*65\n",
        "        elif curr == 'KZT':\n",
        "           num = float(num)*0.17\n",
        "        elif curr=='грн':\n",
        "           num = float(num)*2.6\n",
        "        elif curr=='белруб':\n",
        "           num = float(num)*30.5\n",
        "        elif curr=='EUR':\n",
        "           num = float(num)*70\n",
        "        elif curr=='KGS':\n",
        "           num = float(num)*0.9\n",
        "        elif curr=='сум':\n",
        "           num = float(num)*0.007\n",
        "        elif curr=='AZN':\n",
        "           num = float(num)*37.5\n",
        "       \n",
        "    return int(num)\n",
        "\n",
        "\n",
        "# Данные о городе\n",
        "def getParameterCity(arg):\n",
        "  millionCities = \"Новосибирск Екатеринбург Нижний Новгород Казань Челябинск Омск Самара Ростов-на-Дону Уфа Красноярск Пермь Воронеж Волгоград\"\n",
        "  sarg=arg.split(',')\n",
        "  for item in sarg:\n",
        "    item= item.strip()\n",
        "    if item == \"Москва\":          return [1, 0, 0, 0]\n",
        "    if item == \"Санкт-Петербург\": return [0, 1, 0, 0]\n",
        "    if item in millionCities:     return [0, 0, 1, 0]\n",
        "  return [0, 0, 0, 1]\n",
        "\n",
        "# Данные о желаемой занятости\n",
        "def getParameterEmployment(arg):\n",
        "  out= [0, 0, 0, 0]\n",
        "  if (\"стажировка\" in arg):           out[0]=1\n",
        "  if (\"частичная занятость\" in arg):  out[1]=1\n",
        "  if (\"проектная работа\" in arg):     out[2]=1\n",
        "  if (\"полная занятость\" in arg):     out[3]=1\n",
        "  return out\n",
        "\n",
        "# Данные о желаемом графике работы\n",
        "def getParameterSchedule(arg):\n",
        "  out = [0, 0, 0, 0]\n",
        "  if (\"гибкий график\" in arg):    out[0]=1\n",
        "  if (\"полный день\" in arg):      out[1]=1\n",
        "  if (\"сменный график\" in arg):   out[2]=1\n",
        "  if (\"удаленная работа\" in arg): out[3]=1\n",
        "  return out\n",
        "\n",
        "# Данные об образовании\n",
        "def getParameterEducation(arg):\n",
        "  out = [0, 0, 0, 0] \n",
        "  if arg in \"Высшее Higher education\":  out[0] = 1\n",
        "  if arg in \"Среднее специальное\":      out[1] = 1\n",
        "  if arg in \"Неоконченное высшее\":      out[2] = 1\n",
        "  if arg in \"Среднее образование\":      out[3] = 1\n",
        "  return out\n",
        "\n",
        "# Данные об опыте работы\n",
        "def getParameterExperience(arg):\n",
        "  arg = str(arg)\n",
        "  symbols = 0\n",
        "  years = 0\n",
        "  months = 0\n",
        "  for s in arg:\n",
        "    if (s != \" \"):\n",
        "      symbols += 1\n",
        "\n",
        "  if (symbols > 10):\n",
        "      spacesIndexes = []\n",
        "      index = 0\n",
        "      while ((len(spacesIndexes) < 5) & (index < len(arg))):\n",
        "          if (arg[index] == \" \"):\n",
        "              spacesIndexes.append(index)\n",
        "          index += 1\n",
        "\n",
        "      years = 0\n",
        "      months = 0\n",
        "      if (arg[spacesIndexes[2]+1] != \"м\"):\n",
        "         if (len(spacesIndexes) >= 3):\n",
        "            yearsStr = arg[spacesIndexes[1]:spacesIndexes[2]]\n",
        "            years = int(yearsStr)\n",
        "      \n",
        "         if (len(spacesIndexes) >= 5):\n",
        "            monthsStr = arg[spacesIndexes[3]:spacesIndexes[4]]\n",
        "            if(arg[spacesIndexes[2]+1] == \"м\"):\n",
        "                months = int(monthsStr)\n",
        "      else:\n",
        "        if (len(spacesIndexes) >= 3):\n",
        "          monthsStr = arg[spacesIndexes[1]:spacesIndexes[2]]\n",
        "          months = int(monthsStr)\n",
        "      \n",
        "  return 12*years+months\n",
        "\n",
        "# Категориальное представление опыта работы\n",
        "def getParameterExperienceVector(arg):\n",
        "  out = getParameterExperience(arg)\n",
        "  outClass = 0\n",
        "  if (out > 6): \n",
        "    outClass = 1\n",
        "  if (out > 12): \n",
        "    outClass = 2\n",
        "  if (out > 24):\n",
        "    outClass = 3\n",
        "  if (out > 36): \n",
        "    outClass = 4\n",
        "  if (out > 60): \n",
        "    outClass = 5\n",
        "  if (out > 96):\n",
        "    outClass = 6\n",
        "  if (out > 120): \n",
        "    outClass = 7\n",
        "  if (out > 156): \n",
        "    outClass = 8\n",
        "  if (out > 192): \n",
        "    outClass = 9 \n",
        "  if (out > 240): \n",
        "    outClass = 10\n",
        "  \n",
        "  return list(utils.to_categorical(outClass, 11).astype('int'))\n",
        "\n",
        "# Извлекаем все параметры\n",
        "def getAllParameters(val):\n",
        "  result = getParameterSexAge(val[0])\n",
        "  sex = result[0]  \n",
        "  age =getParameterAgeVect(result[1]) \n",
        "  city = getParameterCity(val[3])\n",
        "  employment = getParameterEmployment(val[4]) \n",
        "  shedule = getParameterSchedule(val[5]) \n",
        "  education = getParameterEducation(val[9]) \n",
        "  experience = getParameterExperienceVector(val[6]) \n",
        "  out = [] \n",
        "  \n",
        "  out.append(sex)\n",
        "  out += age\n",
        "  out += city\n",
        "  out += employment\n",
        "  out += shedule\n",
        "  out += education\n",
        "  out += experience\n",
        "  \n",
        "  return out\n",
        "\n",
        "# Создаем тренировочную выборку\n",
        "def get01Data(values):\n",
        "  xTrain = []\n",
        "  yTrain = []\n",
        "  \n",
        "  # Предсказывать будем зарплату\n",
        "  for val in values:\n",
        "    y = getParameterSalary(val[1])\n",
        "    x = getAllParameters(val)\n",
        "    xTrain.append(x)\n",
        "    yTrain.append(y/1000)\n",
        "  \n",
        "  xTrain = np.array(xTrain)\n",
        "  yTrain = np.array(yTrain)\n",
        "\n",
        "  \n",
        "  return (xTrain, yTrain)"
      ],
      "execution_count": null,
      "outputs": []
    },
    {
      "cell_type": "code",
      "metadata": {
        "id": "2hzon2RZvta7"
      },
      "source": [
        "(xTrain01, yTrain) = get01Data(df)"
      ],
      "execution_count": null,
      "outputs": []
    },
    {
      "cell_type": "code",
      "metadata": {
        "colab": {
          "base_uri": "https://localhost:8080/"
        },
        "id": "8iMtGSxaxtfi",
        "outputId": "4cffc589-18a1-4067-be53-2495271ac4c1"
      },
      "source": [
        "print(xTrain01.shape) \n",
        "print(yTrain.shape)\n",
        "print(xTrain01[110])"
      ],
      "execution_count": null,
      "outputs": [
        {
          "output_type": "stream",
          "text": [
            "(40000, 39)\n",
            "(40000,)\n",
            "[1 0 0 0 0 1 0 0 0 0 0 0 1 0 0 0 0 1 1 0 1 0 0 1 0 0 0 0 0 0 0 0 0 0 0 1 0\n",
            " 0 0]\n"
          ],
          "name": "stdout"
        }
      ]
    },
    {
      "cell_type": "code",
      "metadata": {
        "id": "Ewsh9RMMz9SJ"
      },
      "source": [
        "def getXTrainTRez(values):\n",
        "  xTrainTRez = []\n",
        "  \n",
        "  for val in values:\n",
        "    currText = \"\"\n",
        "    if (type(val[6]) != float):\n",
        "      currText += val[6]\n",
        "    \n",
        "    xTrainTRez.append(currText)\n",
        "  \n",
        "  xTrainTRez = np.array(xTrainTRez)\n",
        "  \n",
        "  return xTrainTRez"
      ],
      "execution_count": null,
      "outputs": []
    },
    {
      "cell_type": "code",
      "metadata": {
        "id": "qbsoowbhz_ur"
      },
      "source": [
        "xTrainTRez = getXTrainTRez(df)"
      ],
      "execution_count": null,
      "outputs": []
    },
    {
      "cell_type": "code",
      "metadata": {
        "id": "6dr_Cag40Ivn"
      },
      "source": [
        "maxWordsCount = 5000 \n",
        "\n",
        "tokenizer = Tokenizer(num_words=maxWordsCount, filters='!\"#$%&()*+,-–—./:;<=>?@[\\\\]^_`{|}~\\t\\n\\xa0', lower=True, split=' ', oov_token='unknown', char_level=False)\n",
        "tokenizer.fit_on_texts(xTrainTRez)        \n",
        "xTrainRezIndexes = tokenizer.texts_to_sequences(xTrainTRez)"
      ],
      "execution_count": null,
      "outputs": []
    },
    {
      "cell_type": "code",
      "metadata": {
        "id": "cakXrpB60Wam"
      },
      "source": [
        "xTrainRez01 = tokenizer.sequences_to_matrix(xTrainRezIndexes)"
      ],
      "execution_count": null,
      "outputs": []
    },
    {
      "cell_type": "code",
      "metadata": {
        "id": "ouxCi_Ee2YmA",
        "colab": {
          "base_uri": "https://localhost:8080/"
        },
        "outputId": "a8574aa0-6e64-4007-d0e5-554eaadca611"
      },
      "source": [
        "print(xTrainRez01.shape)                             \n",
        "print(xTrainRez01[0][0:100])"
      ],
      "execution_count": null,
      "outputs": [
        {
          "output_type": "stream",
          "text": [
            "(40000, 5000)\n",
            "[0. 0. 1. 1. 1. 0. 1. 1. 1. 0. 0. 0. 0. 0. 1. 0. 1. 1. 0. 1. 0. 1. 1. 0.\n",
            " 1. 0. 1. 0. 0. 0. 0. 0. 1. 1. 0. 0. 0. 0. 0. 0. 0. 0. 0. 0. 0. 0. 0. 0.\n",
            " 0. 0. 1. 0. 0. 0. 1. 0. 1. 0. 0. 0. 0. 0. 0. 0. 0. 0. 0. 1. 1. 0. 0. 0.\n",
            " 0. 0. 0. 1. 0. 1. 0. 0. 0. 0. 0. 0. 0. 0. 0. 0. 1. 0. 0. 0. 0. 0. 0. 1.\n",
            " 0. 0. 1. 0.]\n"
          ],
          "name": "stdout"
        }
      ]
    },
    {
      "cell_type": "code",
      "metadata": {
        "id": "u76eKcnlTotB",
        "colab": {
          "base_uri": "https://localhost:8080/"
        },
        "outputId": "b6fac180-c6d8-4194-def9-0de93a6ce38c"
      },
      "source": [
        "input1 = Input((xTrain01.shape[1],))\n",
        "input2 = Input((xTrainRez01.shape[1],))\n",
        "\n",
        "x1 = BatchNormalization()(input1) # Создаем ветку х1\n",
        "x1 = Dropout(0.5)(x1)\n",
        "x1 = Dense(10, activation=\"relu\")(x1)\n",
        "x1 = Dense(1000, activation=\"relu\")(x1)\n",
        "x1 = Dense(100, activation = \"relu\")(x1)\n",
        "\n",
        "x2 = BatchNormalization()(input2) # Создаем ветку х2\n",
        "x2 = Dropout(0.5)(x2)\n",
        "x2 = Dense(100, activation=\"tanh\")(input2)\n",
        "x2 = Dense(20, activation = \"elu\")(x2)\n",
        "x2 = Dense(5, activation = \"elu\")(x2)\n",
        "\n",
        "x = concatenate([x1, x2]) # Объединяем все три ветки\n",
        "\n",
        "x = Dense(15, activation='relu')(x)\n",
        "x = Dropout(0.5)(x)\n",
        "x = Dense(1, activation='relu')(x) # Финальный нейрон, делает регрессию\n",
        "\n",
        "model = Model((input1, input2), x) # В Model загружаем стартовые и последнюю точки \n",
        "\n",
        "model.compile(optimizer=Adam(lr=1e-3), loss='mse', metrics=['mae'])"
      ],
      "execution_count": null,
      "outputs": [
        {
          "output_type": "stream",
          "text": [
            "/usr/local/lib/python3.7/dist-packages/tensorflow/python/keras/optimizer_v2/optimizer_v2.py:375: UserWarning: The `lr` argument is deprecated, use `learning_rate` instead.\n",
            "  \"The `lr` argument is deprecated, use `learning_rate` instead.\")\n"
          ],
          "name": "stderr"
        }
      ]
    },
    {
      "cell_type": "code",
      "metadata": {
        "colab": {
          "base_uri": "https://localhost:8080/"
        },
        "id": "_EeuG-sV_VP7",
        "outputId": "7769357a-ec9b-4d3e-f4b7-f5e899229ac4"
      },
      "source": [
        "history = model.fit([xTrain01[:30000], xTrainRez01[:30000]], \n",
        "                    yTrain[:30000], \n",
        "                    epochs= 80, \n",
        "                    validation_data=([xTrain01[30000:], xTrainRez01[30000:]], \n",
        "                    yTrain[30000:]), \n",
        "                    verbose=1, shuffle=True)"
      ],
      "execution_count": null,
      "outputs": [
        {
          "output_type": "stream",
          "text": [
            "Epoch 1/80\n",
            "938/938 [==============================] - 10s 7ms/step - loss: 6762.8721 - mae: 42.6228 - val_loss: 62527.5469 - val_mae: 26.6265\n",
            "Epoch 2/80\n",
            "938/938 [==============================] - 6s 6ms/step - loss: 5773.2002 - mae: 36.9660 - val_loss: 62958.7969 - val_mae: 29.8803\n",
            "Epoch 3/80\n",
            "938/938 [==============================] - 6s 6ms/step - loss: 5623.8594 - mae: 35.8296 - val_loss: 62563.0469 - val_mae: 26.9451\n",
            "Epoch 4/80\n",
            "938/938 [==============================] - 6s 6ms/step - loss: 5423.4980 - mae: 34.9382 - val_loss: 62351.1953 - val_mae: 24.6797\n",
            "Epoch 5/80\n",
            "938/938 [==============================] - 6s 6ms/step - loss: 5263.1445 - mae: 34.5450 - val_loss: 62287.1094 - val_mae: 24.1500\n",
            "Epoch 6/80\n",
            "938/938 [==============================] - 6s 7ms/step - loss: 5206.3481 - mae: 33.6549 - val_loss: 62613.6641 - val_mae: 27.4706\n",
            "Epoch 7/80\n",
            "938/938 [==============================] - 6s 6ms/step - loss: 4999.0566 - mae: 32.6437 - val_loss: 62262.4648 - val_mae: 23.7488\n",
            "Epoch 8/80\n",
            "938/938 [==============================] - 5s 6ms/step - loss: 4953.4722 - mae: 31.9414 - val_loss: 62346.0781 - val_mae: 24.5134\n",
            "Epoch 9/80\n",
            "938/938 [==============================] - 6s 6ms/step - loss: 4851.1060 - mae: 32.0520 - val_loss: 62373.3555 - val_mae: 24.0424\n",
            "Epoch 10/80\n",
            "938/938 [==============================] - 6s 7ms/step - loss: 4577.7954 - mae: 31.3759 - val_loss: 62528.4141 - val_mae: 25.7582\n",
            "Epoch 11/80\n",
            "938/938 [==============================] - 6s 6ms/step - loss: 4544.3130 - mae: 30.8471 - val_loss: 62479.4102 - val_mae: 24.7875\n",
            "Epoch 12/80\n",
            "938/938 [==============================] - 6s 6ms/step - loss: 4492.3569 - mae: 30.6346 - val_loss: 62442.6680 - val_mae: 25.1172\n",
            "Epoch 13/80\n",
            "938/938 [==============================] - 6s 7ms/step - loss: 4506.6611 - mae: 30.1653 - val_loss: 62400.5742 - val_mae: 24.4041\n",
            "Epoch 14/80\n",
            "938/938 [==============================] - 6s 6ms/step - loss: 4404.0132 - mae: 29.7955 - val_loss: 62443.4805 - val_mae: 24.5741\n",
            "Epoch 15/80\n",
            "938/938 [==============================] - 6s 7ms/step - loss: 4018.1685 - mae: 29.3445 - val_loss: 62352.5391 - val_mae: 23.6954\n",
            "Epoch 16/80\n",
            "938/938 [==============================] - 6s 6ms/step - loss: 4258.1890 - mae: 29.0875 - val_loss: 62129.3906 - val_mae: 22.9781\n",
            "Epoch 17/80\n",
            "938/938 [==============================] - 6s 7ms/step - loss: 4061.3245 - mae: 28.5583 - val_loss: 62376.7695 - val_mae: 24.4838\n",
            "Epoch 18/80\n",
            "938/938 [==============================] - 6s 7ms/step - loss: 4063.3037 - mae: 28.2629 - val_loss: 62280.0391 - val_mae: 23.7127\n",
            "Epoch 19/80\n",
            "938/938 [==============================] - 6s 6ms/step - loss: 3912.7410 - mae: 28.2901 - val_loss: 62381.2734 - val_mae: 24.1991\n",
            "Epoch 20/80\n",
            "938/938 [==============================] - 6s 6ms/step - loss: 3773.5354 - mae: 27.8365 - val_loss: 62524.5820 - val_mae: 25.2344\n",
            "Epoch 21/80\n",
            "938/938 [==============================] - 6s 6ms/step - loss: 3798.5647 - mae: 27.2822 - val_loss: 62413.4453 - val_mae: 24.0502\n",
            "Epoch 22/80\n",
            "938/938 [==============================] - 6s 6ms/step - loss: 4059.6226 - mae: 27.2481 - val_loss: 62271.2305 - val_mae: 23.5255\n",
            "Epoch 23/80\n",
            "938/938 [==============================] - 6s 6ms/step - loss: 3434.2114 - mae: 26.6386 - val_loss: 62270.0742 - val_mae: 23.3555\n",
            "Epoch 24/80\n",
            "938/938 [==============================] - 6s 6ms/step - loss: 3831.6514 - mae: 26.6947 - val_loss: 62123.3711 - val_mae: 22.6656\n",
            "Epoch 25/80\n",
            "938/938 [==============================] - 6s 7ms/step - loss: 4032.8779 - mae: 26.3637 - val_loss: 62381.3008 - val_mae: 23.5500\n",
            "Epoch 26/80\n",
            "938/938 [==============================] - 6s 6ms/step - loss: 3622.8423 - mae: 26.1509 - val_loss: 62220.0703 - val_mae: 22.9224\n",
            "Epoch 27/80\n",
            "938/938 [==============================] - 6s 6ms/step - loss: 3374.0518 - mae: 25.4541 - val_loss: 62509.3359 - val_mae: 24.6137\n",
            "Epoch 28/80\n",
            "938/938 [==============================] - 6s 6ms/step - loss: 2789.6262 - mae: 25.4239 - val_loss: 62256.9102 - val_mae: 23.2331\n",
            "Epoch 29/80\n",
            "938/938 [==============================] - 6s 6ms/step - loss: 3068.7515 - mae: 25.6161 - val_loss: 62273.2734 - val_mae: 22.9566\n",
            "Epoch 30/80\n",
            "938/938 [==============================] - 6s 7ms/step - loss: 3308.2302 - mae: 25.0423 - val_loss: 62390.8945 - val_mae: 23.5915\n",
            "Epoch 31/80\n",
            "938/938 [==============================] - 6s 7ms/step - loss: 3004.5554 - mae: 24.9261 - val_loss: 62287.9297 - val_mae: 23.1333\n",
            "Epoch 32/80\n",
            "938/938 [==============================] - 6s 7ms/step - loss: 3283.1299 - mae: 24.4474 - val_loss: 62348.6797 - val_mae: 22.9133\n",
            "Epoch 33/80\n",
            "938/938 [==============================] - 6s 7ms/step - loss: 2845.5964 - mae: 24.6035 - val_loss: 62330.0469 - val_mae: 23.3103\n",
            "Epoch 34/80\n",
            "938/938 [==============================] - 6s 6ms/step - loss: 2902.3767 - mae: 24.1115 - val_loss: 62402.8281 - val_mae: 23.8542\n",
            "Epoch 35/80\n",
            "938/938 [==============================] - 6s 6ms/step - loss: 2901.4919 - mae: 23.7469 - val_loss: 62266.4883 - val_mae: 23.0006\n",
            "Epoch 36/80\n",
            "938/938 [==============================] - 6s 6ms/step - loss: 3270.1208 - mae: 23.5621 - val_loss: 62175.1680 - val_mae: 22.2794\n",
            "Epoch 37/80\n",
            "938/938 [==============================] - 6s 7ms/step - loss: 2795.5552 - mae: 23.3606 - val_loss: 62345.1641 - val_mae: 23.1740\n",
            "Epoch 38/80\n",
            "938/938 [==============================] - 6s 6ms/step - loss: 2737.1362 - mae: 23.2431 - val_loss: 62229.4023 - val_mae: 22.5219\n",
            "Epoch 39/80\n",
            "938/938 [==============================] - 6s 6ms/step - loss: 3060.4663 - mae: 22.7118 - val_loss: 62313.1016 - val_mae: 23.2904\n",
            "Epoch 40/80\n",
            "938/938 [==============================] - 6s 6ms/step - loss: 3208.8198 - mae: 22.8023 - val_loss: 62296.0078 - val_mae: 23.4311\n",
            "Epoch 41/80\n",
            "938/938 [==============================] - 6s 6ms/step - loss: 3032.6992 - mae: 22.5652 - val_loss: 62164.3320 - val_mae: 22.4503\n",
            "Epoch 42/80\n",
            "938/938 [==============================] - 6s 6ms/step - loss: 3669.9573 - mae: 22.2796 - val_loss: 62143.9414 - val_mae: 22.0197\n",
            "Epoch 43/80\n",
            "938/938 [==============================] - 6s 6ms/step - loss: 2170.2939 - mae: 22.1988 - val_loss: 62188.3203 - val_mae: 22.6401\n",
            "Epoch 44/80\n",
            "938/938 [==============================] - 6s 6ms/step - loss: 1909.9799 - mae: 21.8060 - val_loss: 62201.9531 - val_mae: 22.4995\n",
            "Epoch 45/80\n",
            "938/938 [==============================] - 6s 7ms/step - loss: 2148.8721 - mae: 21.7463 - val_loss: 62294.7383 - val_mae: 22.9491\n",
            "Epoch 46/80\n",
            "938/938 [==============================] - 6s 7ms/step - loss: 2774.8457 - mae: 21.5954 - val_loss: 62209.9258 - val_mae: 22.5354\n",
            "Epoch 47/80\n",
            "938/938 [==============================] - 6s 6ms/step - loss: 3725.7019 - mae: 21.7579 - val_loss: 62259.8320 - val_mae: 22.8788\n",
            "Epoch 48/80\n",
            "938/938 [==============================] - 6s 6ms/step - loss: 3625.2854 - mae: 21.6718 - val_loss: 62162.8672 - val_mae: 22.3712\n",
            "Epoch 49/80\n",
            "938/938 [==============================] - 6s 6ms/step - loss: 2363.9810 - mae: 21.2609 - val_loss: 62308.3711 - val_mae: 23.4589\n",
            "Epoch 50/80\n",
            "938/938 [==============================] - 6s 7ms/step - loss: 2132.9556 - mae: 21.2997 - val_loss: 62230.7070 - val_mae: 22.8560\n",
            "Epoch 51/80\n",
            "938/938 [==============================] - 6s 6ms/step - loss: 2703.5759 - mae: 21.3303 - val_loss: 62349.1211 - val_mae: 23.9280\n",
            "Epoch 52/80\n",
            "938/938 [==============================] - 6s 6ms/step - loss: 1655.8315 - mae: 21.1298 - val_loss: 62188.5508 - val_mae: 22.7114\n",
            "Epoch 53/80\n",
            "938/938 [==============================] - 6s 7ms/step - loss: 2521.8962 - mae: 21.0258 - val_loss: 62203.2266 - val_mae: 23.1644\n",
            "Epoch 54/80\n",
            "938/938 [==============================] - 6s 6ms/step - loss: 2400.5549 - mae: 21.4470 - val_loss: 62210.8867 - val_mae: 23.2346\n",
            "Epoch 55/80\n",
            "938/938 [==============================] - 6s 7ms/step - loss: 1583.9835 - mae: 20.8334 - val_loss: 62228.1875 - val_mae: 23.1997\n",
            "Epoch 56/80\n",
            "938/938 [==============================] - 6s 6ms/step - loss: 2569.5393 - mae: 21.0429 - val_loss: 62274.1680 - val_mae: 23.6062\n",
            "Epoch 57/80\n",
            "938/938 [==============================] - 6s 7ms/step - loss: 2709.9106 - mae: 21.0044 - val_loss: 62268.5625 - val_mae: 23.6767\n",
            "Epoch 58/80\n",
            "938/938 [==============================] - 6s 6ms/step - loss: 1413.0553 - mae: 20.4995 - val_loss: 62208.6914 - val_mae: 23.4352\n",
            "Epoch 59/80\n",
            "938/938 [==============================] - 6s 7ms/step - loss: 2544.6118 - mae: 20.8840 - val_loss: 62057.9023 - val_mae: 22.7985\n",
            "Epoch 60/80\n",
            "938/938 [==============================] - 6s 7ms/step - loss: 1506.1300 - mae: 20.5821 - val_loss: 62227.0391 - val_mae: 23.5307\n",
            "Epoch 61/80\n",
            "938/938 [==============================] - 6s 6ms/step - loss: 1572.5231 - mae: 20.9133 - val_loss: 62268.8945 - val_mae: 23.5874\n",
            "Epoch 62/80\n",
            "938/938 [==============================] - 6s 7ms/step - loss: 2720.7908 - mae: 21.0448 - val_loss: 62362.4844 - val_mae: 23.9412\n",
            "Epoch 63/80\n",
            "938/938 [==============================] - 6s 6ms/step - loss: 1537.4409 - mae: 20.6275 - val_loss: 62313.7422 - val_mae: 23.9117\n",
            "Epoch 64/80\n",
            "938/938 [==============================] - 6s 6ms/step - loss: 3437.8948 - mae: 21.1054 - val_loss: 62131.3398 - val_mae: 23.9151\n",
            "Epoch 65/80\n",
            "938/938 [==============================] - 6s 6ms/step - loss: 1962.0973 - mae: 20.8361 - val_loss: 62132.0000 - val_mae: 23.5653\n",
            "Epoch 66/80\n",
            "938/938 [==============================] - 6s 6ms/step - loss: 1509.9672 - mae: 20.8472 - val_loss: 62179.0703 - val_mae: 23.6851\n",
            "Epoch 67/80\n",
            "938/938 [==============================] - 6s 6ms/step - loss: 1715.0752 - mae: 20.9111 - val_loss: 62268.0703 - val_mae: 24.0858\n",
            "Epoch 68/80\n",
            "938/938 [==============================] - 6s 7ms/step - loss: 2588.3782 - mae: 21.0693 - val_loss: 62319.8711 - val_mae: 25.0794\n",
            "Epoch 69/80\n",
            "938/938 [==============================] - 6s 7ms/step - loss: 1793.9615 - mae: 20.8328 - val_loss: 62188.2383 - val_mae: 23.9323\n",
            "Epoch 70/80\n",
            "938/938 [==============================] - 6s 6ms/step - loss: 2107.9431 - mae: 21.0095 - val_loss: 62245.8555 - val_mae: 24.1956\n",
            "Epoch 71/80\n",
            "938/938 [==============================] - 6s 7ms/step - loss: 1523.6512 - mae: 20.7923 - val_loss: 62141.7344 - val_mae: 23.8540\n",
            "Epoch 72/80\n",
            "938/938 [==============================] - 6s 6ms/step - loss: 1831.4540 - mae: 20.4547 - val_loss: 62253.8945 - val_mae: 23.4087\n",
            "Epoch 73/80\n",
            "938/938 [==============================] - 6s 6ms/step - loss: 1803.1650 - mae: 19.8055 - val_loss: 62242.5078 - val_mae: 23.1844\n",
            "Epoch 74/80\n",
            "938/938 [==============================] - 6s 7ms/step - loss: 3427.3254 - mae: 19.5494 - val_loss: 62257.3359 - val_mae: 23.1649\n",
            "Epoch 75/80\n",
            "938/938 [==============================] - 6s 7ms/step - loss: 2388.5352 - mae: 19.5059 - val_loss: 62366.5234 - val_mae: 23.4890\n",
            "Epoch 76/80\n",
            "938/938 [==============================] - 6s 7ms/step - loss: 1667.2589 - mae: 19.2707 - val_loss: 62181.4727 - val_mae: 23.3443\n",
            "Epoch 77/80\n",
            "938/938 [==============================] - 6s 6ms/step - loss: 1177.6990 - mae: 18.9173 - val_loss: 62444.6797 - val_mae: 24.8742\n",
            "Epoch 78/80\n",
            "938/938 [==============================] - 6s 7ms/step - loss: 1363.1232 - mae: 18.9409 - val_loss: 62133.4727 - val_mae: 22.7390\n",
            "Epoch 79/80\n",
            "938/938 [==============================] - 6s 7ms/step - loss: 2208.0273 - mae: 19.2788 - val_loss: 62278.5273 - val_mae: 23.6240\n",
            "Epoch 80/80\n",
            "938/938 [==============================] - 6s 6ms/step - loss: 2212.4009 - mae: 19.0505 - val_loss: 62217.9219 - val_mae: 23.0490\n"
          ],
          "name": "stdout"
        }
      ]
    },
    {
      "cell_type": "code",
      "metadata": {
        "id": "qYlZm3HuzWhe",
        "colab": {
          "base_uri": "https://localhost:8080/",
          "height": 279
        },
        "outputId": "f809e701-1df8-4239-c258-0f87b8470156"
      },
      "source": [
        "plt.plot(history.history['mae'], \n",
        "         label='Средняя абсолютная ошибка на обучающем наборе')\n",
        "plt.plot(history.history['val_mae'], \n",
        "         label='Средняя абсолютная ошибка на проверочном наборе')\n",
        "plt.xlabel('Эпоха обучения')\n",
        "plt.ylabel('Средняя абсолютная ошибка')\n",
        "plt.legend()\n",
        "plt.show()"
      ],
      "execution_count": null,
      "outputs": [
        {
          "output_type": "display_data",
          "data": {
            "image/png": "[encoded data removed]",
            "text/plain": [
              "<Figure size 432x288 with 1 Axes>"
            ]
          },
          "metadata": {
            "tags": [],
            "needs_background": "light"
          }
        }
      ]
    },
    {
      "cell_type": "code",
      "metadata": {
        "id": "7-B8ABFfA0H_"
      },
      "source": [
        "a = (xTrain01, xTrainRez01)\n",
        "yy = model.predict(a)"
      ],
      "execution_count": null,
      "outputs": []
    },
    {
      "cell_type": "code",
      "metadata": {
        "colab": {
          "base_uri": "https://localhost:8080/"
        },
        "id": "me7wSc4rBEb7",
        "outputId": "5ecce0f9-7dc4-4a77-e8fe-e7fe11e77b73"
      },
      "source": [
        "n = 10\n",
        "for i in range(n):\n",
        "  print('Реальное значение - ',yTrain[i], \" Предсказанное значение - \", yy[i][0], \" Разница - \", abs(yTrain[i]-yy[i][0]))"
      ],
      "execution_count": null,
      "outputs": [
        {
          "output_type": "stream",
          "text": [
            "Реальное значение -  40.0  Предсказанное значение -  43.49237  Разница -  3.49237060546875\n",
            "Реальное значение -  40.0  Предсказанное значение -  42.760975  Разница -  2.760974884033203\n",
            "Реальное значение -  300.0  Предсказанное значение -  294.373  Разница -  5.62701416015625\n",
            "Реальное значение -  180.0  Предсказанное значение -  138.74084  Разница -  41.2591552734375\n",
            "Реальное значение -  40.0  Предсказанное значение -  48.926537  Разница -  8.926536560058594\n",
            "Реальное значение -  200.0  Предсказанное значение -  151.1287  Разница -  48.871307373046875\n",
            "Реальное значение -  120.0  Предсказанное значение -  109.59689  Разница -  10.403106689453125\n",
            "Реальное значение -  50.0  Предсказанное значение -  50.443638  Разница -  0.4436378479003906\n",
            "Реальное значение -  60.0  Предсказанное значение -  65.72438  Разница -  5.7243804931640625\n",
            "Реальное значение -  70.0  Предсказанное значение -  66.65652  Разница -  3.3434829711914062\n"
          ],
          "name": "stdout"
        }
      ]
    }
  ]
}