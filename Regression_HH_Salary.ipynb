{
  "nbformat": 4,
  "nbformat_minor": 0,
  "metadata": {
    "colab": {
      "name": "Regression_HH_Salary.ipynb",
      "provenance": [],
      "collapsed_sections": [],
      "include_colab_link": true
    },
    "kernelspec": {
      "name": "python3",
      "display_name": "Python 3"
    },
    "language_info": {
      "name": "python"
    },
    "accelerator": "GPU"
  },
  "cells": [
    {
      "cell_type": "markdown",
      "metadata": {
        "id": "view-in-github",
        "colab_type": "text"
      },
      "source": [
        "<a href=\"https://colab.research.google.com/github/MarkAvilin1/DS-and-ML/blob/main/Regression_HH_Salary.ipynb\" target=\"_parent\"><img src=\"https://colab.research.google.com/assets/colab-badge.svg\" alt=\"Open In Colab\"/></a>"
      ]
    },
    {
      "cell_type": "markdown",
      "metadata": {
        "id": "bx13cEsrh5Bk"
      },
      "source": [
        "#Проект для прогноза уровень заработной платы на базе резюме из hh.ru, с помощью метода Регрессий"
      ]
    },
    {
      "cell_type": "code",
      "metadata": {
        "id": "6Y-Ogn1chus2"
      },
      "source": [
        "import numpy as np\n",
        "import pandas as pd \n",
        "\n",
        "from tensorflow.keras.models import Sequential, Model  \n",
        "from tensorflow.keras.layers import concatenate, Input, Dense, Dropout, BatchNormalization, Flatten \n",
        "from tensorflow.keras import utils \n",
        "from tensorflow.keras.optimizers import Adam,Adadelta,SGD,Adagrad,RMSprop \n",
        "from tensorflow.keras.preprocessing.text import Tokenizer, text_to_word_sequence\n",
        "from tensorflow.keras.preprocessing.sequence import pad_sequences \n",
        "from tensorflow.keras.callbacks import LambdaCallback \n",
        "\n",
        "from sklearn.preprocessing import StandardScaler \n",
        "from sklearn.model_selection import train_test_split \n",
        "from sklearn.metrics import mean_squared_error, mean_absolute_error \n",
        "#from google.colab import files\n",
        "\n",
        "import random \n",
        "import math \n",
        "#import os \n",
        "import re\n",
        "import matplotlib.pyplot as plt \n",
        "%matplotlib inline\n",
        "\n",
        "from IPython.display import clear_output\n",
        "from google.colab import drive"
      ],
      "execution_count": 1,
      "outputs": []
    },
    {
      "cell_type": "code",
      "metadata": {
        "colab": {
          "base_uri": "https://localhost:8080/"
        },
        "id": "NI-ee64806OV",
        "outputId": "72eae1d5-89c8-4480-b86f-214b884e238c"
      },
      "source": [
        "drive.mount('/content/drive')"
      ],
      "execution_count": 2,
      "outputs": [
        {
          "output_type": "stream",
          "name": "stdout",
          "text": [
            "Drive already mounted at /content/drive; to attempt to forcibly remount, call drive.mount(\"/content/drive\", force_remount=True).\n"
          ]
        }
      ]
    },
    {
      "cell_type": "code",
      "metadata": {
        "id": "5jD-AHFIiWIG"
      },
      "source": [
        "fixed_df = pd.read_csv('/content/drive/MyDrive/My Projects/Datasetes/hh_fixed.csv')"
      ],
      "execution_count": 3,
      "outputs": []
    },
    {
      "cell_type": "code",
      "metadata": {
        "id": "CCUctadP9H0q"
      },
      "source": [
        "fixed_df = fixed_df.drop(fixed_df.columns[0], axis=1)"
      ],
      "execution_count": 4,
      "outputs": []
    },
    {
      "cell_type": "code",
      "metadata": {
        "id": "wQJvQskovaPA",
        "colab": {
          "base_uri": "https://localhost:8080/"
        },
        "outputId": "ba9f6608-0026-49a1-bf2b-b46b829dfc32"
      },
      "source": [
        "for j in range(fixed_df.shape[1]):  \n",
        "    for i in range(fixed_df.shape[0]): \n",
        "        if type(fixed_df.values[i][j])!= float: \n",
        "            fixed_df.values[i][j] = fixed_df.values[i][j].replace(\"\\xa0\", \"\")\n",
        "            fixed_df.values[i][j] = fixed_df.values[i][j].replace(\"\\n\", \" \")\n",
        "      \n",
        "fixed_df.shape"
      ],
      "execution_count": 5,
      "outputs": [
        {
          "output_type": "execute_result",
          "data": {
            "text/plain": [
              "(62967, 12)"
            ]
          },
          "metadata": {},
          "execution_count": 5
        }
      ]
    },
    {
      "cell_type": "code",
      "metadata": {
        "id": "bXPZObzmyWOg",
        "colab": {
          "base_uri": "https://localhost:8080/"
        },
        "outputId": "0a9202d4-2028-43ef-d7c5-f92a5dc92bec"
      },
      "source": [
        "lst = []\n",
        "for i in range(35000):\n",
        "  lst.append(fixed_df.values[i])\n",
        "\n",
        "df = np.array(lst)\n",
        "print(df.shape)\n",
        "print(df[0])"
      ],
      "execution_count": 6,
      "outputs": [
        {
          "output_type": "stream",
          "name": "stdout",
          "text": [
            "(35000, 12)\n",
            "['Мужчина ,  29 лет , родился 16 мая 1989' '40000 руб.'\n",
            " 'Специалист по поддержке чата(support team) домашний агент'\n",
            " 'Новороссийск , готов к переезду (Анапа, Геленджик) , не готов к командировкам'\n",
            " 'полная занятость' 'полный день'\n",
            " 'Опыт работы 3 года 9 месяцев  Специалист по поддержке чата(support team) домашний агент 40 000 руб. Информационные технологии, интернет, телеком Системный администратор Сотовые, Беспроводные технологии Телекоммуникации Занятость: полная занятость График работы: полный день Опыт работы 3 года 9 месяцев Май 2012 — Январь  2016 3 года 9 месяцев ООО \"Гольфстрим\" Республика Башкортостан Строительство, недвижимость, эксплуатация, проектирование ... Строительство жилищное Управление и эксплуатация недвижимости Генеральный директор Руководство, отладка деловых связей, заключение договоров, развитие организации Ключевые навыки Теперь резюме открыто всему интернету — изменить можно в настройках видимости. Заключение договоров Деловое общение Деловая коммуникация Пользователь ПК Ведение переговоров Управление персоналом Деловая переписка Составление договоров Телефонные переговоры Грамотная речь MS Outlook Водительское удостоверение категории B Работа в команде Возникли неполадки. Попробуйте еще раз. Опыт вождения Права категории B Обо мне Электроника, новые технологии, автомобили, охота, природа, музыка, путешествия. Высшее образование 2011 Кликнув на название учебного заведения вы сможете найти кандидатов из этого вуза. Международный юридический институт при Министерстве юстиции Российской Федерации, Москва Юридический факультет, Юриспруденция Знание языков Русский — Родной Английский — A1 — Начальный Гражданство, время в пути до работы Гражданство: Россия Разрешение на работу: Россия Желательное время в пути до работы: Не имеет значения  Опыт работы 3 года 9 месяцев Май 2012 — Январь  2016 3 года 9 месяцев ООО \"Гольфстрим\" Республика Башкортостан Строительство, недвижимость, эксплуатация, проектирование ... Строительство жилищное Управление и эксплуатация недвижимости Генеральный директор Руководство, отладка деловых связей, заключение договоров, развитие организации  Май 2012 — Январь  2016 3 года 9 месяцев ООО \"Гольфстрим\" Республика Башкортостан Строительство, недвижимость, эксплуатация, проектирование ... Строительство жилищное Управление и эксплуатация недвижимости Генеральный директор Руководство, отладка деловых связей, заключение договоров, развитие организации'\n",
            " 'ООО \"Гольфстрим\"' 'Генеральный директор'\n",
            " 'Высшее образование 2011  Международный юридический институт при Министерстве юстиции Российской Федерации, Москва Юридический факультет, Юриспруденция'\n",
            " '26.04.2019 08:04' 'Не указано']\n"
          ]
        }
      ]
    },
    {
      "cell_type": "code",
      "metadata": {
        "id": "g-nYtToClWt4"
      },
      "source": [
        "# Данные о поле и возрасте\n",
        "def getParameterSexAge(arg):\n",
        "  out = [0,0]\n",
        "  if \"М\" in arg:\n",
        "    out[0] = 1\n",
        "  year_tec = 2020\n",
        "  if (len(arg) > 7):\n",
        "    out[1] = year_tec - int(re.findall(r'\\d{4}', arg)[0])\n",
        "  return out\n",
        "\n",
        "# Полученный возраст превращаем в класс возрастной категории\n",
        "def getParameterAgeVect(arg):\n",
        "  outClass =int((arg-13)/5)\n",
        "  outClass = max(0, min(10,outClass))\n",
        "  return list(utils.to_categorical(outClass, 11).astype('int'))\n",
        "\n",
        "\n",
        "# Зарплата\n",
        "def getParameterSalary(arg):\n",
        "    num = arg\n",
        "    if (type(num) == str):\n",
        "        num = re.sub(' ','',num)\n",
        "        num = re.sub('[а-яА-ЯёЁ]','',num)\n",
        "        num = re.sub('[a-zA-Z]','',num)\n",
        "        num = num.replace('.','')\n",
        "        \n",
        "        curr = re.sub('[0-9]','',arg)\n",
        "        curr = curr.replace('.','').strip()\n",
        "        \n",
        "        if curr == 'USD':\n",
        "           num = float(num)*65\n",
        "        elif curr == 'KZT':\n",
        "           num = float(num)*0.17\n",
        "        elif curr=='грн':\n",
        "           num = float(num)*2.6\n",
        "        elif curr=='белруб':\n",
        "           num = float(num)*30.5\n",
        "        elif curr=='EUR':\n",
        "           num = float(num)*70\n",
        "        elif curr=='KGS':\n",
        "           num = float(num)*0.9\n",
        "        elif curr=='сум':\n",
        "           num = float(num)*0.007\n",
        "        elif curr=='AZN':\n",
        "           num = float(num)*37.5\n",
        "       \n",
        "    return int(num)\n",
        "\n",
        "\n",
        "# Данные о городе\n",
        "def getParameterCity(arg):\n",
        "  millionCities = \"Новосибирск Екатеринбург Нижний Новгород Казань Челябинск Омск Самара Ростов-на-Дону Уфа Красноярск Пермь Воронеж Волгоград\"\n",
        "  sarg=arg.split(',')\n",
        "  for item in sarg:\n",
        "    item= item.strip()\n",
        "    if item == \"Москва\":          return [1, 0, 0, 0]\n",
        "    if item == \"Санкт-Петербург\": return [0, 1, 0, 0]\n",
        "    if item in millionCities:     return [0, 0, 1, 0]\n",
        "  return [0, 0, 0, 1]\n",
        "\n",
        "# Данные о желаемой занятости\n",
        "def getParameterEmployment(arg):\n",
        "  out= [0, 0, 0, 0]\n",
        "  if (\"стажировка\" in arg):           out[0]=1\n",
        "  if (\"частичная занятость\" in arg):  out[1]=1\n",
        "  if (\"проектная работа\" in arg):     out[2]=1\n",
        "  if (\"полная занятость\" in arg):     out[3]=1\n",
        "  return out\n",
        "\n",
        "# Данные о желаемом графике работы\n",
        "def getParameterSchedule(arg):\n",
        "  out = [0, 0, 0, 0]\n",
        "  if (\"гибкий график\" in arg):    out[0]=1\n",
        "  if (\"полный день\" in arg):      out[1]=1\n",
        "  if (\"сменный график\" in arg):   out[2]=1\n",
        "  if (\"удаленная работа\" in arg): out[3]=1\n",
        "  return out\n",
        "\n",
        "# Данные об образовании\n",
        "def getParameterEducation(arg):\n",
        "  out = [0, 0, 0, 0] \n",
        "  if arg in \"Высшее Higher education\":  out[0] = 1\n",
        "  if arg in \"Среднее специальное\":      out[1] = 1\n",
        "  if arg in \"Неоконченное высшее\":      out[2] = 1\n",
        "  if arg in \"Среднее образование\":      out[3] = 1\n",
        "  return out\n",
        "\n",
        "# Данные об опыте работы\n",
        "def getParameterExperience(arg):\n",
        "  arg = str(arg)\n",
        "  symbols = 0\n",
        "  years = 0\n",
        "  months = 0\n",
        "  for s in arg:\n",
        "    if (s != \" \"):\n",
        "      symbols += 1\n",
        "\n",
        "  if (symbols > 10):\n",
        "      spacesIndexes = []\n",
        "      index = 0\n",
        "      while ((len(spacesIndexes) < 5) & (index < len(arg))):\n",
        "          if (arg[index] == \" \"):\n",
        "              spacesIndexes.append(index)\n",
        "          index += 1\n",
        "\n",
        "      years = 0\n",
        "      months = 0\n",
        "      if (arg[spacesIndexes[2]+1] != \"м\"):\n",
        "         if (len(spacesIndexes) >= 3):\n",
        "            yearsStr = arg[spacesIndexes[1]:spacesIndexes[2]]\n",
        "            years = int(yearsStr)\n",
        "      \n",
        "         if (len(spacesIndexes) >= 5):\n",
        "            monthsStr = arg[spacesIndexes[3]:spacesIndexes[4]]\n",
        "            if(arg[spacesIndexes[2]+1] == \"м\"):\n",
        "                months = int(monthsStr)\n",
        "      else:\n",
        "        if (len(spacesIndexes) >= 3):\n",
        "          monthsStr = arg[spacesIndexes[1]:spacesIndexes[2]]\n",
        "          months = int(monthsStr)\n",
        "      \n",
        "  return 12*years+months\n",
        "\n",
        "# Категориальное представление опыта работы\n",
        "def getParameterExperienceVector(arg):\n",
        "  out = getParameterExperience(arg)\n",
        "  outClass = 0\n",
        "  if (out > 6): \n",
        "    outClass = 1\n",
        "  if (out > 12): \n",
        "    outClass = 2\n",
        "  if (out > 24):\n",
        "    outClass = 3\n",
        "  if (out > 36): \n",
        "    outClass = 4\n",
        "  if (out > 60): \n",
        "    outClass = 5\n",
        "  if (out > 96):\n",
        "    outClass = 6\n",
        "  if (out > 120): \n",
        "    outClass = 7\n",
        "  if (out > 156): \n",
        "    outClass = 8\n",
        "  if (out > 192): \n",
        "    outClass = 9 \n",
        "  if (out > 240): \n",
        "    outClass = 10\n",
        "  \n",
        "  return list(utils.to_categorical(outClass, 11).astype('int'))\n",
        "\n",
        "# Извлекаем все параметры\n",
        "def getAllParameters(val):\n",
        "  result = getParameterSexAge(val[0])\n",
        "  sex = result[0]  \n",
        "  age =getParameterAgeVect(result[1]) \n",
        "  city = getParameterCity(val[3])\n",
        "  employment = getParameterEmployment(val[4]) \n",
        "  shedule = getParameterSchedule(val[5]) \n",
        "  education = getParameterEducation(val[9]) \n",
        "  experience = getParameterExperienceVector(val[6]) \n",
        "  out = [] \n",
        "  \n",
        "  out.append(sex)\n",
        "  out += age\n",
        "  out += city\n",
        "  out += employment\n",
        "  out += shedule\n",
        "  out += education\n",
        "  out += experience\n",
        "  \n",
        "  return out\n",
        "\n",
        "# Создаем тренировочную выборку\n",
        "def get01Data(values):\n",
        "  xTrain = []\n",
        "  yTrain = []\n",
        "  \n",
        "  # Предсказывать будем зарплату\n",
        "  for val in values:\n",
        "    y = getParameterSalary(val[1])\n",
        "    x = getAllParameters(val)\n",
        "    xTrain.append(x)\n",
        "    yTrain.append(y/1000)\n",
        "  \n",
        "  xTrain = np.array(xTrain)\n",
        "  yTrain = np.array(yTrain)\n",
        "\n",
        "  \n",
        "  return (xTrain, yTrain)"
      ],
      "execution_count": 7,
      "outputs": []
    },
    {
      "cell_type": "code",
      "metadata": {
        "id": "2hzon2RZvta7"
      },
      "source": [
        "(xTrain01, yTrain) = get01Data(df)"
      ],
      "execution_count": 8,
      "outputs": []
    },
    {
      "cell_type": "code",
      "metadata": {
        "id": "8iMtGSxaxtfi",
        "colab": {
          "base_uri": "https://localhost:8080/"
        },
        "outputId": "b7f1ee1b-8e55-4bdd-8071-cd92d8f38e00"
      },
      "source": [
        "print(xTrain01.shape) \n",
        "print(yTrain.shape)\n",
        "print(xTrain01[110])"
      ],
      "execution_count": 9,
      "outputs": [
        {
          "output_type": "stream",
          "name": "stdout",
          "text": [
            "(35000, 39)\n",
            "(35000,)\n",
            "[1 0 0 0 0 1 0 0 0 0 0 0 1 0 0 0 0 1 1 0 1 0 0 1 0 0 0 0 0 0 0 0 0 0 0 1 0\n",
            " 0 0]\n"
          ]
        }
      ]
    },
    {
      "cell_type": "code",
      "metadata": {
        "id": "Ewsh9RMMz9SJ"
      },
      "source": [
        "def getXTrainTRez(values):\n",
        "  xTrainTRez = []\n",
        "  \n",
        "  for val in values:\n",
        "    currText = \"\"\n",
        "    if (type(val[6]) != float):\n",
        "      currText += val[6]\n",
        "    \n",
        "    xTrainTRez.append(currText)\n",
        "  \n",
        "  xTrainTRez = np.array(xTrainTRez)\n",
        "  \n",
        "  return xTrainTRez"
      ],
      "execution_count": 10,
      "outputs": []
    },
    {
      "cell_type": "code",
      "metadata": {
        "id": "qbsoowbhz_ur"
      },
      "source": [
        "xTrainTRez = getXTrainTRez(df)"
      ],
      "execution_count": 11,
      "outputs": []
    },
    {
      "cell_type": "code",
      "metadata": {
        "id": "6dr_Cag40Ivn"
      },
      "source": [
        "maxWordsCount = 5000 \n",
        "\n",
        "tokenizer = Tokenizer(num_words=maxWordsCount, filters='!\"#$%&()*+,-–—./:;<=>?@[\\\\]^_`{|}~\\t\\n\\xa0', lower=True, split=' ', oov_token='unknown', char_level=False)\n",
        "tokenizer.fit_on_texts(xTrainTRez)        \n",
        "xTrainRezIndexes = tokenizer.texts_to_sequences(xTrainTRez)"
      ],
      "execution_count": 12,
      "outputs": []
    },
    {
      "cell_type": "code",
      "metadata": {
        "id": "cakXrpB60Wam"
      },
      "source": [
        "xTrainRez01 = tokenizer.sequences_to_matrix(xTrainRezIndexes)"
      ],
      "execution_count": 13,
      "outputs": []
    },
    {
      "cell_type": "code",
      "metadata": {
        "id": "ouxCi_Ee2YmA",
        "colab": {
          "base_uri": "https://localhost:8080/"
        },
        "outputId": "e4c02bf8-0fd5-4761-9f85-f805181bd513"
      },
      "source": [
        "print(xTrainRez01.shape)                             \n",
        "print(xTrainRez01[0][0:100])"
      ],
      "execution_count": 14,
      "outputs": [
        {
          "output_type": "stream",
          "name": "stdout",
          "text": [
            "(35000, 5000)\n",
            "[0. 0. 1. 1. 1. 0. 1. 1. 1. 0. 0. 0. 0. 0. 1. 0. 1. 0. 1. 1. 0. 1. 1. 0.\n",
            " 1. 0. 1. 0. 0. 0. 0. 0. 1. 1. 0. 0. 0. 0. 0. 0. 0. 0. 0. 0. 0. 0. 0. 0.\n",
            " 0. 0. 1. 0. 0. 0. 1. 0. 0. 1. 0. 0. 0. 1. 0. 0. 0. 0. 0. 0. 0. 1. 0. 0.\n",
            " 0. 1. 0. 0. 0. 0. 0. 1. 0. 0. 0. 0. 1. 0. 0. 0. 0. 0. 0. 0. 0. 0. 0. 1.\n",
            " 0. 0. 1. 0.]\n"
          ]
        }
      ]
    },
    {
      "cell_type": "code",
      "metadata": {
        "id": "u76eKcnlTotB"
      },
      "source": [
        "input1 = Input((xTrain01.shape[1],))\n",
        "input2 = Input((xTrainRez01.shape[1],))\n",
        "\n",
        "x1 = BatchNormalization()(input1) # Создаем ветку х1\n",
        "x1 = Dropout(0.5)(x1)\n",
        "x1 = Dense(10, activation=\"relu\")(x1)\n",
        "x1 = Dense(1000, activation=\"relu\")(x1)\n",
        "x1 = Dropout(0.5)(x1)\n",
        "x1 = Dense(100, activation = \"relu\")(x1)\n",
        "\n",
        "x2 = BatchNormalization()(input2) # Создаем ветку х2\n",
        "x2 = Dropout(0.5)(x2)\n",
        "x2 = Dense(100, activation=\"tanh\")(input2)\n",
        "x2 = Dropout(0.5)(x2)\n",
        "x2 = Dense(20, activation = \"elu\")(x2)\n",
        "x2 = Dense(5, activation = \"elu\")(x2)\n",
        "\n",
        "x = concatenate([x1, x2]) # Объединяем все три ветки\n",
        "\n",
        "x = Dense(15, activation='relu')(x)\n",
        "x = Dropout(0.5)(x)\n",
        "x = Dense(1, activation='relu')(x) # Финальный нейрон, делает регрессию\n",
        "\n",
        "model = Model((input1, input2), x) # В Model загружаем стартовые и последнюю точки \n",
        "\n",
        "model.compile(optimizer=Adam(), loss='mse', metrics=['mae'])"
      ],
      "execution_count": 20,
      "outputs": []
    },
    {
      "cell_type": "code",
      "metadata": {
        "id": "_EeuG-sV_VP7",
        "colab": {
          "base_uri": "https://localhost:8080/"
        },
        "outputId": "8ad72871-7244-4687-eac3-0bc2758fa2da"
      },
      "source": [
        "history = model.fit([xTrain01[:30000], xTrainRez01[:30000]], \n",
        "                    yTrain[:30000], \n",
        "                    epochs= 100, \n",
        "                    validation_data=([xTrain01[33000:], xTrainRez01[33000:]], \n",
        "                    yTrain[33000:]), \n",
        "                    verbose=1)"
      ],
      "execution_count": 21,
      "outputs": [
        {
          "output_type": "stream",
          "name": "stdout",
          "text": [
            "Epoch 1/100\n",
            "938/938 [==============================] - 5s 5ms/step - loss: 5682.6318 - mae: 35.8774 - val_loss: 1617.2571 - val_mae: 25.7320\n",
            "Epoch 2/100\n",
            "938/938 [==============================] - 4s 5ms/step - loss: 4840.2090 - mae: 30.4940 - val_loss: 1096.1482 - val_mae: 20.5922\n",
            "Epoch 3/100\n",
            "938/938 [==============================] - 4s 5ms/step - loss: 4718.7651 - mae: 29.5871 - val_loss: 1106.2804 - val_mae: 20.6076\n",
            "Epoch 4/100\n",
            "938/938 [==============================] - 5s 5ms/step - loss: 4639.3115 - mae: 29.1503 - val_loss: 1072.4307 - val_mae: 20.4483\n",
            "Epoch 5/100\n",
            "938/938 [==============================] - 5s 5ms/step - loss: 4510.0859 - mae: 28.6409 - val_loss: 1172.1001 - val_mae: 21.0447\n",
            "Epoch 6/100\n",
            "938/938 [==============================] - 4s 5ms/step - loss: 4433.3906 - mae: 27.9437 - val_loss: 1160.4595 - val_mae: 21.0861\n",
            "Epoch 7/100\n",
            "938/938 [==============================] - 6s 6ms/step - loss: 4303.0601 - mae: 27.4743 - val_loss: 1143.9592 - val_mae: 20.6531\n",
            "Epoch 8/100\n",
            "938/938 [==============================] - 4s 5ms/step - loss: 4167.4565 - mae: 27.1208 - val_loss: 1178.9015 - val_mae: 21.5890\n",
            "Epoch 9/100\n",
            "938/938 [==============================] - 5s 5ms/step - loss: 4121.3862 - mae: 26.8346 - val_loss: 1061.3114 - val_mae: 20.6689\n",
            "Epoch 10/100\n",
            "938/938 [==============================] - 4s 5ms/step - loss: 4234.5938 - mae: 27.0587 - val_loss: 1108.0344 - val_mae: 20.3631\n",
            "Epoch 11/100\n",
            "938/938 [==============================] - 5s 5ms/step - loss: 4076.8901 - mae: 26.4725 - val_loss: 1100.2842 - val_mae: 20.3261\n",
            "Epoch 12/100\n",
            "938/938 [==============================] - 4s 5ms/step - loss: 3987.9529 - mae: 26.1488 - val_loss: 1159.0957 - val_mae: 20.7931\n",
            "Epoch 13/100\n",
            "938/938 [==============================] - 4s 5ms/step - loss: 3862.9636 - mae: 25.8623 - val_loss: 1147.2260 - val_mae: 20.8770\n",
            "Epoch 14/100\n",
            "938/938 [==============================] - 4s 5ms/step - loss: 3793.7764 - mae: 25.8763 - val_loss: 1116.4507 - val_mae: 20.3976\n",
            "Epoch 15/100\n",
            "938/938 [==============================] - 4s 5ms/step - loss: 3879.5413 - mae: 25.7507 - val_loss: 1077.7159 - val_mae: 20.3617\n",
            "Epoch 16/100\n",
            "938/938 [==============================] - 5s 5ms/step - loss: 3742.1953 - mae: 25.4282 - val_loss: 1109.2096 - val_mae: 20.3244\n",
            "Epoch 17/100\n",
            "938/938 [==============================] - 4s 5ms/step - loss: 3780.3457 - mae: 25.3972 - val_loss: 1091.3655 - val_mae: 20.1657\n",
            "Epoch 18/100\n",
            "938/938 [==============================] - 4s 5ms/step - loss: 3811.0779 - mae: 25.2145 - val_loss: 1062.7676 - val_mae: 20.0824\n",
            "Epoch 19/100\n",
            "938/938 [==============================] - 4s 5ms/step - loss: 3516.4814 - mae: 24.9069 - val_loss: 1058.7738 - val_mae: 20.0673\n",
            "Epoch 20/100\n",
            "938/938 [==============================] - 4s 5ms/step - loss: 3490.9463 - mae: 25.1021 - val_loss: 1074.6913 - val_mae: 20.1794\n",
            "Epoch 21/100\n",
            "938/938 [==============================] - 4s 5ms/step - loss: 3358.6965 - mae: 24.6760 - val_loss: 1017.7521 - val_mae: 19.6455\n",
            "Epoch 22/100\n",
            "938/938 [==============================] - 4s 5ms/step - loss: 3618.4248 - mae: 24.7833 - val_loss: 1057.2065 - val_mae: 19.7917\n",
            "Epoch 23/100\n",
            "938/938 [==============================] - 4s 5ms/step - loss: 3444.4221 - mae: 24.4587 - val_loss: 1036.1055 - val_mae: 19.9430\n",
            "Epoch 24/100\n",
            "938/938 [==============================] - 4s 5ms/step - loss: 3099.9768 - mae: 24.2587 - val_loss: 1043.7839 - val_mae: 19.9518\n",
            "Epoch 25/100\n",
            "938/938 [==============================] - 4s 5ms/step - loss: 3275.5608 - mae: 24.2566 - val_loss: 1109.1505 - val_mae: 20.2724\n",
            "Epoch 26/100\n",
            "938/938 [==============================] - 4s 5ms/step - loss: 3350.2437 - mae: 24.1330 - val_loss: 1046.0280 - val_mae: 19.7586\n",
            "Epoch 27/100\n",
            "938/938 [==============================] - 4s 5ms/step - loss: 3141.5811 - mae: 24.1964 - val_loss: 1029.5741 - val_mae: 19.7744\n",
            "Epoch 28/100\n",
            "938/938 [==============================] - 4s 5ms/step - loss: 2553.4675 - mae: 23.7611 - val_loss: 1093.5209 - val_mae: 20.4111\n",
            "Epoch 29/100\n",
            "938/938 [==============================] - 4s 5ms/step - loss: 2964.4685 - mae: 23.8050 - val_loss: 1086.9308 - val_mae: 20.2671\n",
            "Epoch 30/100\n",
            "938/938 [==============================] - 5s 5ms/step - loss: 3028.6653 - mae: 23.6006 - val_loss: 1075.7299 - val_mae: 20.3369\n",
            "Epoch 31/100\n",
            "938/938 [==============================] - 4s 5ms/step - loss: 2996.6956 - mae: 23.4264 - val_loss: 1038.4709 - val_mae: 19.7948\n",
            "Epoch 32/100\n",
            "938/938 [==============================] - 4s 5ms/step - loss: 2750.6458 - mae: 23.3028 - val_loss: 1057.4731 - val_mae: 19.8529\n",
            "Epoch 33/100\n",
            "938/938 [==============================] - 5s 5ms/step - loss: 2322.7549 - mae: 23.0028 - val_loss: 1052.1215 - val_mae: 20.0003\n",
            "Epoch 34/100\n",
            "938/938 [==============================] - 5s 5ms/step - loss: 2474.2390 - mae: 23.0194 - val_loss: 1075.1542 - val_mae: 19.9452\n",
            "Epoch 35/100\n",
            "938/938 [==============================] - 5s 5ms/step - loss: 2700.9358 - mae: 23.1062 - val_loss: 1073.8638 - val_mae: 19.8054\n",
            "Epoch 36/100\n",
            "938/938 [==============================] - 4s 5ms/step - loss: 2078.9548 - mae: 22.9475 - val_loss: 1061.1107 - val_mae: 20.1717\n",
            "Epoch 37/100\n",
            "938/938 [==============================] - 4s 5ms/step - loss: 1964.0168 - mae: 22.5692 - val_loss: 1066.8002 - val_mae: 20.0777\n",
            "Epoch 38/100\n",
            "938/938 [==============================] - 4s 5ms/step - loss: 1618.3739 - mae: 22.3787 - val_loss: 1077.2799 - val_mae: 19.9264\n",
            "Epoch 39/100\n",
            "938/938 [==============================] - 5s 5ms/step - loss: 1611.5317 - mae: 22.3210 - val_loss: 1075.8873 - val_mae: 19.8211\n",
            "Epoch 40/100\n",
            "938/938 [==============================] - 4s 5ms/step - loss: 1894.5660 - mae: 22.3090 - val_loss: 1095.5571 - val_mae: 20.2019\n",
            "Epoch 41/100\n",
            "938/938 [==============================] - 5s 5ms/step - loss: 1505.1384 - mae: 22.1507 - val_loss: 1063.9368 - val_mae: 19.6676\n",
            "Epoch 42/100\n",
            "938/938 [==============================] - 4s 5ms/step - loss: 1761.0731 - mae: 21.8913 - val_loss: 1044.9506 - val_mae: 19.7124\n",
            "Epoch 43/100\n",
            "938/938 [==============================] - 4s 5ms/step - loss: 2182.5244 - mae: 21.8128 - val_loss: 1052.4622 - val_mae: 19.7314\n",
            "Epoch 44/100\n",
            "938/938 [==============================] - 5s 5ms/step - loss: 2171.3225 - mae: 21.6279 - val_loss: 1099.1123 - val_mae: 20.1841\n",
            "Epoch 45/100\n",
            "938/938 [==============================] - 5s 5ms/step - loss: 1526.4843 - mae: 21.8129 - val_loss: 1041.6039 - val_mae: 19.4072\n",
            "Epoch 46/100\n",
            "938/938 [==============================] - 5s 5ms/step - loss: 2097.7590 - mae: 21.4876 - val_loss: 1060.0153 - val_mae: 20.0635\n",
            "Epoch 47/100\n",
            "938/938 [==============================] - 4s 5ms/step - loss: 1626.9930 - mae: 21.2678 - val_loss: 1034.7410 - val_mae: 19.7141\n",
            "Epoch 48/100\n",
            "938/938 [==============================] - 5s 5ms/step - loss: 1317.8947 - mae: 21.3590 - val_loss: 1059.3641 - val_mae: 19.7297\n",
            "Epoch 49/100\n",
            "938/938 [==============================] - 5s 5ms/step - loss: 1561.5260 - mae: 21.2552 - val_loss: 1083.1198 - val_mae: 19.7874\n",
            "Epoch 50/100\n",
            "938/938 [==============================] - 5s 5ms/step - loss: 2391.4087 - mae: 21.1893 - val_loss: 1044.5747 - val_mae: 19.7873\n",
            "Epoch 51/100\n",
            "938/938 [==============================] - 4s 5ms/step - loss: 2104.0681 - mae: 21.3054 - val_loss: 1041.4686 - val_mae: 19.4363\n",
            "Epoch 52/100\n",
            "938/938 [==============================] - 4s 5ms/step - loss: 1587.9132 - mae: 20.8046 - val_loss: 1057.3689 - val_mae: 19.7917\n",
            "Epoch 53/100\n",
            "938/938 [==============================] - 4s 5ms/step - loss: 1764.8236 - mae: 20.7909 - val_loss: 1038.4216 - val_mae: 19.6196\n",
            "Epoch 54/100\n",
            "938/938 [==============================] - 4s 5ms/step - loss: 1471.7245 - mae: 20.6642 - val_loss: 1076.9934 - val_mae: 19.7742\n",
            "Epoch 55/100\n",
            "938/938 [==============================] - 4s 5ms/step - loss: 1861.1960 - mae: 20.7425 - val_loss: 1079.5836 - val_mae: 19.6542\n",
            "Epoch 56/100\n",
            "938/938 [==============================] - 4s 5ms/step - loss: 1403.7562 - mae: 20.4961 - val_loss: 1064.5070 - val_mae: 19.5163\n",
            "Epoch 57/100\n",
            "938/938 [==============================] - 5s 5ms/step - loss: 1221.6157 - mae: 20.3028 - val_loss: 1067.8055 - val_mae: 19.4997\n",
            "Epoch 58/100\n",
            "938/938 [==============================] - 4s 5ms/step - loss: 1846.9380 - mae: 20.2701 - val_loss: 1074.6108 - val_mae: 19.6009\n",
            "Epoch 59/100\n",
            "938/938 [==============================] - 4s 5ms/step - loss: 1649.1658 - mae: 20.4128 - val_loss: 1071.7733 - val_mae: 19.5402\n",
            "Epoch 60/100\n",
            "938/938 [==============================] - 5s 5ms/step - loss: 1981.9807 - mae: 20.2604 - val_loss: 1054.0613 - val_mae: 19.5089\n",
            "Epoch 61/100\n",
            "938/938 [==============================] - 5s 5ms/step - loss: 1152.4905 - mae: 19.9099 - val_loss: 1084.3929 - val_mae: 19.8711\n",
            "Epoch 62/100\n",
            "938/938 [==============================] - 4s 5ms/step - loss: 1805.3561 - mae: 19.7385 - val_loss: 1057.2139 - val_mae: 19.6482\n",
            "Epoch 63/100\n",
            "938/938 [==============================] - 5s 5ms/step - loss: 1464.0460 - mae: 19.5773 - val_loss: 1058.9130 - val_mae: 19.4727\n",
            "Epoch 64/100\n",
            "938/938 [==============================] - 4s 5ms/step - loss: 1640.2925 - mae: 19.5918 - val_loss: 1107.5303 - val_mae: 19.9710\n",
            "Epoch 65/100\n",
            "938/938 [==============================] - 5s 5ms/step - loss: 1123.3684 - mae: 19.4736 - val_loss: 1091.6538 - val_mae: 19.6262\n",
            "Epoch 66/100\n",
            "938/938 [==============================] - 5s 5ms/step - loss: 1312.8500 - mae: 19.3563 - val_loss: 1079.1653 - val_mae: 19.6945\n",
            "Epoch 67/100\n",
            "938/938 [==============================] - 4s 5ms/step - loss: 2143.2771 - mae: 19.4546 - val_loss: 1093.6757 - val_mae: 19.8364\n",
            "Epoch 68/100\n",
            "938/938 [==============================] - 4s 5ms/step - loss: 1753.0192 - mae: 19.4496 - val_loss: 1044.4564 - val_mae: 19.3489\n",
            "Epoch 69/100\n",
            "938/938 [==============================] - 5s 5ms/step - loss: 1582.0193 - mae: 19.3267 - val_loss: 1055.9783 - val_mae: 19.3598\n",
            "Epoch 70/100\n",
            "938/938 [==============================] - 4s 5ms/step - loss: 1626.6691 - mae: 19.0820 - val_loss: 1060.5654 - val_mae: 19.5022\n",
            "Epoch 71/100\n",
            "938/938 [==============================] - 4s 5ms/step - loss: 1533.4159 - mae: 19.3029 - val_loss: 1063.2230 - val_mae: 19.3948\n",
            "Epoch 72/100\n",
            "938/938 [==============================] - 4s 5ms/step - loss: 1494.6614 - mae: 19.1625 - val_loss: 1063.4910 - val_mae: 19.4914\n",
            "Epoch 73/100\n",
            "938/938 [==============================] - 5s 5ms/step - loss: 1989.1752 - mae: 19.3820 - val_loss: 1066.9078 - val_mae: 19.5708\n",
            "Epoch 74/100\n",
            "938/938 [==============================] - 4s 5ms/step - loss: 1493.6451 - mae: 19.0251 - val_loss: 1063.1490 - val_mae: 19.5252\n",
            "Epoch 75/100\n",
            "938/938 [==============================] - 5s 5ms/step - loss: 1531.0193 - mae: 18.8315 - val_loss: 1044.0186 - val_mae: 19.4561\n",
            "Epoch 76/100\n",
            "938/938 [==============================] - 5s 5ms/step - loss: 2040.0038 - mae: 19.0433 - val_loss: 1029.5061 - val_mae: 19.3757\n",
            "Epoch 77/100\n",
            "938/938 [==============================] - 5s 5ms/step - loss: 1271.9558 - mae: 18.8905 - val_loss: 1052.4980 - val_mae: 19.5720\n",
            "Epoch 78/100\n",
            "938/938 [==============================] - 4s 5ms/step - loss: 1126.7362 - mae: 18.6090 - val_loss: 1055.6577 - val_mae: 19.6598\n",
            "Epoch 79/100\n",
            "938/938 [==============================] - 4s 5ms/step - loss: 1660.8832 - mae: 18.6597 - val_loss: 1054.8529 - val_mae: 19.5197\n",
            "Epoch 80/100\n",
            "938/938 [==============================] - 5s 5ms/step - loss: 2034.5765 - mae: 19.0295 - val_loss: 1060.0170 - val_mae: 19.6150\n",
            "Epoch 81/100\n",
            "938/938 [==============================] - 4s 5ms/step - loss: 1372.7583 - mae: 18.5890 - val_loss: 1057.6227 - val_mae: 19.5302\n",
            "Epoch 82/100\n",
            "938/938 [==============================] - 4s 5ms/step - loss: 1395.5115 - mae: 18.4789 - val_loss: 1059.6133 - val_mae: 19.6931\n",
            "Epoch 83/100\n",
            "938/938 [==============================] - 5s 5ms/step - loss: 1681.0327 - mae: 18.6285 - val_loss: 1064.8961 - val_mae: 19.6732\n",
            "Epoch 84/100\n",
            "938/938 [==============================] - 4s 5ms/step - loss: 1137.7677 - mae: 18.3349 - val_loss: 1048.8937 - val_mae: 19.3192\n",
            "Epoch 85/100\n",
            "938/938 [==============================] - 5s 5ms/step - loss: 1007.3152 - mae: 18.2354 - val_loss: 1059.4840 - val_mae: 19.6575\n",
            "Epoch 86/100\n",
            "938/938 [==============================] - 4s 5ms/step - loss: 1232.7549 - mae: 18.4556 - val_loss: 1062.1268 - val_mae: 19.6319\n",
            "Epoch 87/100\n",
            "938/938 [==============================] - 5s 5ms/step - loss: 1098.7843 - mae: 18.3330 - val_loss: 1068.5571 - val_mae: 19.8531\n",
            "Epoch 88/100\n",
            "938/938 [==============================] - 5s 5ms/step - loss: 2765.6882 - mae: 18.6329 - val_loss: 1052.4982 - val_mae: 19.6092\n",
            "Epoch 89/100\n",
            "938/938 [==============================] - 4s 5ms/step - loss: 1039.7493 - mae: 18.0973 - val_loss: 1069.7728 - val_mae: 19.6719\n",
            "Epoch 90/100\n",
            "938/938 [==============================] - 4s 5ms/step - loss: 1534.2937 - mae: 18.4372 - val_loss: 1079.7626 - val_mae: 19.7699\n",
            "Epoch 91/100\n",
            "938/938 [==============================] - 5s 5ms/step - loss: 972.6704 - mae: 18.0160 - val_loss: 1093.1793 - val_mae: 19.7356\n",
            "Epoch 92/100\n",
            "938/938 [==============================] - 5s 5ms/step - loss: 1485.0704 - mae: 18.1002 - val_loss: 1071.5161 - val_mae: 19.5192\n",
            "Epoch 93/100\n",
            "938/938 [==============================] - 5s 5ms/step - loss: 1059.6061 - mae: 18.0645 - val_loss: 1070.7764 - val_mae: 19.4855\n",
            "Epoch 94/100\n",
            "938/938 [==============================] - 5s 5ms/step - loss: 1068.8947 - mae: 17.9120 - val_loss: 1059.1052 - val_mae: 19.5833\n",
            "Epoch 95/100\n",
            "938/938 [==============================] - 5s 5ms/step - loss: 2254.8809 - mae: 18.2912 - val_loss: 1048.3867 - val_mae: 19.3785\n",
            "Epoch 96/100\n",
            "938/938 [==============================] - 4s 5ms/step - loss: 1183.6084 - mae: 17.8789 - val_loss: 1076.6709 - val_mae: 19.4987\n",
            "Epoch 97/100\n",
            "938/938 [==============================] - 5s 5ms/step - loss: 1219.9210 - mae: 17.8993 - val_loss: 1047.7821 - val_mae: 19.2136\n",
            "Epoch 98/100\n",
            "938/938 [==============================] - 4s 5ms/step - loss: 1036.6920 - mae: 17.7360 - val_loss: 1077.9749 - val_mae: 19.4923\n",
            "Epoch 99/100\n",
            "938/938 [==============================] - 4s 5ms/step - loss: 1422.3081 - mae: 17.9094 - val_loss: 1085.4596 - val_mae: 19.5262\n",
            "Epoch 100/100\n",
            "938/938 [==============================] - 5s 5ms/step - loss: 1190.3873 - mae: 17.5867 - val_loss: 1064.1143 - val_mae: 19.3789\n"
          ]
        }
      ]
    },
    {
      "cell_type": "code",
      "metadata": {
        "id": "qYlZm3HuzWhe",
        "colab": {
          "base_uri": "https://localhost:8080/",
          "height": 279
        },
        "outputId": "67830233-4d48-417f-e676-d5746852f316"
      },
      "source": [
        "plt.plot(history.history['mae'], \n",
        "         label='Средняя абсолютная ошибка на обучающем наборе')\n",
        "plt.plot(history.history['val_mae'], \n",
        "         label='Средняя абсолютная ошибка на проверочном наборе')\n",
        "plt.xlabel('Эпоха обучения')\n",
        "plt.ylabel('Средняя абсолютная ошибка')\n",
        "plt.legend()\n",
        "plt.show()"
      ],
      "execution_count": 22,
      "outputs": [
        {
          "output_type": "display_data",
          "data": {
            "image/png": "[encoded data removed]",
            "text/plain": [
              "<Figure size 432x288 with 1 Axes>"
            ]
          },
          "metadata": {
            "needs_background": "light"
          }
        }
      ]
    },
    {
      "cell_type": "code",
      "metadata": {
        "id": "7-B8ABFfA0H_"
      },
      "source": [
        "a = (xTrain01, xTrainRez01)\n",
        "yy = model.predict(a)"
      ],
      "execution_count": 23,
      "outputs": []
    },
    {
      "cell_type": "code",
      "metadata": {
        "id": "me7wSc4rBEb7",
        "colab": {
          "base_uri": "https://localhost:8080/"
        },
        "outputId": "21c81ac6-52bd-404b-922a-a2655272c49b"
      },
      "source": [
        "n = 10\n",
        "for i in range(n):\n",
        "  print('Реальное значение - ',yTrain[i], \" Предсказанное значение - \", round(yy[i][0], 2), \" Разница - \", round(abs(yTrain[i]-yy[i][0]), 2))"
      ],
      "execution_count": 25,
      "outputs": [
        {
          "output_type": "stream",
          "name": "stdout",
          "text": [
            "Реальное значение -  40.0  Предсказанное значение -  38.31  Разница -  1.69\n",
            "Реальное значение -  40.0  Предсказанное значение -  40.56  Разница -  0.56\n",
            "Реальное значение -  300.0  Предсказанное значение -  293.95  Разница -  6.05\n",
            "Реальное значение -  180.0  Предсказанное значение -  164.38  Разница -  15.62\n",
            "Реальное значение -  40.0  Предсказанное значение -  34.73  Разница -  5.27\n",
            "Реальное значение -  200.0  Предсказанное значение -  182.33  Разница -  17.67\n",
            "Реальное значение -  120.0  Предсказанное значение -  113.27  Разница -  6.73\n",
            "Реальное значение -  50.0  Предсказанное значение -  42.73  Разница -  7.27\n",
            "Реальное значение -  60.0  Предсказанное значение -  65.79  Разница -  5.79\n",
            "Реальное значение -  70.0  Предсказанное значение -  69.97  Разница -  0.03\n"
          ]
        }
      ]
    }
  ]
}