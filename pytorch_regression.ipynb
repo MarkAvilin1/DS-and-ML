{
  "nbformat": 4,
  "nbformat_minor": 0,
  "metadata": {
    "colab": {
      "name": "pytorch_regression.ipynb",
      "provenance": [],
      "authorship_tag": "ABX9TyMEQZiAKDzibfulQ/uSWeu2",
      "include_colab_link": true
    },
    "kernelspec": {
      "name": "python3",
      "display_name": "Python 3"
    },
    "language_info": {
      "name": "python"
    }
  },
  "cells": [
    {
      "cell_type": "markdown",
      "metadata": {
        "id": "view-in-github",
        "colab_type": "text"
      },
      "source": [
        "<a href=\"https://colab.research.google.com/github/MarkAvilin1/DS-and-ML/blob/main/pytorch_regression.ipynb\" target=\"_parent\"><img src=\"https://colab.research.google.com/assets/colab-badge.svg\" alt=\"Open In Colab\"/></a>"
      ]
    },
    {
      "cell_type": "code",
      "metadata": {
        "id": "S0D4-E21LMV1"
      },
      "source": [
        "from matplotlib import pyplot as plt\n",
        "from tensorflow.keras import utils \n",
        "from google.colab import drive\n",
        "import torch.nn as nn\n",
        "import pandas as pd\n",
        "import numpy as np\n",
        "import torch\n",
        "import re"
      ],
      "execution_count": null,
      "outputs": []
    },
    {
      "cell_type": "code",
      "metadata": {
        "colab": {
          "base_uri": "https://localhost:8080/"
        },
        "id": "6NQ-3TCsLj8g",
        "outputId": "e6e81843-9b03-4794-f3bb-6be97943f455"
      },
      "source": [
        "drive.mount('/content/drive')"
      ],
      "execution_count": null,
      "outputs": [
        {
          "output_type": "stream",
          "name": "stdout",
          "text": [
            "Drive already mounted at /content/drive; to attempt to forcibly remount, call drive.mount(\"/content/drive\", force_remount=True).\n"
          ]
        }
      ]
    },
    {
      "cell_type": "code",
      "metadata": {
        "id": "IAqwIgArLoJS"
      },
      "source": [
        "path = '/content/drive/MyDrive/University AI/datasets/hh_fixed.csv'"
      ],
      "execution_count": null,
      "outputs": []
    },
    {
      "cell_type": "code",
      "metadata": {
        "id": "2mo7uXd2L8O4"
      },
      "source": [
        "data = pd.read_csv(path)"
      ],
      "execution_count": null,
      "outputs": []
    },
    {
      "cell_type": "code",
      "metadata": {
        "colab": {
          "base_uri": "https://localhost:8080/",
          "height": 712
        },
        "id": "HUwuzIkFMHG4",
        "outputId": "45dd3fbf-0865-41e1-a229-6470d14ee0c8"
      },
      "source": [
        "data.head()"
      ],
      "execution_count": null,
      "outputs": [
        {
          "output_type": "execute_result",
          "data": {
            "text/html": [
              "<div>\n",
              "<style scoped>\n",
              "    .dataframe tbody tr th:only-of-type {\n",
              "        vertical-align: middle;\n",
              "    }\n",
              "\n",
              "    .dataframe tbody tr th {\n",
              "        vertical-align: top;\n",
              "    }\n",
              "\n",
              "    .dataframe thead th {\n",
              "        text-align: right;\n",
              "    }\n",
              "</style>\n",
              "<table border=\"1\" class=\"dataframe\">\n",
              "  <thead>\n",
              "    <tr style=\"text-align: right;\">\n",
              "      <th></th>\n",
              "      <th>Unnamed: 0</th>\n",
              "      <th>Пол, возраст</th>\n",
              "      <th>ЗП</th>\n",
              "      <th>Ищет работу на должность:</th>\n",
              "      <th>Город</th>\n",
              "      <th>Занятость</th>\n",
              "      <th>График</th>\n",
              "      <th>Опыт (двойное нажатие для полной версии)</th>\n",
              "      <th>Последенее/нынешнее место работы</th>\n",
              "      <th>Последеняя/нынешняя должность</th>\n",
              "      <th>Образование и ВУЗ</th>\n",
              "      <th>Обновление резюме</th>\n",
              "      <th>Авто</th>\n",
              "    </tr>\n",
              "  </thead>\n",
              "  <tbody>\n",
              "    <tr>\n",
              "      <th>0</th>\n",
              "      <td>0</td>\n",
              "      <td>Мужчина ,  29 лет , родился 16 мая 1989</td>\n",
              "      <td>40000 руб.</td>\n",
              "      <td>Специалист по поддержке чата(support team) дом...</td>\n",
              "      <td>Новороссийск , готов к переезду (Анапа, Геленд...</td>\n",
              "      <td>полная занятость</td>\n",
              "      <td>полный день</td>\n",
              "      <td>Опыт работы 3 года 9 месяцев  Специалист по по...</td>\n",
              "      <td>ООО \"Гольфстрим\"</td>\n",
              "      <td>Генеральный директор</td>\n",
              "      <td>Высшее образование 2011  Международный юридиче...</td>\n",
              "      <td>26.04.2019 08:04</td>\n",
              "      <td>Не указано</td>\n",
              "    </tr>\n",
              "    <tr>\n",
              "      <th>1</th>\n",
              "      <td>1</td>\n",
              "      <td>Мужчина ,  38 лет , родился 25 мая 1980</td>\n",
              "      <td>40000 руб.</td>\n",
              "      <td>Системный администратор</td>\n",
              "      <td>Новосибирск ,  м. Березовая роща , не готов к ...</td>\n",
              "      <td>полная занятость</td>\n",
              "      <td>полный день</td>\n",
              "      <td>Опыт работы 11 лет 11 месяцев  Системный админ...</td>\n",
              "      <td>ООО «Завод модульных технологий»</td>\n",
              "      <td>Системный администратор</td>\n",
              "      <td>Высшее образование 2002 Новосибирский государс...</td>\n",
              "      <td>26.04.2019 04:30</td>\n",
              "      <td>Не указано</td>\n",
              "    </tr>\n",
              "    <tr>\n",
              "      <th>2</th>\n",
              "      <td>2</td>\n",
              "      <td>Мужчина ,  35 лет , родился 14 июня 1983</td>\n",
              "      <td>300000 руб.</td>\n",
              "      <td>DevOps TeamLead / DevOps архитектор</td>\n",
              "      <td>Москва , готов к переезду , готов к редким ком...</td>\n",
              "      <td>полная занятость</td>\n",
              "      <td>полный день</td>\n",
              "      <td>Опыт работы 12 лет 11 месяцев  DevOps TeamLead...</td>\n",
              "      <td>Банк ВТБ (ПАО)</td>\n",
              "      <td>Начальник отдела методологии разработки (DevOp...</td>\n",
              "      <td>DevOps TeamLead / DevOps архитектор 300 000 ру...</td>\n",
              "      <td>09.04.2019 14:40</td>\n",
              "      <td>Не указано</td>\n",
              "    </tr>\n",
              "    <tr>\n",
              "      <th>3</th>\n",
              "      <td>3</td>\n",
              "      <td>Мужчина ,  33 года , родился 2 августа 1985</td>\n",
              "      <td>180000 руб.</td>\n",
              "      <td>Руководитель IT отдела</td>\n",
              "      <td>Москва ,  м. Щукинская , не готов к переезду ,...</td>\n",
              "      <td>частичная занятость, полная занятость</td>\n",
              "      <td>удаленная работа, полный день</td>\n",
              "      <td>Опыт работы 15 лет 10 месяцев  Руководитель IT...</td>\n",
              "      <td>\"Ай-Теко\", ведущий российский системный интегр...</td>\n",
              "      <td>Старший системный администратор</td>\n",
              "      <td>Руководитель IT отдела 180 000 руб. Информацио...</td>\n",
              "      <td>09.04.2019 14:39</td>\n",
              "      <td>Имеется собственный автомобиль</td>\n",
              "    </tr>\n",
              "    <tr>\n",
              "      <th>4</th>\n",
              "      <td>4</td>\n",
              "      <td>Мужчина ,  22 года , родился 1 сентября 1996</td>\n",
              "      <td>40000 руб.</td>\n",
              "      <td>Junior Developer</td>\n",
              "      <td>Москва ,  м. Юго-Западная , не готов к переезд...</td>\n",
              "      <td>стажировка, частичная занятость, проектная работа</td>\n",
              "      <td>гибкий график, удаленная работа</td>\n",
              "      <td>Опыт работы 1 год 1 месяц  Junior Developer 40...</td>\n",
              "      <td>R-Style SoftLab</td>\n",
              "      <td>Менеджер IT-проектов</td>\n",
              "      <td>Junior Developer 40 000 руб. Информационные те...</td>\n",
              "      <td>29.03.2019 12:40</td>\n",
              "      <td>Не указано</td>\n",
              "    </tr>\n",
              "  </tbody>\n",
              "</table>\n",
              "</div>"
            ],
            "text/plain": [
              "   Unnamed: 0  ...                            Авто\n",
              "0           0  ...                      Не указано\n",
              "1           1  ...                      Не указано\n",
              "2           2  ...                      Не указано\n",
              "3           3  ...  Имеется собственный автомобиль\n",
              "4           4  ...                      Не указано\n",
              "\n",
              "[5 rows x 13 columns]"
            ]
          },
          "metadata": {},
          "execution_count": 5
        }
      ]
    },
    {
      "cell_type": "code",
      "metadata": {
        "colab": {
          "base_uri": "https://localhost:8080/"
        },
        "id": "06b6UIdeMLJo",
        "outputId": "b3e3eed9-9256-43d7-9c86-0d3183b3b6c1"
      },
      "source": [
        "n = 10 \n",
        "for i in range(len(data.values[n])):\n",
        "  print(i, \" \", data.values[n][i])"
      ],
      "execution_count": null,
      "outputs": [
        {
          "output_type": "stream",
          "name": "stdout",
          "text": [
            "0   10\n",
            "1   Мужчина ,  61 год , родился 16 февраля 1958\n",
            "2   2000 EUR\n",
            "3   Программист\n",
            "4   Москва , не готов к переезду , не готов к командировкам\n",
            "5   полная занятость\n",
            "6   полный день\n",
            "7   Опыт работы 27 лет 4 месяца  Программист 2 000 EUR Информационные технологии, интернет, телеком Программирование, Разработка Системная интеграция Занятость: полная занятость График работы: полный день Опыт работы 27 лет 4 месяца Январь 2008 — по настоящее время 11 лет 4 месяца Консалтинг КАС Главный аналитик Программирование на разных версиях RPG для AS/400 (iSeries). Модификация и доработка существующего кода, расширения функциональности системы. Разработка новых модулей и подсистем. Постановка задач, управление проектами. Январь 1993 — Январь  2008 15 лет 1 месяц Артекс, крупнейший дилер БМВ в Москве Директор по ИТ Доработка существующей системы управления дилерским предприятием (AS/400, iSeries). Все версии RPG (RPG36, RPG400, ILE RPG). Работа с DB2. Расширение функциональности системы, изменение системы, согласно действующему законодательству РФ. Руководство проектами, координация действий различных подразделений компании и сторонних организаций. Бюджетирование. Исследование бизнес процессов и реинжиниринг. Разработка и реализация концепций дисконтных программ, программы стимулирования сотрудников, развития региональной дилерской сети, оперативного и бухгалтерского учета товаров. Математическая статистика. Январь 1992 — Январь  1993 1 год 1 месяц GEWIKA, немецкая фирма, единственный на тот момент импортер БМВ Эксперт по компьютерным системам Эксплуатация системы управления предприятием, предоставленной вендором. Доработка и настройка системы с учетом специфики российского законодательства. Программирование для IBM System36, AS/400 (iSeries) Опыт вождения Права категории B Обо мне Программирование для AS/400 (iSeries). Языки программирования RPG (все версии), CL, Java, SQL. Работа с DB2. Развитие и сопровождение существующего кода, расширение функциональности. Разработка больших систем. Формализация и постановка задач. Руководство проектами. WEB-программирование (JAVA, PHP, HTML, XML). Утилиты IDDU, DFU, SEU, RLU, Query. Высшее образование (Кандидат наук) 1980 РПИ (Рижский политехнический институт) Рига Инженерный Знание языков Английский — C2 — В совершенстве Немецкий — B2 — Средне-продвинутый Гражданство, время в пути до работы Гражданство: Россия Желательное время в пути до работы: Не имеет значения  Опыт работы 27 лет 4 месяца Январь 2008 — по настоящее время 11 лет 4 месяца Консалтинг КАС Главный аналитик Программирование на разных версиях RPG для AS/400 (iSeries). Модификация и доработка существующего кода, расширения функциональности системы. Разработка новых модулей и подсистем. Постановка задач, управление проектами. Январь 1993 — Январь  2008 15 лет 1 месяц Артекс, крупнейший дилер БМВ в Москве Директор по ИТ Доработка существующей системы управления дилерским предприятием (AS/400, iSeries). Все версии RPG (RPG36, RPG400, ILE RPG). Работа с DB2. Расширение функциональности системы, изменение системы, согласно действующему законодательству РФ. Руководство проектами, координация действий различных подразделений компании и сторонних организаций. Бюджетирование. Исследование бизнес процессов и реинжиниринг. Разработка и реализация концепций дисконтных программ, программы стимулирования сотрудников, развития региональной дилерской сети, оперативного и бухгалтерского учета товаров. Математическая статистика. Январь 1992 — Январь  1993 1 год 1 месяц GEWIKA, немецкая фирма, единственный на тот момент импортер БМВ Эксперт по компьютерным системам Эксплуатация системы управления предприятием, предоставленной вендором. Доработка и настройка системы с учетом специфики российского законодательства. Программирование для IBM System36, AS/400 (iSeries)  Январь 2008 — по настоящее время 11 лет 4 месяца Консалтинг КАС Главный аналитик Программирование на разных версиях RPG для AS/400 (iSeries). Модификация и доработка существующего кода, расширения функциональности системы. Разработка новых модулей и подсистем. Постановка задач, управление проектами.  Январь 1993 — Январь  2008 15 лет 1 месяц Артекс, крупнейший дилер БМВ в Москве Директор по ИТ Доработка существующей системы управления дилерским предприятием (AS/400, iSeries). Все версии RPG (RPG36, RPG400, ILE RPG). Работа с DB2. Расширение функциональности системы, изменение системы, согласно действующему законодательству РФ. Руководство проектами, координация действий различных подразделений компании и сторонних организаций. Бюджетирование. Исследование бизнес процессов и реинжиниринг. Разработка и реализация концепций дисконтных программ, программы стимулирования сотрудников, развития региональной дилерской сети, оперативного и бухгалтерского учета товаров. Математическая статистика.  Январь 1992 — Январь  1993 1 год 1 месяц GEWIKA, немецкая фирма, единственный на тот момент импортер БМВ Эксперт по компьютерным системам Эксплуатация системы управления предприятием, предоставленной вендором. Доработка и настройка системы с учетом специфики российского законодательства. Программирование для IBM System36, AS/400 (iSeries)\n",
            "8   Консалтинг КАС\n",
            "9   Главный аналитик\n",
            "10   Высшее образование (Кандидат наук) 1980 РПИ (Рижский политехнический институт)Рига Инженерный\n",
            "11   07.06.2018 09:41\n",
            "12   Не указано\n"
          ]
        }
      ]
    },
    {
      "cell_type": "code",
      "metadata": {
        "id": "SWm4zqXbnBqx"
      },
      "source": [
        "# def getExperience(arg):\n",
        "#   check_y = arg.split()[2]\n",
        "#   check_m = arg.split()[4]\n",
        "#   year = 0\n",
        "#   month = 0\n",
        "#   if check_y.isdigit():\n",
        "#     year = int(check_y) * 12\n",
        "#   elif check_y.isdigit():\n",
        "#     month = int(check_m)\n",
        "#   result = year + month\n",
        "#   return result"
      ],
      "execution_count": null,
      "outputs": []
    },
    {
      "cell_type": "code",
      "metadata": {
        "id": "pAQGuvwQejEQ"
      },
      "source": [
        "fixed_df = data.drop(data.columns[0],axis = 1) \n",
        "i=0\n",
        "for j in range(12):  \n",
        "    for i in range(fixed_df.shape[0]): \n",
        "        if type(fixed_df.values[i][j])!=float: \n",
        "            fixed_df.values[i][j] = fixed_df.values[i][j].replace(\"\\xa0\",\"\")\n",
        "            fixed_df.values[i][j] = fixed_df.values[i][j].replace(\"\\n\",\" \")"
      ],
      "execution_count": null,
      "outputs": []
    },
    {
      "cell_type": "code",
      "metadata": {
        "id": "jqEf8ZzIq_00"
      },
      "source": [
        "d = np.array(fixed_df[:1000])"
      ],
      "execution_count": null,
      "outputs": []
    },
    {
      "cell_type": "code",
      "metadata": {
        "id": "g-nYtToClWt4"
      },
      "source": [
        "def getParameterSexAge(arg):\n",
        "  out = [0,0]\n",
        "  if \"М\" in arg:\n",
        "    out[0] = 1\n",
        "  year_tec = 2020\n",
        "  if (len(arg) > 7):\n",
        "    out[1] = year_tec - int(re.findall(r'\\d{4}', arg)[0])\n",
        "  return out\n",
        "\n",
        "\n",
        "def getParameterAgeVect(arg):\n",
        "  outClass =int((arg-13)/5)\n",
        "  outClass = max(0, min(10,outClass))\n",
        "  return list(utils.to_categorical(outClass, 11).astype('int'))\n",
        "\n",
        "\n",
        "def getParameterSalary(arg):\n",
        "    num = arg\n",
        "    if (type(num) == str):\n",
        "        num = re.sub(' ','',num)\n",
        "        num = re.sub('[а-яА-ЯёЁ]','',num)\n",
        "        num = re.sub('[a-zA-Z]','',num)\n",
        "        num = num.replace('.','')\n",
        "        curr = re.sub('[0-9]','',arg)\n",
        "        curr = curr.replace('.','').strip()\n",
        "        if curr == 'USD':\n",
        "           num = float(num)*65\n",
        "        elif curr == 'KZT':\n",
        "           num = float(num)*0.17\n",
        "        elif curr=='грн':\n",
        "           num = float(num)*2.6\n",
        "        elif curr=='белруб':\n",
        "           num = float(num)*30.5\n",
        "        elif curr=='EUR':\n",
        "           num = float(num)*70\n",
        "        elif curr=='KGS':\n",
        "           num = float(num)*0.9\n",
        "        elif curr=='сум':\n",
        "           num = float(num)*0.007\n",
        "        elif curr=='AZN':\n",
        "           num = float(num)*37.5             \n",
        "    salaryStr = int(num)     \n",
        "    return salaryStr\n",
        "\n",
        "\n",
        "def getParameterCity(arg):\n",
        "  millionCities = \"Новосибирск Екатеринбург Нижний Новгород Казань Челябинск Омск Самара Ростов-на-Дону Уфа Красноярск Пермь Воронеж Волгоград\"\n",
        "  sarg=arg.split(',')\n",
        "  for item in sarg:\n",
        "    item= item.strip()\n",
        "    if item == \"Москва\":          return [1, 0, 0, 0]\n",
        "    if item == \"Санкт-Петербург\": return [0, 1, 0, 0]\n",
        "    if item in millionCities:     return [0, 0, 1, 0]\n",
        "  return [0, 0, 0, 1]\n",
        "\n",
        "\n",
        "def getParameterEmployment(arg):\n",
        "  out= [0, 0, 0, 0]\n",
        "  if (\"стажировка\" in arg):           out[0]=1\n",
        "  if (\"частичная занятость\" in arg):  out[1]=1\n",
        "  if (\"проектная работа\" in arg):     out[2]=1\n",
        "  if (\"полная занятость\" in arg):     out[3]=1\n",
        "  return out\n",
        "\n",
        "\n",
        "def getParameterSchedule(arg):\n",
        "  out = [0, 0, 0, 0]\n",
        "  if (\"гибкий график\" in arg):    out[0]=1\n",
        "  if (\"полный день\" in arg):      out[1]=1\n",
        "  if (\"сменный график\" in arg):   out[2]=1\n",
        "  if (\"удаленная работа\" in arg): out[3]=1\n",
        "  return out\n",
        "\n",
        "\n",
        "def getParameterEducation(arg):\n",
        "  out = [0, 0, 0, 0] \n",
        "  if \"Высшее\" in arg or \"Higher education\" in arg:  out[0] = 1\n",
        "  if \"Среднее специальное\" in arg:      out[1] = 1\n",
        "  if \"Неоконченное высшее\" in arg:      out[2] = 1\n",
        "  if \"Среднее образование\" in arg:      out[3] = 1\n",
        "  return out\n",
        "\n",
        "\n",
        "def getParameterExperience(arg):\n",
        "  arg = str(arg)\n",
        "  symbols = 0\n",
        "  years = 0\n",
        "  months = 0\n",
        "  for s in arg:\n",
        "    if (s != \" \"):\n",
        "      symbols += 1\n",
        "  if (symbols > 10):\n",
        "      spacesIndexes = []\n",
        "      index = 0\n",
        "      while ((len(spacesIndexes) < 5) & (index < len(arg))):\n",
        "          if (arg[index] == \" \"):\n",
        "              spacesIndexes.append(index)\n",
        "          index += 1\n",
        "      years = 0\n",
        "      months = 0\n",
        "      if (arg[spacesIndexes[2]+1] != \"м\"):\n",
        "         if (len(spacesIndexes) >= 3):\n",
        "            yearsStr = arg[spacesIndexes[1]:spacesIndexes[2]] \n",
        "            years = int(yearsStr)      \n",
        "         if (len(spacesIndexes) >= 5):\n",
        "            monthsStr = arg[spacesIndexes[3]:spacesIndexes[4]] \n",
        "            if(arg[spacesIndexes[2]+1] == \"м\"):\n",
        "                months = int(monthsStr)\n",
        "      else:\n",
        "        if (len(spacesIndexes) >= 3):\n",
        "          monthsStr = arg[spacesIndexes[1]:spacesIndexes[2]]\n",
        "          months = int(monthsStr)      \n",
        "  return 12*years+months\n",
        "\n",
        "\n",
        "def getParameterExperienceVector(arg):\n",
        "  out = getParameterExperience(arg)\n",
        "  outClass = 0\n",
        "  if (out > 6): \n",
        "    outClass = 1\n",
        "  if (out > 12): \n",
        "    outClass = 2\n",
        "  if (out > 24): \n",
        "    outClass = 3\n",
        "  if (out > 36): \n",
        "    outClass = 4\n",
        "  if (out > 60): \n",
        "    outClass = 5\n",
        "  if (out > 96): \n",
        "    outClass = 6\n",
        "  if (out > 120): \n",
        "    outClass = 7\n",
        "  if (out > 156): \n",
        "    outClass = 8\n",
        "  if (out > 192): \n",
        "    outClass = 9 \n",
        "  if (out > 240): \n",
        "    outClass = 10  \n",
        "  return list(utils.to_categorical(outClass, 11).astype('int'))\n",
        "\n",
        "\n",
        "def getAllParameters(val):\n",
        "  result = getParameterSexAge(val[0])\n",
        "  sex = result[0]  \n",
        "  age =getParameterAgeVect(result[1]) \n",
        "  city = getParameterCity(val[3]) \n",
        "  employment = getParameterEmployment(val[4]) \n",
        "  shedule = getParameterSchedule(val[5]) \n",
        "  education = getParameterEducation(val[9]) \n",
        "  experience = getParameterExperienceVector(val[6]) \n",
        "  out = []  \n",
        "  out.append(sex)\n",
        "  out += age\n",
        "  out += city\n",
        "  out += employment\n",
        "  out += shedule\n",
        "  out += education\n",
        "  out += experience  \n",
        "  return out\n",
        "\n",
        "\n",
        "def getAllData(values):\n",
        "  xTrain = []\n",
        "  yTrain = []\n",
        "  for val in values:\n",
        "    y = getParameterSalary(val[1])\n",
        "    x = getAllParameters(val)\n",
        "    xTrain.append(x)\n",
        "    yTrain.append(y/1000)  \n",
        "  xTrain = np.array(xTrain)\n",
        "  yTrain = np.array(yTrain)  \n",
        "  return (xTrain, yTrain)"
      ],
      "execution_count": null,
      "outputs": []
    },
    {
      "cell_type": "code",
      "metadata": {
        "id": "LNROFzXRe67M"
      },
      "source": [
        "(xTrain, yTrain) = getAllData(d)"
      ],
      "execution_count": null,
      "outputs": []
    },
    {
      "cell_type": "code",
      "metadata": {
        "colab": {
          "base_uri": "https://localhost:8080/"
        },
        "id": "uFAEi2hZ4mQ2",
        "outputId": "72ff4895-2490-4ff9-cb9c-09542126f79a"
      },
      "source": [
        "print(xTrain.shape, yTrain.shape)"
      ],
      "execution_count": null,
      "outputs": [
        {
          "output_type": "stream",
          "name": "stdout",
          "text": [
            "(1000, 39) (1000,)\n"
          ]
        }
      ]
    },
    {
      "cell_type": "code",
      "metadata": {
        "colab": {
          "base_uri": "https://localhost:8080/"
        },
        "id": "tc2afm9V6NKQ",
        "outputId": "0b96e2e8-a849-4904-8b01-c24fc3e86f69"
      },
      "source": [
        "print(xTrain[21])"
      ],
      "execution_count": null,
      "outputs": [
        {
          "output_type": "stream",
          "name": "stdout",
          "text": [
            "[1 0 0 0 0 0 0 1 0 0 0 0 1 0 0 0 0 0 0 1 0 1 0 0 1 0 0 0 0 0 0 0 0 0 0 0 0\n",
            " 1 0]\n"
          ]
        }
      ]
    },
    {
      "cell_type": "code",
      "metadata": {
        "id": "j2PCa5GQwFRr"
      },
      "source": [
        "X = torch.from_numpy(xTrain.astype(np.float32))\n",
        "y = torch.from_numpy(yTrain.astype(np.float32))\n",
        "y = y.view(y.shape[0], 1)"
      ],
      "execution_count": null,
      "outputs": []
    },
    {
      "cell_type": "code",
      "metadata": {
        "colab": {
          "base_uri": "https://localhost:8080/"
        },
        "id": "UynpajKj4Grw",
        "outputId": "52f83e14-5c63-44d1-c649-ca453715aab2"
      },
      "source": [
        "print(X.shape, y.shape)"
      ],
      "execution_count": null,
      "outputs": [
        {
          "output_type": "stream",
          "name": "stdout",
          "text": [
            "torch.Size([1000, 39]) torch.Size([1000, 1])\n"
          ]
        }
      ]
    },
    {
      "cell_type": "code",
      "metadata": {
        "id": "xOpG1aKGw66i"
      },
      "source": [
        "n_samples, n_features = X.shape\n",
        "input_size = n_features\n",
        "output_size = 1"
      ],
      "execution_count": null,
      "outputs": []
    },
    {
      "cell_type": "code",
      "metadata": {
        "id": "EpHLqNWjw8e1"
      },
      "source": [
        "model = nn.Linear(input_size, output_size)"
      ],
      "execution_count": null,
      "outputs": []
    },
    {
      "cell_type": "code",
      "metadata": {
        "id": "7uaoSOGZx-8O"
      },
      "source": [
        "criterion = nn.MSELoss()\n",
        "optimizer = torch.optim.SGD(model.parameters(), lr=0.01)"
      ],
      "execution_count": null,
      "outputs": []
    },
    {
      "cell_type": "code",
      "metadata": {
        "colab": {
          "base_uri": "https://localhost:8080/"
        },
        "id": "ZajDV1xVygsI",
        "outputId": "907bf11b-999a-4b23-92e3-2ff77f34e287"
      },
      "source": [
        "epochs = 1000\n",
        "for epoch in range(epochs):\n",
        "  y_predicted = model(X)\n",
        "  loss = criterion(y_predicted, y)\n",
        "\n",
        "  loss.backward()\n",
        "\n",
        "  optimizer.step()\n",
        "\n",
        "  optimizer.zero_grad()\n",
        "\n",
        "  if(epoch + 1) % 100 == 0:\n",
        "    print(f'epoch: {epoch + 1}, loss = {loss.item():.4f}')"
      ],
      "execution_count": null,
      "outputs": [
        {
          "output_type": "stream",
          "name": "stdout",
          "text": [
            "epoch: 100, loss = 2628.6602\n",
            "epoch: 200, loss = 2626.6580\n",
            "epoch: 300, loss = 2624.8333\n",
            "epoch: 400, loss = 2623.1555\n",
            "epoch: 500, loss = 2621.6038\n",
            "epoch: 600, loss = 2620.1597\n",
            "epoch: 700, loss = 2618.8101\n",
            "epoch: 800, loss = 2617.5442\n",
            "epoch: 900, loss = 2616.3533\n",
            "epoch: 1000, loss = 2615.2290\n"
          ]
        }
      ]
    },
    {
      "cell_type": "code",
      "metadata": {
        "colab": {
          "base_uri": "https://localhost:8080/",
          "height": 265
        },
        "id": "sstSG60K0yI8",
        "outputId": "b2b095d2-0002-423c-abe7-e02dbd2d5c44"
      },
      "source": [
        "predicted = model(X).detach().numpy()\n",
        "plt.plot(xTrain, yTrain, 'ro')\n",
        "plt.plot(xTrain, predicted, 'b')\n",
        "plt.show()"
      ],
      "execution_count": null,
      "outputs": [
        {
          "output_type": "display_data",
          "data": {
            "image/png": "[encoded data removed]",
            "text/plain": [
              "<Figure size 432x288 with 1 Axes>"
            ]
          },
          "metadata": {
            "needs_background": "light"
          }
        }
      ]
    },
    {
      "cell_type": "code",
      "metadata": {
        "colab": {
          "base_uri": "https://localhost:8080/"
        },
        "id": "vJAKYbl4_Dro",
        "outputId": "62780859-cfba-4560-d1e0-3f6dd4d74e72"
      },
      "source": [
        "pred = predicted.flatten()\n",
        "delta = pred - yTrain\n",
        "absDelta = abs(delta)\n",
        "print(sum(absDelta) / len(absDelta))"
      ],
      "execution_count": null,
      "outputs": [
        {
          "output_type": "stream",
          "name": "stdout",
          "text": [
            "36.13992623277664\n"
          ]
        }
      ]
    }
  ]
}