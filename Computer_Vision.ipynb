{
  "nbformat": 4,
  "nbformat_minor": 0,
  "metadata": {
    "colab": {
      "name": "Computer_Vision.ipynb",
      "provenance": [],
      "authorship_tag": "ABX9TyPSGQzDtk1RFr46MJ/fCD+Y",
      "include_colab_link": true
    },
    "kernelspec": {
      "name": "python3",
      "display_name": "Python 3"
    },
    "language_info": {
      "name": "python"
    }
  },
  "cells": [
    {
      "cell_type": "markdown",
      "metadata": {
        "id": "view-in-github",
        "colab_type": "text"
      },
      "source": [
        "<a href=\"https://colab.research.google.com/github/MarkAvilin1/DS-and-ML/blob/main/Computer_Vision.ipynb\" target=\"_parent\"><img src=\"https://colab.research.google.com/assets/colab-badge.svg\" alt=\"Open In Colab\"/></a>"
      ]
    },
    {
      "cell_type": "code",
      "execution_count": null,
      "metadata": {
        "id": "ceLvdNhBG_Yu"
      },
      "outputs": [],
      "source": [
        "# Importing the libraries\n",
        "import cv2\n",
        "import numpy as np\n",
        "import tensorflow as tf\n",
        "from keras.preprocessing import image\n",
        "from keras.models import save_model, load_model\n",
        "from keras.preprocessing.image import ImageDataGenerator"
      ]
    },
    {
      "cell_type": "code",
      "source": [
        "# Preprocessing the Training set\n",
        "train_datagen = ImageDataGenerator(rescale = 1./255,\n",
        "                                   shear_range = 0.2,\n",
        "                                   zoom_range = 0.2,\n",
        "                                   horizontal_flip = True)\n",
        "training_set = train_datagen.flow_from_directory('deirver/dataset/training_set',\n",
        "                                                 target_size = (128, 128),\n",
        "                                                 batch_size = 120,\n",
        "                                                 class_mode = 'binary')\n",
        "\n",
        "# Preprocessing the Test set\n",
        "test_datagen = ImageDataGenerator(rescale = 1./255)\n",
        "test_set = test_datagen.flow_from_directory('driver/dataset/test_set',\n",
        "                                            target_size = (128, 128),\n",
        "                                            batch_size = 120,\n",
        "                                            class_mode = 'binary')\n"
      ],
      "metadata": {
        "id": "uY8OWkS-HVUW"
      },
      "execution_count": null,
      "outputs": []
    },
    {
      "cell_type": "code",
      "source": [
        "# Building the CNN model\n",
        "model = tf.keras.models.Sequential()\n",
        "model.add(tf.keras.layers.Conv2D(filters=32, kernel_size=3, activation='relu', input_shape=[32, 32, 3]))\n",
        "model.add(tf.keras.layers.MaxPool2D(pool_size=2, strides=2))\n",
        "model.add(tf.keras.layers.Conv2D(filters=32, kernel_size=3, activation='relu'))\n",
        "model.add(tf.keras.layers.MaxPool2D(pool_size=2, strides=2))\n",
        "model.add(tf.keras.layers.Flatten())\n",
        "model.add(tf.keras.layers.Dense(units=64, activation='relu'))\n",
        "model.add(tf.keras.layers.Dense(units=1, activation='sigmoid'))"
      ],
      "metadata": {
        "id": "P0Ix5RGFIA6x"
      },
      "execution_count": null,
      "outputs": []
    },
    {
      "cell_type": "code",
      "source": [
        "# Compiling the CNN model\n",
        "model.compile(optimizer ='adam', loss='binary_crossentropy', metrics=['accuracy'])"
      ],
      "metadata": {
        "id": "ct1Km4UaIGlV"
      },
      "execution_count": null,
      "outputs": []
    },
    {
      "cell_type": "code",
      "source": [
        "# Training the CNN model on the Training set and evaluating it on the Test set\n",
        "model.fit(x=training_set, validation_data=test_set, epochs=1)"
      ],
      "metadata": {
        "id": "EV4myrkmIDPl"
      },
      "execution_count": null,
      "outputs": []
    },
    {
      "cell_type": "code",
      "source": [
        "# Save the model\n",
        "model.save_model('cnn_model.h5')"
      ],
      "metadata": {
        "id": "12pAfnc3Iy0W"
      },
      "execution_count": null,
      "outputs": []
    },
    {
      "cell_type": "code",
      "source": [
        "# Load the model\n",
        "cnn = load_model('cnn_model.h5')"
      ],
      "metadata": {
        "id": "xoIklVPmI6cL"
      },
      "execution_count": null,
      "outputs": []
    },
    {
      "cell_type": "code",
      "source": [
        "# Use openCV turn on the cam\n",
        "cap = cv2.VideoCapture(0)"
      ],
      "metadata": {
        "id": "ZgtxVEjSJQsy"
      },
      "execution_count": null,
      "outputs": []
    },
    {
      "cell_type": "code",
      "source": [
        "# Computer vision part\n",
        "while True:\n",
        "    ret, img = cap.read()\n",
        "    resized = cv2.resize(img, (128, 128)) \n",
        "    test_image = np.expand_dims(resized, axis = 0)\n",
        "    result = cnn.predict(test_image / 255.0)\n",
        "    training_set.class_indices\n",
        "    if result[0][0] > 0.5:\n",
        "        prediction = 'Get it!'\n",
        "    else:\n",
        "        prediction = 'Leave it!'\n",
        "\n",
        "    cv2.putText(img, prediction, (40,70), cv2.FONT_HERSHEY_SIMPLEX, 1, (0,255,255), 2)\n",
        "    cv2.imshow('test', img)\n",
        "\n",
        "    if cv2.waitKey(1) & 0xFF == 27:\n",
        "        break"
      ],
      "metadata": {
        "id": "L3qK94B0JjSb"
      },
      "execution_count": null,
      "outputs": []
    }
  ]
}