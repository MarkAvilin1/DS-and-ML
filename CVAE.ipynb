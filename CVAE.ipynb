{
  "nbformat": 4,
  "nbformat_minor": 0,
  "metadata": {
    "colab": {
      "name": "CVAE.ipynb",
      "provenance": [],
      "collapsed_sections": [],
      "authorship_tag": "ABX9TyMLDEiY8s36EVmCoK0HSLoQ",
      "include_colab_link": true
    },
    "kernelspec": {
      "name": "python3",
      "display_name": "Python 3"
    },
    "language_info": {
      "name": "python"
    },
    "accelerator": "GPU"
  },
  "cells": [
    {
      "cell_type": "markdown",
      "metadata": {
        "id": "view-in-github",
        "colab_type": "text"
      },
      "source": [
        "<a href=\"https://colab.research.google.com/github/MarkAvilin1/DS-and-ML/blob/main/CVAE.ipynb\" target=\"_parent\"><img src=\"https://colab.research.google.com/assets/colab-badge.svg\" alt=\"Open In Colab\"/></a>"
      ]
    },
    {
      "cell_type": "markdown",
      "metadata": {
        "id": "ULHsebxJMSqQ"
      },
      "source": [
        "#**Задание Ultra Pro**\n",
        "Модель генерации с помощью Conditional Variational AutoEncoder (CVAE)"
      ]
    },
    {
      "cell_type": "code",
      "metadata": {
        "id": "jqO9lcd7MR1T"
      },
      "source": [
        "from tensorflow.keras.datasets import mnist\n",
        "from tensorflow.keras.layers import Dense, Input, Lambda, Flatten, Reshape \n",
        "from tensorflow.keras.layers import Dropout, BatchNormalization, LeakyReLU, concatenate\n",
        "from tensorflow.keras.models import Model\n",
        "from tensorflow.keras.losses import binary_crossentropy\n",
        "from tensorflow.keras.optimizers import Adam\n",
        "from tensorflow.keras.callbacks import LambdaCallback\n",
        "from IPython.display import clear_output, Image\n",
        "from tensorflow.keras.utils import to_categorical\n",
        "import tensorflow.keras.backend as K\n",
        "import matplotlib.pyplot as plt\n",
        "import matplotlib.animation as animation\n",
        "import numpy as np\n",
        "%matplotlib inline"
      ],
      "execution_count": null,
      "outputs": []
    },
    {
      "cell_type": "code",
      "metadata": {
        "id": "yOb6dj-Doief",
        "colab": {
          "base_uri": "https://localhost:8080/"
        },
        "outputId": "2b0edf17-5225-46aa-bbc8-56fb3d9e92fc"
      },
      "source": [
        "(x_train, y_train), (x_test, y_test) = mnist.load_data() \n",
        "\n",
        "x_train = x_train/255 \n",
        "x_test  = x_test/255 \n",
        "\n",
        "\n",
        "x_train = np.expand_dims(x_train, axis=-1) \n",
        "x_test = np.expand_dims(x_test, axis=-1) \n",
        "\n",
        "y_test_int, y_train_int = y_test.copy(), y_train.copy()\n",
        "y_train = to_categorical(y_train, 10)\n",
        "y_test = to_categorical(y_test, 10)"
      ],
      "execution_count": null,
      "outputs": [
        {
          "output_type": "stream",
          "name": "stdout",
          "text": [
            "Downloading data from https://storage.googleapis.com/tensorflow/tf-keras-datasets/mnist.npz\n",
            "11493376/11490434 [==============================] - 0s 0us/step\n",
            "11501568/11490434 [==============================] - 0s 0us/step\n"
          ]
        }
      ]
    },
    {
      "cell_type": "code",
      "metadata": {
        "id": "T6DBl0j5oFZG"
      },
      "source": [
        "batch_size = 100 \n",
        "latent_dim = 20 \n",
        "dropout_rate = 0.3 \n",
        "start_lr = 0.0001 \n",
        "img_height = x_train.shape[1]\n",
        "img_width = x_train.shape[2] \n",
        "img_chanels = x_train.shape[3]\n",
        "latent_distrs = [] "
      ],
      "execution_count": null,
      "outputs": []
    },
    {
      "cell_type": "code",
      "metadata": {
        "id": "uG5PmFfM3jTN"
      },
      "source": [
        "def apply_bn_and_dropout(x):\n",
        "  x = Dropout(dropout_rate) (x) \n",
        "  x = BatchNormalization() (x) \n",
        "  return x\n",
        "\n",
        "\n",
        "def sampling(args): \n",
        "  z_mean, z_log_var = args \n",
        "  epsilon = K.random_normal(shape=(latent_dim,), mean=0., stddev=1.0)\n",
        "  sampling_layer = z_mean + K.exp(z_log_var / 2) * epsilon \n",
        "  return sampling_layer\n",
        "\n",
        "\n",
        "\n",
        "def vae_loss(x, decoded):  \n",
        "  kl_loss = -0.5 * K.sum(1.0 + z_log_var_model([x,num_elements]) - K.square(z_mean_model([x,num_elements])) - K.exp(z_log_var_model([x,num_elements])), axis=-1) # по формуле кульбака-лейблера устанавливаем ошибку\n",
        "\n",
        "  x = K.reshape(x, (-1, img_height*img_width)) \n",
        "  decoded = K.reshape(decoded, (-1, img_height*img_width)) \n",
        "  xent_loss = img_height*img_width*binary_crossentropy(x, decoded) \n",
        "\n",
        "  res = (xent_loss + kl_loss)/2.0/img_height/img_width \n",
        "  return res"
      ],
      "execution_count": null,
      "outputs": []
    },
    {
      "cell_type": "code",
      "metadata": {
        "id": "FQTVeD0y677q"
      },
      "source": [
        "epoch = 0\n",
        "num_elements = K.constant(y_train[batch_size*epoch:batch_size*(epoch+1)])"
      ],
      "execution_count": null,
      "outputs": []
    },
    {
      "cell_type": "code",
      "metadata": {
        "id": "Q6_62_4pXCAE"
      },
      "source": [
        "en_in = Input((img_height, img_width, img_chanels)) \n",
        "en = Flatten() (en_in) \n",
        "class_1 = Input(shape=(10))  \n",
        "en = concatenate([en, class_1])\n",
        "en = Dense(256, activation='relu') (en) \n",
        "en = Dense(128, activation='relu') (en) \n",
        "en = apply_bn_and_dropout(en) \n",
        "\n",
        "z_mean = Dense(latent_dim) (en) \n",
        "z_log_var = Dense(latent_dim) (en) \n",
        "\n",
        "l = Lambda(sampling, output_shape=(latent_dim,))([z_mean, z_log_var])  \n",
        "\n",
        "\n",
        "dec_in = Input(shape =(latent_dim,)) \n",
        "class_2 = Input(shape=(10,))\n",
        "dec = concatenate([dec_in, class_2])\n",
        "dec = Dense(128) (dec) \n",
        "dec = LeakyReLU()(dec) \n",
        "dec = apply_bn_and_dropout(dec) \n",
        "dec = Dense(256) (dec)\n",
        "dec = LeakyReLU()(dec) \n",
        "dec = apply_bn_and_dropout(dec) \n",
        "dec = Dense(img_height*img_width, activation='sigmoid') (dec) \n",
        "dec = Reshape((img_height, img_width, img_chanels)) (dec) \n",
        "\n",
        "encoder = Model([en_in, class_1], l)\n",
        "\n",
        "decoder = Model([dec_in, class_2], dec) \n",
        "\n",
        "z_mean_model = Model([en_in, class_1], z_mean)  \n",
        "\n",
        "z_log_var_model = Model([en_in, class_1], z_log_var)\n",
        "\n",
        "CVAE = Model([en_in, class_1, class_2], decoder([encoder([en_in, class_1]), class_2])) "
      ],
      "execution_count": null,
      "outputs": []
    },
    {
      "cell_type": "code",
      "metadata": {
        "id": "ZOFOYdRVXELO"
      },
      "source": [
        "CVAE.compile(loss=vae_loss, optimizer=Adam(start_lr))"
      ],
      "execution_count": null,
      "outputs": []
    },
    {
      "cell_type": "code",
      "metadata": {
        "colab": {
          "base_uri": "https://localhost:8080/"
        },
        "id": "n4n06L98XHGW",
        "outputId": "c7cd5f62-52ba-490c-ada2-81bef74b6e82"
      },
      "source": [
        "CVAE.fit([x_train, y_train, y_train], x_train, batch_size=batch_size, epochs=100, verbose=1)"
      ],
      "execution_count": null,
      "outputs": [
        {
          "output_type": "stream",
          "name": "stdout",
          "text": [
            "Epoch 1/100\n",
            "600/600 [==============================] - 9s 9ms/step - loss: 0.3053\n",
            "Epoch 2/100\n",
            "600/600 [==============================] - 5s 8ms/step - loss: 0.1523\n",
            "Epoch 3/100\n",
            "600/600 [==============================] - 5s 9ms/step - loss: 0.1124\n",
            "Epoch 4/100\n",
            "600/600 [==============================] - 5s 9ms/step - loss: 0.1032\n",
            "Epoch 5/100\n",
            "600/600 [==============================] - 5s 8ms/step - loss: 0.0991\n",
            "Epoch 6/100\n",
            "600/600 [==============================] - 5s 8ms/step - loss: 0.0963\n",
            "Epoch 7/100\n",
            "600/600 [==============================] - 5s 9ms/step - loss: 0.0941\n",
            "Epoch 8/100\n",
            "600/600 [==============================] - 5s 9ms/step - loss: 0.0924\n",
            "Epoch 9/100\n",
            "600/600 [==============================] - 5s 8ms/step - loss: 0.0908\n",
            "Epoch 10/100\n",
            "600/600 [==============================] - 5s 9ms/step - loss: 0.0896\n",
            "Epoch 11/100\n",
            "600/600 [==============================] - 5s 9ms/step - loss: 0.0884\n",
            "Epoch 12/100\n",
            "600/600 [==============================] - 5s 8ms/step - loss: 0.0873\n",
            "Epoch 13/100\n",
            "600/600 [==============================] - 5s 9ms/step - loss: 0.0864\n",
            "Epoch 14/100\n",
            "600/600 [==============================] - 5s 9ms/step - loss: 0.0854\n",
            "Epoch 15/100\n",
            "600/600 [==============================] - 5s 9ms/step - loss: 0.0846\n",
            "Epoch 16/100\n",
            "600/600 [==============================] - 5s 9ms/step - loss: 0.0839\n",
            "Epoch 17/100\n",
            "600/600 [==============================] - 5s 9ms/step - loss: 0.0832\n",
            "Epoch 18/100\n",
            "600/600 [==============================] - 5s 9ms/step - loss: 0.0826\n",
            "Epoch 19/100\n",
            "600/600 [==============================] - 5s 8ms/step - loss: 0.0820\n",
            "Epoch 20/100\n",
            "600/600 [==============================] - 5s 8ms/step - loss: 0.0814\n",
            "Epoch 21/100\n",
            "600/600 [==============================] - 5s 8ms/step - loss: 0.0809\n",
            "Epoch 22/100\n",
            "600/600 [==============================] - 5s 8ms/step - loss: 0.0803\n",
            "Epoch 23/100\n",
            "600/600 [==============================] - 5s 8ms/step - loss: 0.0798\n",
            "Epoch 24/100\n",
            "600/600 [==============================] - 5s 8ms/step - loss: 0.0793\n",
            "Epoch 25/100\n",
            "600/600 [==============================] - 5s 8ms/step - loss: 0.0789\n",
            "Epoch 26/100\n",
            "600/600 [==============================] - 5s 8ms/step - loss: 0.0784\n",
            "Epoch 27/100\n",
            "600/600 [==============================] - 5s 8ms/step - loss: 0.0780\n",
            "Epoch 28/100\n",
            "600/600 [==============================] - 5s 8ms/step - loss: 0.0777\n",
            "Epoch 29/100\n",
            "600/600 [==============================] - 5s 8ms/step - loss: 0.0774\n",
            "Epoch 30/100\n",
            "600/600 [==============================] - 5s 9ms/step - loss: 0.0771\n",
            "Epoch 31/100\n",
            "600/600 [==============================] - 5s 8ms/step - loss: 0.0767\n",
            "Epoch 32/100\n",
            "600/600 [==============================] - 5s 8ms/step - loss: 0.0765\n",
            "Epoch 33/100\n",
            "600/600 [==============================] - 5s 8ms/step - loss: 0.0763\n",
            "Epoch 34/100\n",
            "600/600 [==============================] - 5s 9ms/step - loss: 0.0760\n",
            "Epoch 35/100\n",
            "600/600 [==============================] - 5s 9ms/step - loss: 0.0758\n",
            "Epoch 36/100\n",
            "600/600 [==============================] - 5s 8ms/step - loss: 0.0756\n",
            "Epoch 37/100\n",
            "600/600 [==============================] - 5s 8ms/step - loss: 0.0754\n",
            "Epoch 38/100\n",
            "600/600 [==============================] - 5s 9ms/step - loss: 0.0753\n",
            "Epoch 39/100\n",
            "600/600 [==============================] - 5s 8ms/step - loss: 0.0751\n",
            "Epoch 40/100\n",
            "600/600 [==============================] - 5s 9ms/step - loss: 0.0749\n",
            "Epoch 41/100\n",
            "600/600 [==============================] - 5s 9ms/step - loss: 0.0748\n",
            "Epoch 42/100\n",
            "600/600 [==============================] - 5s 9ms/step - loss: 0.0746\n",
            "Epoch 43/100\n",
            "600/600 [==============================] - 5s 9ms/step - loss: 0.0745\n",
            "Epoch 44/100\n",
            "600/600 [==============================] - 5s 8ms/step - loss: 0.0744\n",
            "Epoch 45/100\n",
            "600/600 [==============================] - 5s 9ms/step - loss: 0.0743\n",
            "Epoch 46/100\n",
            "600/600 [==============================] - 5s 8ms/step - loss: 0.0742\n",
            "Epoch 47/100\n",
            "600/600 [==============================] - 5s 8ms/step - loss: 0.0740\n",
            "Epoch 48/100\n",
            "600/600 [==============================] - 5s 8ms/step - loss: 0.0739\n",
            "Epoch 49/100\n",
            "600/600 [==============================] - 5s 8ms/step - loss: 0.0738\n",
            "Epoch 50/100\n",
            "600/600 [==============================] - 5s 8ms/step - loss: 0.0737\n",
            "Epoch 51/100\n",
            "600/600 [==============================] - 5s 8ms/step - loss: 0.0735\n",
            "Epoch 52/100\n",
            "600/600 [==============================] - 5s 8ms/step - loss: 0.0734\n",
            "Epoch 53/100\n",
            "600/600 [==============================] - 5s 8ms/step - loss: 0.0734\n",
            "Epoch 54/100\n",
            "600/600 [==============================] - 5s 8ms/step - loss: 0.0733\n",
            "Epoch 55/100\n",
            "600/600 [==============================] - 5s 8ms/step - loss: 0.0731\n",
            "Epoch 56/100\n",
            "600/600 [==============================] - 5s 8ms/step - loss: 0.0730\n",
            "Epoch 57/100\n",
            "600/600 [==============================] - 5s 8ms/step - loss: 0.0729\n",
            "Epoch 58/100\n",
            "600/600 [==============================] - 5s 8ms/step - loss: 0.0729\n",
            "Epoch 59/100\n",
            "600/600 [==============================] - 5s 8ms/step - loss: 0.0728\n",
            "Epoch 60/100\n",
            "600/600 [==============================] - 5s 9ms/step - loss: 0.0727\n",
            "Epoch 61/100\n",
            "600/600 [==============================] - 5s 8ms/step - loss: 0.0726\n",
            "Epoch 62/100\n",
            "600/600 [==============================] - 5s 8ms/step - loss: 0.0725\n",
            "Epoch 63/100\n",
            "600/600 [==============================] - 5s 9ms/step - loss: 0.0725\n",
            "Epoch 64/100\n",
            "600/600 [==============================] - 5s 8ms/step - loss: 0.0723\n",
            "Epoch 65/100\n",
            "600/600 [==============================] - 5s 9ms/step - loss: 0.0722\n",
            "Epoch 66/100\n",
            "600/600 [==============================] - 5s 8ms/step - loss: 0.0721\n",
            "Epoch 67/100\n",
            "600/600 [==============================] - 5s 9ms/step - loss: 0.0721\n",
            "Epoch 68/100\n",
            "600/600 [==============================] - 5s 8ms/step - loss: 0.0721\n",
            "Epoch 69/100\n",
            "600/600 [==============================] - 5s 9ms/step - loss: 0.0719\n",
            "Epoch 70/100\n",
            "600/600 [==============================] - 5s 8ms/step - loss: 0.0719\n",
            "Epoch 71/100\n",
            "600/600 [==============================] - 5s 8ms/step - loss: 0.0719\n",
            "Epoch 72/100\n",
            "600/600 [==============================] - 5s 8ms/step - loss: 0.0718\n",
            "Epoch 73/100\n",
            "600/600 [==============================] - 5s 8ms/step - loss: 0.0718\n",
            "Epoch 74/100\n",
            "600/600 [==============================] - 5s 9ms/step - loss: 0.0717\n",
            "Epoch 75/100\n",
            "600/600 [==============================] - 5s 8ms/step - loss: 0.0716\n",
            "Epoch 76/100\n",
            "600/600 [==============================] - 5s 8ms/step - loss: 0.0716\n",
            "Epoch 77/100\n",
            "600/600 [==============================] - 5s 8ms/step - loss: 0.0715\n",
            "Epoch 78/100\n",
            "600/600 [==============================] - 5s 8ms/step - loss: 0.0715\n",
            "Epoch 79/100\n",
            "600/600 [==============================] - 5s 8ms/step - loss: 0.0715\n",
            "Epoch 80/100\n",
            "600/600 [==============================] - 5s 8ms/step - loss: 0.0714\n",
            "Epoch 81/100\n",
            "600/600 [==============================] - 5s 8ms/step - loss: 0.0713\n",
            "Epoch 82/100\n",
            "600/600 [==============================] - 5s 8ms/step - loss: 0.0713\n",
            "Epoch 83/100\n",
            "600/600 [==============================] - 5s 8ms/step - loss: 0.0712\n",
            "Epoch 84/100\n",
            "600/600 [==============================] - 5s 8ms/step - loss: 0.0711\n",
            "Epoch 85/100\n",
            "600/600 [==============================] - 5s 8ms/step - loss: 0.0710\n",
            "Epoch 86/100\n",
            "600/600 [==============================] - 5s 8ms/step - loss: 0.0711\n",
            "Epoch 87/100\n",
            "600/600 [==============================] - 5s 9ms/step - loss: 0.0710\n",
            "Epoch 88/100\n",
            "600/600 [==============================] - 5s 9ms/step - loss: 0.0710\n",
            "Epoch 89/100\n",
            "600/600 [==============================] - 5s 8ms/step - loss: 0.0710\n",
            "Epoch 90/100\n",
            "600/600 [==============================] - 5s 8ms/step - loss: 0.0709\n",
            "Epoch 91/100\n",
            "600/600 [==============================] - 5s 9ms/step - loss: 0.0709\n",
            "Epoch 92/100\n",
            "600/600 [==============================] - 5s 9ms/step - loss: 0.0709\n",
            "Epoch 93/100\n",
            "600/600 [==============================] - 5s 9ms/step - loss: 0.0708\n",
            "Epoch 94/100\n",
            "600/600 [==============================] - 5s 8ms/step - loss: 0.0707\n",
            "Epoch 95/100\n",
            "600/600 [==============================] - 5s 8ms/step - loss: 0.0708\n",
            "Epoch 96/100\n",
            "600/600 [==============================] - 5s 8ms/step - loss: 0.0706\n",
            "Epoch 97/100\n",
            "600/600 [==============================] - 5s 8ms/step - loss: 0.0707\n",
            "Epoch 98/100\n",
            "600/600 [==============================] - 5s 8ms/step - loss: 0.0706\n",
            "Epoch 99/100\n",
            "600/600 [==============================] - 5s 8ms/step - loss: 0.0707\n",
            "Epoch 100/100\n",
            "600/600 [==============================] - 5s 8ms/step - loss: 0.0706\n"
          ]
        },
        {
          "output_type": "execute_result",
          "data": {
            "text/plain": [
              "<keras.callbacks.History at 0x7fa5e37df310>"
            ]
          },
          "metadata": {},
          "execution_count": 16
        }
      ]
    },
    {
      "cell_type": "code",
      "metadata": {
        "colab": {
          "base_uri": "https://localhost:8080/",
          "height": 238
        },
        "id": "RZP8WJIv5ccv",
        "outputId": "741c59ac-b07f-4fc4-e7ac-0ad39daeb002"
      },
      "source": [
        "real_img = x_test[:10] \n",
        "real_img_nums = y_test[:10] \n",
        "pred_img = CVAE.predict([real_img, real_img_nums, real_img_nums]) \n",
        "\n",
        "real_img_concat = np.concatenate([i for i in real_img[:,:,:,0]], axis=1) \n",
        "pred_img_concat = np.concatenate([i for i in pred_img[:,:,:,0]], axis=1) \n",
        "plot_img = np.concatenate((real_img_concat, pred_img_concat), axis=0) \n",
        "latent_distrs.append(plot_img) \n",
        "\n",
        "plt.figure(figsize=(2*img_height, 2*len(real_img)), dpi=25) \n",
        "plt.imshow(plot_img, cmap='Greys_r') \n",
        "plt.grid(False) \n",
        "plt.axis('off') \n",
        "plt.show() "
      ],
      "execution_count": null,
      "outputs": [
        {
          "output_type": "display_data",
          "data": {
            "image/png": "[encoded data removed]",
            "text/plain": [
              "<Figure size 1400x500 with 1 Axes>"
            ]
          },
          "metadata": {
            "needs_background": "light"
          }
        }
      ]
    }
  ]
}