{
  "nbformat": 4,
  "nbformat_minor": 0,
  "metadata": {
    "colab": {
      "name": "autoencoder.ipynb",
      "provenance": [],
      "collapsed_sections": [],
      "authorship_tag": "ABX9TyMDE6bLdOYRHEpM44OhjiPp",
      "include_colab_link": true
    },
    "kernelspec": {
      "name": "python3",
      "display_name": "Python 3"
    },
    "language_info": {
      "name": "python"
    },
    "accelerator": "GPU"
  },
  "cells": [
    {
      "cell_type": "markdown",
      "metadata": {
        "id": "view-in-github",
        "colab_type": "text"
      },
      "source": [
        "<a href=\"https://colab.research.google.com/github/MarkAvilin1/DS-and-ML/blob/main/autoencoder.ipynb\" target=\"_parent\"><img src=\"https://colab.research.google.com/assets/colab-badge.svg\" alt=\"Open In Colab\"/></a>"
      ]
    },
    {
      "cell_type": "markdown",
      "metadata": {
        "id": "wRNUNvg--7Wo"
      },
      "source": [
        "#**Задание Ultra pro**\n",
        "модель для восстановления фотографии."
      ]
    },
    {
      "cell_type": "code",
      "metadata": {
        "id": "AQXf462tFhvK"
      },
      "source": [
        "from tensorflow.keras.layers import Dense, Flatten, Reshape, Input, Conv2DTranspose, concatenate, Activation, MaxPooling2D, Conv2D, BatchNormalization\n",
        "from tensorflow.keras.datasets import mnist, fashion_mnist, cifar10\n",
        "from tensorflow.keras.models import Model, Sequential\n",
        "import matplotlib.pyplot as plt\n",
        "from random import randint\n",
        "import tensorflow as tf\n",
        "import numpy as np"
      ],
      "execution_count": null,
      "outputs": []
    },
    {
      "cell_type": "code",
      "metadata": {
        "id": "M9ypxlwlFpGB"
      },
      "source": [
        "(x_train, y_train), (x_test, y_test) = fashion_mnist.load_data()"
      ],
      "execution_count": null,
      "outputs": []
    },
    {
      "cell_type": "code",
      "metadata": {
        "colab": {
          "base_uri": "https://localhost:8080/",
          "height": 316
        },
        "id": "RPiKHqm7FryO",
        "outputId": "45b7c7f4-02a1-4c3d-c02d-977dbbbe3818"
      },
      "source": [
        "x_train = x_train.astype('float32') / 255\n",
        "x_train = x_train.reshape(-1, 28, 28, 1)\n",
        "x_test = x_test.astype('float32') / 255\n",
        "x_test = x_test.reshape(-1, 28, 28, 1)\n",
        "\n",
        "plt.imshow(x_train[190].reshape(28, 28), cmap='gray')\n",
        "print(x_train.shape)\n",
        "print(x_test.shape)\n",
        "print(x_train[0].shape)"
      ],
      "execution_count": null,
      "outputs": [
        {
          "output_type": "stream",
          "text": [
            "(60000, 28, 28, 1)\n",
            "(10000, 28, 28, 1)\n",
            "(28, 28, 1)\n"
          ],
          "name": "stdout"
        },
        {
          "output_type": "display_data",
          "data": {
            "image/png": "[encoded data removed]",
            "text/plain": [
              "<Figure size 432x288 with 1 Axes>"
            ]
          },
          "metadata": {
            "needs_background": "light"
          }
        }
      ]
    },
    {
      "cell_type": "code",
      "metadata": {
        "colab": {
          "base_uri": "https://localhost:8080/",
          "height": 282
        },
        "id": "oiG9O4PgON_U",
        "outputId": "acad27f3-3caf-4e71-a5d6-a535816ab202"
      },
      "source": [
        "def add_noise(giving_img):\n",
        "    img = np.copy(giving_img)\n",
        "    pix = img.shape[0]     \n",
        "    number_of_pixels = randint(0 , 1000)\n",
        "    x = randint(0, 5)\n",
        "    noise = np.zeros([x, x, 3], dtype=np.uint8)\n",
        "    for i in range(int(number_of_pixels / randint(1, 4))):\n",
        "        y_coord= randint(0, pix - 1)\n",
        "        x_coord= randint(0, pix - 1)\n",
        "        img[y_coord][x_coord] = 0\n",
        "          \n",
        "    return img\n",
        "\n",
        "noisy = add_noise(x_train[190])\n",
        "plt.imshow(noisy.reshape((28, 28)), cmap='gray')"
      ],
      "execution_count": null,
      "outputs": [
        {
          "output_type": "execute_result",
          "data": {
            "text/plain": [
              "<matplotlib.image.AxesImage at 0x7fb9600f6a50>"
            ]
          },
          "metadata": {},
          "execution_count": 37
        },
        {
          "output_type": "display_data",
          "data": {
            "image/png": "[encoded data removed]",
            "text/plain": [
              "<Figure size 432x288 with 1 Axes>"
            ]
          },
          "metadata": {
            "needs_background": "light"
          }
        }
      ]
    },
    {
      "cell_type": "code",
      "metadata": {
        "id": "2S1Q6KH9kO6v"
      },
      "source": [
        "def plotImages(noisy, pred, shape=(28, 28)):\n",
        "  n = 5  \n",
        "  plt.figure(figsize=(10, 5)) \n",
        "  for i in range(n): \n",
        "      index = np.random.randint(0, pred.shape[0])\n",
        "\n",
        "      ax = plt.subplot(2, n, i + 1) \n",
        "      plt.imshow(noisy[index].reshape(shape))      \n",
        "      plt.gray() \n",
        "      ax.get_xaxis().set_visible(False) \n",
        "      ax.get_yaxis().set_visible(False)\n",
        "\n",
        "      ax = plt.subplot(2, n, i + 1 + n)\n",
        "      plt.imshow(pred[index].reshape(shape))   \n",
        "      plt.gray() \n",
        "      ax.get_xaxis().set_visible(False) \n",
        "      ax.get_yaxis().set_visible(False) \n",
        "  plt.show()\n",
        "\n",
        "\n",
        "def dataset(xTrain, xTest):\n",
        "  train, test = [], []\n",
        "  for i in xTrain:\n",
        "    train.append(add_noise(i))\n",
        "  for i in xTest:\n",
        "    test.append(add_noise(i))\n",
        "  train = np.array(train).astype('float32')\n",
        "  train = train.reshape(-1, 28, 28, 1)\n",
        "  test = np.array(test).astype('float32')\n",
        "  test = test.reshape(-1, 28, 28, 1)\n",
        "  return train, test\n"
      ],
      "execution_count": null,
      "outputs": []
    },
    {
      "cell_type": "code",
      "metadata": {
        "id": "Fi8EXCLZzybm"
      },
      "source": [
        "xTrain, xTest = dataset(x_train, x_test)"
      ],
      "execution_count": null,
      "outputs": []
    },
    {
      "cell_type": "code",
      "metadata": {
        "id": "1iIF4OytrbZy",
        "colab": {
          "base_uri": "https://localhost:8080/",
          "height": 299
        },
        "outputId": "4bcb240e-5a45-4a7e-8f14-ffaf103fe1af"
      },
      "source": [
        "plt.imshow(xTrain[3].reshape((28, 28)), cmap='gray')\n",
        "print(f\"xTrain => {xTrain.shape} \\n xTest => {xTest.shape}\")"
      ],
      "execution_count": null,
      "outputs": [
        {
          "output_type": "stream",
          "text": [
            "xTrain => (60000, 28, 28, 1) \n",
            " xTest => (10000, 28, 28, 1)\n"
          ],
          "name": "stdout"
        },
        {
          "output_type": "display_data",
          "data": {
            "image/png": "[encoded data removed]",
            "text/plain": [
              "<Figure size 432x288 with 1 Axes>"
            ]
          },
          "metadata": {
            "needs_background": "light"
          }
        }
      ]
    },
    {
      "cell_type": "code",
      "metadata": {
        "id": "FDi6egadhnuN"
      },
      "source": [
        "def denoiseAutoencoder(): \n",
        "    img_input = Input((28,28,1)) \n",
        "    x = Conv2D(28, (3, 3), strides=2, activation='relu', padding='same')(img_input)\n",
        "    x = Conv2D(56, (3, 3), strides=2, activation='relu', padding='same')(x)\n",
        "    x = Flatten()(x) \n",
        "    z = Dense(56, activation='relu')(x) \n",
        "    x = Dense(5*5*56, activation='relu')(z) \n",
        "    x = Reshape((5,5,56))(x) \n",
        "    x = Conv2DTranspose(56, (3, 3), strides=2, padding='same')(x) \n",
        "    x = Conv2DTranspose(28, (3, 3), strides=2, padding='same')(x) \n",
        "    x = Conv2D(1, (3, 3), activation='sigmoid', padding='same')(x)\n",
        "    x = Flatten()(x)\n",
        "    x = Dense(28*28*1, activation='relu')(x)\n",
        "    x = Reshape((28,28,1))(x)\n",
        "\n",
        "    model = Model(img_input, x)\n",
        "    model.compile(optimizer='adam', loss='mse') \n",
        "\n",
        "    return model"
      ],
      "execution_count": null,
      "outputs": []
    },
    {
      "cell_type": "code",
      "metadata": {
        "id": "a-3x1sL4ioSw"
      },
      "source": [
        "modelDenoise = denoiseAutoencoder()"
      ],
      "execution_count": null,
      "outputs": []
    },
    {
      "cell_type": "code",
      "metadata": {
        "colab": {
          "base_uri": "https://localhost:8080/"
        },
        "id": "oHzSATqki5z1",
        "outputId": "6a6695e5-bedc-494d-b197-878f6e86521b"
      },
      "source": [
        "history = modelDenoise.fit(xTrain, x_train, epochs=100, batch_size=100, validation_data = (xTest, x_test))"
      ],
      "execution_count": null,
      "outputs": [
        {
          "output_type": "stream",
          "text": [
            "Epoch 1/100\n",
            "600/600 [==============================] - 6s 10ms/step - loss: 0.0117 - val_loss: 0.0125\n",
            "Epoch 2/100\n",
            "600/600 [==============================] - 6s 10ms/step - loss: 0.0117 - val_loss: 0.0125\n",
            "Epoch 3/100\n",
            "600/600 [==============================] - 6s 10ms/step - loss: 0.0117 - val_loss: 0.0125\n",
            "Epoch 4/100\n",
            "600/600 [==============================] - 6s 10ms/step - loss: 0.0117 - val_loss: 0.0125\n",
            "Epoch 5/100\n",
            "600/600 [==============================] - 6s 10ms/step - loss: 0.0117 - val_loss: 0.0125\n",
            "Epoch 6/100\n",
            "600/600 [==============================] - 6s 10ms/step - loss: 0.0116 - val_loss: 0.0125\n",
            "Epoch 7/100\n",
            "600/600 [==============================] - 6s 10ms/step - loss: 0.0116 - val_loss: 0.0125\n",
            "Epoch 8/100\n",
            "600/600 [==============================] - 6s 10ms/step - loss: 0.0116 - val_loss: 0.0125\n",
            "Epoch 9/100\n",
            "600/600 [==============================] - 6s 10ms/step - loss: 0.0116 - val_loss: 0.0124\n",
            "Epoch 10/100\n",
            "600/600 [==============================] - 6s 11ms/step - loss: 0.0116 - val_loss: 0.0125\n",
            "Epoch 11/100\n",
            "600/600 [==============================] - 6s 10ms/step - loss: 0.0116 - val_loss: 0.0125\n",
            "Epoch 12/100\n",
            "600/600 [==============================] - 6s 10ms/step - loss: 0.0116 - val_loss: 0.0125\n",
            "Epoch 13/100\n",
            "600/600 [==============================] - 6s 10ms/step - loss: 0.0116 - val_loss: 0.0124\n",
            "Epoch 14/100\n",
            "600/600 [==============================] - 6s 10ms/step - loss: 0.0116 - val_loss: 0.0124\n",
            "Epoch 15/100\n",
            "600/600 [==============================] - 6s 10ms/step - loss: 0.0116 - val_loss: 0.0125\n",
            "Epoch 16/100\n",
            "600/600 [==============================] - 6s 10ms/step - loss: 0.0116 - val_loss: 0.0125\n",
            "Epoch 17/100\n",
            "600/600 [==============================] - 6s 10ms/step - loss: 0.0116 - val_loss: 0.0125\n",
            "Epoch 18/100\n",
            "600/600 [==============================] - 6s 10ms/step - loss: 0.0116 - val_loss: 0.0124\n",
            "Epoch 19/100\n",
            "600/600 [==============================] - 6s 10ms/step - loss: 0.0116 - val_loss: 0.0125\n",
            "Epoch 20/100\n",
            "600/600 [==============================] - 6s 10ms/step - loss: 0.0116 - val_loss: 0.0124\n",
            "Epoch 21/100\n",
            "600/600 [==============================] - 6s 10ms/step - loss: 0.0116 - val_loss: 0.0124\n",
            "Epoch 22/100\n",
            "600/600 [==============================] - 6s 10ms/step - loss: 0.0116 - val_loss: 0.0125\n",
            "Epoch 23/100\n",
            "600/600 [==============================] - 6s 10ms/step - loss: 0.0116 - val_loss: 0.0124\n",
            "Epoch 24/100\n",
            "600/600 [==============================] - 6s 10ms/step - loss: 0.0116 - val_loss: 0.0125\n",
            "Epoch 25/100\n",
            "600/600 [==============================] - 6s 10ms/step - loss: 0.0116 - val_loss: 0.0124\n",
            "Epoch 26/100\n",
            "600/600 [==============================] - 6s 10ms/step - loss: 0.0116 - val_loss: 0.0124\n",
            "Epoch 27/100\n",
            "600/600 [==============================] - 6s 10ms/step - loss: 0.0116 - val_loss: 0.0124\n",
            "Epoch 28/100\n",
            "600/600 [==============================] - 6s 10ms/step - loss: 0.0115 - val_loss: 0.0124\n",
            "Epoch 29/100\n",
            "600/600 [==============================] - 6s 10ms/step - loss: 0.0115 - val_loss: 0.0124\n",
            "Epoch 30/100\n",
            "600/600 [==============================] - 6s 10ms/step - loss: 0.0115 - val_loss: 0.0124\n",
            "Epoch 31/100\n",
            "600/600 [==============================] - 6s 10ms/step - loss: 0.0115 - val_loss: 0.0124\n",
            "Epoch 32/100\n",
            "600/600 [==============================] - 6s 10ms/step - loss: 0.0115 - val_loss: 0.0124\n",
            "Epoch 33/100\n",
            "600/600 [==============================] - 6s 10ms/step - loss: 0.0115 - val_loss: 0.0124\n",
            "Epoch 34/100\n",
            "600/600 [==============================] - 6s 10ms/step - loss: 0.0115 - val_loss: 0.0124\n",
            "Epoch 35/100\n",
            "600/600 [==============================] - 6s 10ms/step - loss: 0.0115 - val_loss: 0.0124\n",
            "Epoch 36/100\n",
            "600/600 [==============================] - 6s 10ms/step - loss: 0.0115 - val_loss: 0.0124\n",
            "Epoch 37/100\n",
            "600/600 [==============================] - 6s 10ms/step - loss: 0.0115 - val_loss: 0.0124\n",
            "Epoch 38/100\n",
            "600/600 [==============================] - 6s 10ms/step - loss: 0.0115 - val_loss: 0.0124\n",
            "Epoch 39/100\n",
            "600/600 [==============================] - 6s 10ms/step - loss: 0.0115 - val_loss: 0.0124\n",
            "Epoch 40/100\n",
            "600/600 [==============================] - 6s 10ms/step - loss: 0.0115 - val_loss: 0.0124\n",
            "Epoch 41/100\n",
            "600/600 [==============================] - 6s 10ms/step - loss: 0.0115 - val_loss: 0.0124\n",
            "Epoch 42/100\n",
            "600/600 [==============================] - 6s 10ms/step - loss: 0.0115 - val_loss: 0.0124\n",
            "Epoch 43/100\n",
            "600/600 [==============================] - 6s 10ms/step - loss: 0.0115 - val_loss: 0.0124\n",
            "Epoch 44/100\n",
            "600/600 [==============================] - 6s 10ms/step - loss: 0.0115 - val_loss: 0.0124\n",
            "Epoch 45/100\n",
            "600/600 [==============================] - 6s 10ms/step - loss: 0.0115 - val_loss: 0.0124\n",
            "Epoch 46/100\n",
            "600/600 [==============================] - 6s 10ms/step - loss: 0.0115 - val_loss: 0.0124\n",
            "Epoch 47/100\n",
            "600/600 [==============================] - 6s 10ms/step - loss: 0.0115 - val_loss: 0.0124\n",
            "Epoch 48/100\n",
            "600/600 [==============================] - 6s 10ms/step - loss: 0.0115 - val_loss: 0.0123\n",
            "Epoch 49/100\n",
            "600/600 [==============================] - 6s 10ms/step - loss: 0.0115 - val_loss: 0.0123\n",
            "Epoch 50/100\n",
            "600/600 [==============================] - 6s 10ms/step - loss: 0.0115 - val_loss: 0.0124\n",
            "Epoch 51/100\n",
            "600/600 [==============================] - 6s 10ms/step - loss: 0.0115 - val_loss: 0.0123\n",
            "Epoch 52/100\n",
            "600/600 [==============================] - 6s 10ms/step - loss: 0.0115 - val_loss: 0.0124\n",
            "Epoch 53/100\n",
            "600/600 [==============================] - 6s 10ms/step - loss: 0.0115 - val_loss: 0.0124\n",
            "Epoch 54/100\n",
            "600/600 [==============================] - 6s 10ms/step - loss: 0.0115 - val_loss: 0.0124\n",
            "Epoch 55/100\n",
            "600/600 [==============================] - 6s 10ms/step - loss: 0.0115 - val_loss: 0.0124\n",
            "Epoch 56/100\n",
            "600/600 [==============================] - 6s 10ms/step - loss: 0.0115 - val_loss: 0.0124\n",
            "Epoch 57/100\n",
            "600/600 [==============================] - 6s 10ms/step - loss: 0.0114 - val_loss: 0.0124\n",
            "Epoch 58/100\n",
            "600/600 [==============================] - 6s 10ms/step - loss: 0.0114 - val_loss: 0.0124\n",
            "Epoch 59/100\n",
            "600/600 [==============================] - 6s 10ms/step - loss: 0.0114 - val_loss: 0.0124\n",
            "Epoch 60/100\n",
            "600/600 [==============================] - 6s 10ms/step - loss: 0.0114 - val_loss: 0.0123\n",
            "Epoch 61/100\n",
            "600/600 [==============================] - 6s 10ms/step - loss: 0.0115 - val_loss: 0.0124\n",
            "Epoch 62/100\n",
            "600/600 [==============================] - 6s 10ms/step - loss: 0.0114 - val_loss: 0.0124\n",
            "Epoch 63/100\n",
            "600/600 [==============================] - 6s 10ms/step - loss: 0.0114 - val_loss: 0.0123\n",
            "Epoch 64/100\n",
            "600/600 [==============================] - 6s 10ms/step - loss: 0.0114 - val_loss: 0.0124\n",
            "Epoch 65/100\n",
            "600/600 [==============================] - 6s 10ms/step - loss: 0.0114 - val_loss: 0.0124\n",
            "Epoch 66/100\n",
            "600/600 [==============================] - 6s 10ms/step - loss: 0.0114 - val_loss: 0.0123\n",
            "Epoch 67/100\n",
            "600/600 [==============================] - 6s 10ms/step - loss: 0.0114 - val_loss: 0.0123\n",
            "Epoch 68/100\n",
            "600/600 [==============================] - 6s 10ms/step - loss: 0.0114 - val_loss: 0.0123\n",
            "Epoch 69/100\n",
            "600/600 [==============================] - 6s 10ms/step - loss: 0.0114 - val_loss: 0.0124\n",
            "Epoch 70/100\n",
            "600/600 [==============================] - 6s 10ms/step - loss: 0.0114 - val_loss: 0.0124\n",
            "Epoch 71/100\n",
            "600/600 [==============================] - 6s 10ms/step - loss: 0.0114 - val_loss: 0.0124\n",
            "Epoch 72/100\n",
            "600/600 [==============================] - 6s 10ms/step - loss: 0.0114 - val_loss: 0.0123\n",
            "Epoch 73/100\n",
            "600/600 [==============================] - 6s 10ms/step - loss: 0.0114 - val_loss: 0.0124\n",
            "Epoch 74/100\n",
            "600/600 [==============================] - 6s 10ms/step - loss: 0.0114 - val_loss: 0.0123\n",
            "Epoch 75/100\n",
            "600/600 [==============================] - 6s 10ms/step - loss: 0.0114 - val_loss: 0.0123\n",
            "Epoch 76/100\n",
            "600/600 [==============================] - 6s 10ms/step - loss: 0.0114 - val_loss: 0.0124\n",
            "Epoch 77/100\n",
            "600/600 [==============================] - 6s 10ms/step - loss: 0.0114 - val_loss: 0.0124\n",
            "Epoch 78/100\n",
            "600/600 [==============================] - 6s 10ms/step - loss: 0.0114 - val_loss: 0.0124\n",
            "Epoch 79/100\n",
            "600/600 [==============================] - 6s 10ms/step - loss: 0.0114 - val_loss: 0.0123\n",
            "Epoch 80/100\n",
            "600/600 [==============================] - 6s 10ms/step - loss: 0.0114 - val_loss: 0.0123\n",
            "Epoch 81/100\n",
            "600/600 [==============================] - 6s 10ms/step - loss: 0.0114 - val_loss: 0.0123\n",
            "Epoch 82/100\n",
            "600/600 [==============================] - 6s 10ms/step - loss: 0.0114 - val_loss: 0.0123\n",
            "Epoch 83/100\n",
            "600/600 [==============================] - 6s 10ms/step - loss: 0.0114 - val_loss: 0.0124\n",
            "Epoch 84/100\n",
            "600/600 [==============================] - 6s 10ms/step - loss: 0.0114 - val_loss: 0.0123\n",
            "Epoch 85/100\n",
            "600/600 [==============================] - 6s 10ms/step - loss: 0.0114 - val_loss: 0.0124\n",
            "Epoch 86/100\n",
            "600/600 [==============================] - 6s 10ms/step - loss: 0.0114 - val_loss: 0.0123\n",
            "Epoch 87/100\n",
            "600/600 [==============================] - 6s 10ms/step - loss: 0.0114 - val_loss: 0.0124\n",
            "Epoch 88/100\n",
            "600/600 [==============================] - 6s 10ms/step - loss: 0.0114 - val_loss: 0.0123\n",
            "Epoch 89/100\n",
            "600/600 [==============================] - 6s 10ms/step - loss: 0.0114 - val_loss: 0.0123\n",
            "Epoch 90/100\n",
            "600/600 [==============================] - 6s 10ms/step - loss: 0.0114 - val_loss: 0.0124\n",
            "Epoch 91/100\n",
            "600/600 [==============================] - 6s 10ms/step - loss: 0.0113 - val_loss: 0.0120\n",
            "Epoch 92/100\n",
            "600/600 [==============================] - 6s 10ms/step - loss: 0.0111 - val_loss: 0.0120\n",
            "Epoch 93/100\n",
            "600/600 [==============================] - 6s 10ms/step - loss: 0.0111 - val_loss: 0.0120\n",
            "Epoch 94/100\n",
            "600/600 [==============================] - 6s 10ms/step - loss: 0.0111 - val_loss: 0.0120\n",
            "Epoch 95/100\n",
            "600/600 [==============================] - 6s 11ms/step - loss: 0.0111 - val_loss: 0.0122\n",
            "Epoch 96/100\n",
            "600/600 [==============================] - 6s 10ms/step - loss: 0.0111 - val_loss: 0.0120\n",
            "Epoch 97/100\n",
            "600/600 [==============================] - 6s 10ms/step - loss: 0.0111 - val_loss: 0.0120\n",
            "Epoch 98/100\n",
            "600/600 [==============================] - 6s 10ms/step - loss: 0.0111 - val_loss: 0.0120\n",
            "Epoch 99/100\n",
            "600/600 [==============================] - 6s 10ms/step - loss: 0.0110 - val_loss: 0.0120\n",
            "Epoch 100/100\n",
            "600/600 [==============================] - 6s 11ms/step - loss: 0.0110 - val_loss: 0.0120\n"
          ],
          "name": "stdout"
        }
      ]
    },
    {
      "cell_type": "code",
      "metadata": {
        "colab": {
          "base_uri": "https://localhost:8080/",
          "height": 428
        },
        "id": "pU8woAmXEusF",
        "outputId": "6ed444bf-f2b6-4231-9016-61dac916ee47"
      },
      "source": [
        "plt.figure(figsize=(14,7))\n",
        "plt.plot(history.history['loss'][10:], \n",
        "         label='Средняя абсолютная ошибка на обучающем наборе')\n",
        "plt.plot(history.history['val_loss'][10:], \n",
        "         label='Средняя абсолютная ошибка на проверочном наборе')\n",
        "plt.ylabel('Средняя ошибка')\n",
        "plt.legend()\n",
        "plt.show()"
      ],
      "execution_count": null,
      "outputs": [
        {
          "output_type": "display_data",
          "data": {
            "image/png": "[encoded data removed]",
            "text/plain": [
              "<Figure size 1008x504 with 1 Axes>"
            ]
          },
          "metadata": {
            "needs_background": "light"
          }
        }
      ]
    },
    {
      "cell_type": "code",
      "metadata": {
        "id": "9pwWhyQrpojE"
      },
      "source": [
        "pred = modelDenoise.predict(xTest)\n",
        "pred = pred * 255\n",
        "pred = pred.astype('uint8')"
      ],
      "execution_count": null,
      "outputs": []
    },
    {
      "cell_type": "code",
      "metadata": {
        "colab": {
          "base_uri": "https://localhost:8080/",
          "height": 279
        },
        "id": "XxaEEol8qOQS",
        "outputId": "42a86d39-f5f6-48a3-b36a-969bbc458ee0"
      },
      "source": [
        "plotImages(xTest, pred)"
      ],
      "execution_count": null,
      "outputs": [
        {
          "output_type": "display_data",
          "data": {
            "image/png": "[encoded data removed]",
            "text/plain": [
              "<Figure size 720x360 with 10 Axes>"
            ]
          },
          "metadata": {
            "needs_background": "light"
          }
        }
      ]
    }
  ]
}